{
 "cells": [
  {
   "cell_type": "code",
   "execution_count": 688,
   "metadata": {},
   "outputs": [],
   "source": [
    "#import sys\n",
    "#!{sys.executable} -m pip install statsmodels"
   ]
  },
  {
   "cell_type": "code",
   "execution_count": 689,
   "metadata": {},
   "outputs": [],
   "source": [
    "import function\n",
    "import plotly.express as px\n",
    "import pandas as pd\n",
    "import numpy as np\n",
    "import matplotlib\n",
    "import matplotlib.pyplot as plt\n",
    "from scipy.stats import skew, kurtosis, t\n",
    "\n",
    "from pandas.plotting import scatter_matrix\n",
    "import seaborn as sns\n",
    "from sklearn.preprocessing import LabelEncoder, Normalizer, OneHotEncoder\n",
    "from sklearn.linear_model import LogisticRegression, LinearRegression\n",
    "from sklearn.model_selection import train_test_split\n",
    "import plotly.graph_objects as go\n",
    "from sklearn.metrics import accuracy_score\n",
    "import statsmodels.api as sm\n",
    "import statsmodels.formula.api as smf\n",
    "import plotly.graph_objs as go\n",
    "from ipywidgets import *\n",
    "from importlib import reload\n"
   ]
  },
  {
   "cell_type": "code",
   "execution_count": 690,
   "metadata": {},
   "outputs": [
    {
     "name": "stdout",
     "output_type": "stream",
     "text": [
      "(3197, 25)\n",
      "Index(['Name', 'Style', 'Brewery', 'Beer Name (Full)', 'Description', 'ABV',\n",
      "       'Min IBU', 'Max IBU', 'Astringency', 'Body', 'Alcohol', 'Bitter',\n",
      "       'Sweet', 'Sour', 'Salty', 'Fruits', 'Hoppy', 'Spices', 'Malty',\n",
      "       'review_aroma', 'review_appearance', 'review_palate', 'review_taste',\n",
      "       'review_overall', 'number_of_reviews'],\n",
      "      dtype='object')\n"
     ]
    }
   ],
   "source": [
    "df = pd.read_csv(\"soMuchWorkIHadToDrinkOneBeer.csv\" )\n",
    "Y = df[\"review_overall\"]\n",
    "\n",
    "print(df.shape)\n",
    "print(df.columns)\n",
    "\n",
    "function = reload(function)\n"
   ]
  },
  {
   "attachments": {},
   "cell_type": "markdown",
   "metadata": {},
   "source": [
    "## task 1 : Separate arbitrarily a small subset of observations from the dataset"
   ]
  },
  {
   "attachments": {},
   "cell_type": "markdown",
   "metadata": {},
   "source": [
    "## task 2: Formulating an objective"
   ]
  },
  {
   "attachments": {},
   "cell_type": "markdown",
   "metadata": {},
   "source": [
    "the objective with this dataset is to be able to predict the \"review_overall\" of a element \n",
    "\n",
    "we could also try to determine what factors have the most impact on a score and give feedback to improve a beer based on it's attributes :\n",
    "\n",
    "Here is an outline of the process:\n",
    "\n",
    "    -Collect a labeled dataset, where each entry is associated with a score and its attributes.\n",
    "    -Preprocess the data, including splitting it into training and testing sets.\n",
    "    -Train a model on the training set, using a supervised learning algorithm such as linear regression, decision tree, or random forest.\n",
    "    -Test the model on the testing set and evaluate its performance.\n",
    "    -Use the trained model to predict the score for a new entry with the attributes you want to change.\n",
    "    -Modify the attributes of the new entry and re-predict the score using the trained model.\n",
    "    -Compare the scores obtained before and after modifying the attributes to determine which attribute changes lead to an improvement in the score.\n",
    "\n",
    "It's worth noting that this process assumes that the relationship between the attributes and the score is linear or can be approximated by a linear model. If this is not the case, you may need to use a more complex model or consider other approaches to identify the attribute changes that lead to an improvement in the score."
   ]
  },
  {
   "attachments": {},
   "cell_type": "markdown",
   "metadata": {},
   "source": [
    "## task 3: Descriptive analysis "
   ]
  },
  {
   "attachments": {},
   "cell_type": "markdown",
   "metadata": {},
   "source": [
    "| - informative variables: | - Qualitative variables:   | - Quantitative variable: | - Scores: |\n",
    "|------|------|------|------|\n",
    "|   1 Name |1 Style|1 ABV|1 review_aroma\n",
    "|2 Full Name |2 brewery|2 Min IBU|2 review_appearance\n",
    "|3 description  | | 3 Max IBU|3 review_palate\n",
    "| | |4 Astringency|4 review_taste\n",
    "| | |5 Body|///////////////////////////////////|\n",
    "| | |6 Alcohol|5 review_overall\n",
    "| | |7 Bitter|\n",
    "| | |8 Sweet|\n",
    "| | |9 Sour|\n",
    "| | |10 Salty|\n",
    "| | |11 Fruits|\n",
    "| | |12 Hoppy|\n",
    "| | |13 Spices|\n",
    "| | |14 Malty| \n",
    "\n",
    "\n",
    "The informative variables don't give a lot of information about the score that are not already presents in the other variables. Therefore they wont be used \n",
    "\n",
    "The qualitative variables will be one-hot encoded to be treated as Quantitative variables \n",
    "\n",
    "The Quantitative variables will be used as his \n",
    "\n",
    "the scores will be used as target for the model "
   ]
  },
  {
   "attachments": {},
   "cell_type": "markdown",
   "metadata": {},
   "source": [
    "| name              |      mean |        std |   skewness |   kurtosis |\n",
    "|:------------------|----------:|-----------:|-----------:|-----------:|\n",
    "| Style             |  55.5705  |  32.3737   | -0.0196824 |  -1.18762  |\n",
    "| Brewery           | 296.225   | 169.184    | -0.178968  |  -1.2789   |\n",
    "| ABV               |   6.52669 |   2.547    |  3.67993   |  55.2444   |\n",
    "| Min IBU           |  21.1805  |  13.2422   |  1.09326   |   1.32465  |\n",
    "| Max IBU           |  38.9869  |  21.3553   |  0.99054   |   0.977638 |\n",
    "| Astringency       |  16.5158  |  10.4107   |  1.31567   |   2.7722   |\n",
    "| Body              |  46.1295  |  25.9478   |  1.14028   |   1.61526  |\n",
    "| Alcohol           |  17.056   |  17.3313   |  2.23306   |   6.28596  |\n",
    "| Bitter            |  36.3644  |  25.7912   |  1.00606   |   0.938633 |\n",
    "| Sweet             |  58.2709  |  34.2813   |  0.905323  |   1.31787  |\n",
    "| Sour              |  33.1454  |  35.7802   |  2.52257   |   7.85566  |\n",
    "| Salty             |   1.0172  |   2.13265  |  7.53925   | 115.175    |\n",
    "| Fruits            |  38.5296  |  32.2966   |  0.944666  |   0.220681 |\n",
    "| Hoppy             |  40.9246  |  30.4036   |  1.10125   |   0.909249 |\n",
    "| Spices            |  18.3456  |  23.7566   |  2.89396   |  10.4379   |\n",
    "| Malty             |  75.3309  |  39.9093   |  0.382408  |  -0.195185 |\n",
    "| review_aroma      |   3.63879 |   0.503209 | -1.09663   |   1.739    |\n",
    "| review_appearance |   3.75439 |   0.403416 | -1.41173   |   2.90485  |\n",
    "| review_palate     |   3.66043 |   0.449937 | -1.19533   |   2.19325  |\n",
    "| review_taste      |   3.7025  |   0.510361 | -1.15676   |   1.9346   |\n",
    "| review_overall    |   3.74752 |   0.444288 | -1.31737   |   2.72505  |\n",
    "| number_of_reviews | 233.285   | 361.812    |  3.02845   |  11.8498   |"
   ]
  },
  {
   "cell_type": "code",
   "execution_count": 691,
   "metadata": {},
   "outputs": [
    {
     "data": {
      "text/plain": [
       "'def set_to_nan(df , name):\\n    counts = df[name].value_counts()\\n    to_replace = counts[counts == 1].index\\n\\n    # Replace these elements with NaN\\n    df[name].replace(to_replace, np.nan, inplace=True)'"
      ]
     },
     "execution_count": 691,
     "metadata": {},
     "output_type": "execute_result"
    }
   ],
   "source": [
    "\n",
    "def describe_columns(dataset):\n",
    "    # create an empty dataframe to store the results\n",
    "    results = pd.DataFrame(columns=[\"name\",'mean', 'std', 'skewness', 'kurtosis'])\n",
    "    \n",
    "    # iterate over each column in the dataset\n",
    "    for col in dataset.columns:\n",
    "\n",
    "        if (dataset[col].dtypes == float or dataset[col].dtypes == np.int64):\n",
    "        # calculate the mean, standard deviation, skewness, and kurtosis\n",
    "            \n",
    "            mean = dataset[col].mean()\n",
    "            std = dataset[col].std()\n",
    "            skewness = skew(dataset[col])\n",
    "            kurt = kurtosis(dataset[col])\n",
    "            results.loc[col] = [ col, mean, std, skewness, kurt]\n",
    "\n",
    "       \n",
    "        \n",
    "    return results\n",
    "\n",
    "\"\"\"def set_to_nan(df , name):\n",
    "    counts = df[name].value_counts()\n",
    "    to_replace = counts[counts == 1].index\n",
    "\n",
    "    # Replace these elements with NaN\n",
    "    df[name].replace(to_replace, np.nan, inplace=True)\"\"\"\n"
   ]
  },
  {
   "cell_type": "code",
   "execution_count": 692,
   "metadata": {},
   "outputs": [
    {
     "name": "stdout",
     "output_type": "stream",
     "text": [
      "11\n",
      "934\n"
     ]
    }
   ],
   "source": [
    "nbr_style = df['Style'].nunique()\n",
    "print(nbr_style)\n",
    "nbr_brewery = df['Brewery'].nunique()\n",
    "print(nbr_brewery)"
   ]
  },
  {
   "cell_type": "code",
   "execution_count": 693,
   "metadata": {},
   "outputs": [
    {
     "name": "stdout",
     "output_type": "stream",
     "text": [
      "20\n",
      "| name              |      mean |        std |   skewness |   kurtosis |\n",
      "|:------------------|----------:|-----------:|-----------:|-----------:|\n",
      "| ABV               |   6.52669 |   2.547    |   3.67993  |  55.2444   |\n",
      "| Min IBU           |  21.1805  |  13.2422   |   1.09326  |   1.32465  |\n",
      "| Max IBU           |  38.9869  |  21.3553   |   0.99054  |   0.977638 |\n",
      "| Astringency       |  16.5158  |  10.4107   |   1.31567  |   2.7722   |\n",
      "| Body              |  46.1295  |  25.9478   |   1.14028  |   1.61526  |\n",
      "| Alcohol           |  17.056   |  17.3313   |   2.23306  |   6.28596  |\n",
      "| Bitter            |  36.3644  |  25.7912   |   1.00606  |   0.938633 |\n",
      "| Sweet             |  58.2709  |  34.2813   |   0.905323 |   1.31787  |\n",
      "| Sour              |  33.1454  |  35.7802   |   2.52257  |   7.85566  |\n",
      "| Salty             |   1.0172  |   2.13265  |   7.53925  | 115.175    |\n",
      "| Fruits            |  38.5296  |  32.2966   |   0.944666 |   0.220681 |\n",
      "| Hoppy             |  40.9246  |  30.4036   |   1.10125  |   0.909249 |\n",
      "| Spices            |  18.3456  |  23.7566   |   2.89396  |  10.4379   |\n",
      "| Malty             |  75.3309  |  39.9093   |   0.382408 |  -0.195185 |\n",
      "| review_aroma      |   3.63879 |   0.503209 |  -1.09663  |   1.739    |\n",
      "| review_appearance |   3.75439 |   0.403416 |  -1.41173  |   2.90485  |\n",
      "| review_palate     |   3.66043 |   0.449937 |  -1.19533  |   2.19325  |\n",
      "| review_taste      |   3.7025  |   0.510361 |  -1.15676  |   1.9346   |\n",
      "| review_overall    |   3.74752 |   0.444288 |  -1.31737  |   2.72505  |\n",
      "| number_of_reviews | 233.285   | 361.812    |   3.02845  |  11.8498   |\n"
     ]
    }
   ],
   "source": [
    "table = describe_columns(df)\n",
    "print(len(table))\n",
    "markdown_table = table.to_markdown(index=False)\n",
    "print(markdown_table)"
   ]
  },
  {
   "cell_type": "code",
   "execution_count": 694,
   "metadata": {},
   "outputs": [
    {
     "name": "stdout",
     "output_type": "stream",
     "text": [
      "(3197, 22)\n"
     ]
    },
    {
     "data": {
      "application/vnd.plotly.v1+json": {
       "config": {
        "plotlyServerURL": "https://plot.ly"
       },
       "data": [
        {
         "coloraxis": "coloraxis",
         "hovertemplate": "x: %{x}<br>y: %{y}<br>color: %{z}<extra></extra>",
         "name": "0",
         "type": "heatmap",
         "x": [
          "ABV",
          "Min IBU",
          "Max IBU",
          "Astringency",
          "Body",
          "Alcohol",
          "Bitter",
          "Sweet",
          "Sour",
          "Salty",
          "Fruits",
          "Hoppy",
          "Spices",
          "Malty",
          "review_aroma",
          "review_appearance",
          "review_palate",
          "review_taste",
          "review_overall",
          "number_of_reviews"
         ],
         "xaxis": "x",
         "y": [
          "ABV",
          "Min IBU",
          "Max IBU",
          "Astringency",
          "Body",
          "Alcohol",
          "Bitter",
          "Sweet",
          "Sour",
          "Salty",
          "Fruits",
          "Hoppy",
          "Spices",
          "Malty",
          "review_aroma",
          "review_appearance",
          "review_palate",
          "review_taste",
          "review_overall",
          "number_of_reviews"
         ],
         "yaxis": "y",
         "z": [
          [
           1,
           0.43200477665904574,
           0.5010372783119746,
           -0.16952051716577507,
           0.24167311788681703,
           0.6549081323635036,
           0.06738791508283876,
           0.46348749513500276,
           0.10079488302184561,
           -0.12008882919383904,
           0.29100109277727054,
           -0.05259620244165197,
           0.19146831112259513,
           0.16206017611718923,
           0.41619724615683845,
           0.34913871674655444,
           0.3925173324497407,
           0.3811995105532268,
           0.2518383122401136,
           0.14217647481509024
          ],
          [
           0.43200477665904574,
           1,
           0.8542480600507887,
           -0.07150127451953407,
           0.3253379041925936,
           0.32369407563839164,
           0.5394521554851789,
           0.22713877649606168,
           -0.07309795574359289,
           -0.05751176844051561,
           0.06633531965284262,
           0.40747531734544745,
           -0.0461517859190685,
           0.3000406724478305,
           0.34373013551156395,
           0.38090775266364507,
           0.35272349117227253,
           0.339885080757951,
           0.289971666247407,
           0.21982152585628406
          ],
          [
           0.5010372783119746,
           0.8542480600507887,
           1,
           -0.12027327734434598,
           0.3106166641156924,
           0.39281140170071044,
           0.47808036293411926,
           0.2772921758743726,
           -0.04327508004901294,
           -0.08321351751772345,
           0.17292850877520646,
           0.34516751941723006,
           0.04453345629487107,
           0.28821916236243894,
           0.3694556864027763,
           0.3796546130429575,
           0.35560783798624485,
           0.34655698907822774,
           0.27196911002078644,
           0.22157176687101618
          ],
          [
           -0.16952051716577507,
           -0.07150127451953407,
           -0.12027327734434598,
           1,
           -0.05953970774305938,
           -0.1719868781247495,
           0.11468597684445116,
           -0.02145639576338612,
           0.5710299129120371,
           0.34715503775566947,
           0.3452321317863023,
           0.3309508451545472,
           -0.08379501878024592,
           -0.08208536560219601,
           0.06857917206758755,
           0.07094825706471011,
           0.10695047976167632,
           0.09202076708070223,
           0.1597875128768486,
           -0.05006181359722321
          ],
          [
           0.24167311788681703,
           0.3253379041925936,
           0.3106166641156924,
           -0.05953970774305938,
           1,
           0.2688850065727633,
           0.5422364208696798,
           0.45884179682525456,
           -0.1267333137496675,
           -0.09927735210556797,
           -0.04815457264068544,
           0.07013822759162582,
           0.18512299231000692,
           0.7542281845837226,
           0.36023421182812543,
           0.4213314223351959,
           0.345269714916101,
           0.3650548810392072,
           0.31382440495783587,
           0.03905718011237272
          ],
          [
           0.6549081323635036,
           0.32369407563839164,
           0.39281140170071044,
           -0.1719868781247495,
           0.2688850065727633,
           1,
           0.009087782280761429,
           0.5270388893620067,
           0.048767387722872896,
           -0.09432929331845473,
           0.25429906332903723,
           -0.07994928814997322,
           0.2528757933387742,
           0.27010560808305495,
           0.24298928253092314,
           0.18469299563504687,
           0.20556912229440716,
           0.20670118168808124,
           0.06978876810912928,
           0.048345599584645946
          ],
          [
           0.06738791508283876,
           0.5394521554851789,
           0.47808036293411926,
           0.11468597684445116,
           0.5422364208696798,
           0.009087782280761429,
           1,
           0.09170546736299781,
           -0.13691368779295057,
           0.0046928247751188285,
           -0.09344986422707176,
           0.7128867533688303,
           -0.08404810274876928,
           0.565570029162079,
           0.241456529108836,
           0.33185394415509345,
           0.25726679730226554,
           0.2533732926955554,
           0.26087406999180285,
           0.11202585596088833
          ],
          [
           0.46348749513500276,
           0.22713877649606168,
           0.2772921758743726,
           -0.02145639576338612,
           0.45884179682525456,
           0.5270388893620067,
           0.09170546736299781,
           1,
           0.25791256079784786,
           -0.13191783352449574,
           0.4820299442835623,
           -0.03432744915907549,
           0.10754762278775094,
           0.4710319651832938,
           0.3565137920263399,
           0.33231063981131787,
           0.3157673130128866,
           0.32227711739879933,
           0.20729346564619205,
           0.048486712925610645
          ],
          [
           0.10079488302184561,
           -0.07309795574359289,
           -0.04327508004901294,
           0.5710299129120371,
           -0.1267333137496675,
           0.048767387722872896,
           -0.13691368779295057,
           0.25791256079784786,
           1,
           0.09817284186732218,
           0.7858825416364535,
           0.06889460699706648,
           0.0018310364731186773,
           -0.30326637348114505,
           0.28931961099919484,
           0.20481689880415982,
           0.24516869381765807,
           0.24431417862792837,
           0.21344859990565876,
           0.006642086083797162
          ],
          [
           -0.12008882919383904,
           -0.05751176844051561,
           -0.08321351751772345,
           0.34715503775566947,
           -0.09927735210556797,
           -0.09432929331845473,
           0.0046928247751188285,
           -0.13191783352449574,
           0.09817284186732218,
           1,
           0.02691958490838415,
           0.17260617792048957,
           -0.023078823311561115,
           -0.02824128919842652,
           -0.08820980834405952,
           -0.08138801604957045,
           -0.038413240816782185,
           -0.05747906971692455,
           -0.00819874951213658,
           -0.029680014522977815
          ],
          [
           0.29100109277727054,
           0.06633531965284262,
           0.17292850877520646,
           0.3452321317863023,
           -0.04815457264068544,
           0.25429906332903723,
           -0.09344986422707176,
           0.4820299442835623,
           0.7858825416364535,
           0.02691958490838415,
           1,
           0.11040733803908562,
           0.14828126418593876,
           -0.1968896890781521,
           0.38667569643848027,
           0.28859444715293475,
           0.32490572801845724,
           0.31968968315435864,
           0.2615043986833805,
           0.10622342939329302
          ],
          [
           -0.05259620244165197,
           0.40747531734544745,
           0.34516751941723006,
           0.3309508451545472,
           0.07013822759162582,
           -0.07994928814997322,
           0.7128867533688303,
           -0.03432744915907549,
           0.06889460699706648,
           0.17260617792048957,
           0.11040733803908562,
           1,
           -0.13196370673594826,
           0.19576698274906149,
           0.099831963806131,
           0.18022355568974965,
           0.1598587944014695,
           0.12555954089203167,
           0.1750713081232067,
           0.09380041954379695
          ],
          [
           0.19146831112259513,
           -0.0461517859190685,
           0.04453345629487107,
           -0.08379501878024592,
           0.18512299231000692,
           0.2528757933387742,
           -0.08404810274876928,
           0.10754762278775094,
           0.0018310364731186773,
           -0.023078823311561115,
           0.14828126418593876,
           -0.13196370673594826,
           1,
           0.06139855645412414,
           0.2723115578771355,
           0.1960142902569055,
           0.19902386887897125,
           0.21736483543663482,
           0.14112513697996393,
           -0.014846775825126285
          ],
          [
           0.16206017611718923,
           0.3000406724478305,
           0.28821916236243894,
           -0.08208536560219601,
           0.7542281845837226,
           0.27010560808305495,
           0.565570029162079,
           0.4710319651832938,
           -0.30326637348114505,
           -0.02824128919842652,
           -0.1968896890781521,
           0.19576698274906149,
           0.06139855645412414,
           1,
           0.20566480366557932,
           0.2880894663527059,
           0.2310316122719316,
           0.23662389640496115,
           0.2129895580040338,
           0.006597591846421906
          ],
          [
           0.41619724615683845,
           0.34373013551156395,
           0.3694556864027763,
           0.06857917206758755,
           0.36023421182812543,
           0.24298928253092314,
           0.241456529108836,
           0.3565137920263399,
           0.28931961099919484,
           -0.08820980834405952,
           0.38667569643848027,
           0.099831963806131,
           0.2723115578771355,
           0.20566480366557932,
           1,
           0.8556294488178624,
           0.9074330781952731,
           0.9366701917449554,
           0.8705038908535987,
           0.17403328727695824
          ],
          [
           0.34913871674655444,
           0.38090775266364507,
           0.3796546130429575,
           0.07094825706471011,
           0.4213314223351959,
           0.18469299563504687,
           0.33185394415509345,
           0.33231063981131787,
           0.20481689880415982,
           -0.08138801604957045,
           0.28859444715293475,
           0.18022355568974965,
           0.1960142902569055,
           0.2880894663527059,
           0.8556294488178624,
           1,
           0.8699784091128824,
           0.850692773780748,
           0.8134435768523877,
           0.1912128716387045
          ],
          [
           0.3925173324497407,
           0.35272349117227253,
           0.35560783798624485,
           0.10695047976167632,
           0.345269714916101,
           0.20556912229440716,
           0.25726679730226554,
           0.3157673130128866,
           0.24516869381765807,
           -0.038413240816782185,
           0.32490572801845724,
           0.1598587944014695,
           0.19902386887897125,
           0.2310316122719316,
           0.9074330781952731,
           0.8699784091128824,
           1,
           0.9465200003969034,
           0.9181541750546913,
           0.18563093591002836
          ],
          [
           0.3811995105532268,
           0.339885080757951,
           0.34655698907822774,
           0.09202076708070223,
           0.3650548810392072,
           0.20670118168808124,
           0.2533732926955554,
           0.32227711739879933,
           0.24431417862792837,
           -0.05747906971692455,
           0.31968968315435864,
           0.12555954089203167,
           0.21736483543663482,
           0.23662389640496115,
           0.9366701917449554,
           0.850692773780748,
           0.9465200003969034,
           1,
           0.9371015801964362,
           0.1905878550904916
          ],
          [
           0.2518383122401136,
           0.289971666247407,
           0.27196911002078644,
           0.1597875128768486,
           0.31382440495783587,
           0.06978876810912928,
           0.26087406999180285,
           0.20729346564619205,
           0.21344859990565876,
           -0.00819874951213658,
           0.2615043986833805,
           0.1750713081232067,
           0.14112513697996393,
           0.2129895580040338,
           0.8705038908535987,
           0.8134435768523877,
           0.9181541750546913,
           0.9371015801964362,
           1,
           0.17651138884966508
          ],
          [
           0.14217647481509024,
           0.21982152585628406,
           0.22157176687101618,
           -0.05006181359722321,
           0.03905718011237272,
           0.048345599584645946,
           0.11202585596088833,
           0.048486712925610645,
           0.006642086083797162,
           -0.029680014522977815,
           0.10622342939329302,
           0.09380041954379695,
           -0.014846775825126285,
           0.006597591846421906,
           0.17403328727695824,
           0.1912128716387045,
           0.18563093591002836,
           0.1905878550904916,
           0.17651138884966508,
           1
          ]
         ]
        }
       ],
       "layout": {
        "coloraxis": {
         "colorscale": [
          [
           0,
           "#0d0887"
          ],
          [
           0.1111111111111111,
           "#46039f"
          ],
          [
           0.2222222222222222,
           "#7201a8"
          ],
          [
           0.3333333333333333,
           "#9c179e"
          ],
          [
           0.4444444444444444,
           "#bd3786"
          ],
          [
           0.5555555555555556,
           "#d8576b"
          ],
          [
           0.6666666666666666,
           "#ed7953"
          ],
          [
           0.7777777777777778,
           "#fb9f3a"
          ],
          [
           0.8888888888888888,
           "#fdca26"
          ],
          [
           1,
           "#f0f921"
          ]
         ]
        },
        "template": {
         "data": {
          "bar": [
           {
            "error_x": {
             "color": "#2a3f5f"
            },
            "error_y": {
             "color": "#2a3f5f"
            },
            "marker": {
             "line": {
              "color": "#E5ECF6",
              "width": 0.5
             },
             "pattern": {
              "fillmode": "overlay",
              "size": 10,
              "solidity": 0.2
             }
            },
            "type": "bar"
           }
          ],
          "barpolar": [
           {
            "marker": {
             "line": {
              "color": "#E5ECF6",
              "width": 0.5
             },
             "pattern": {
              "fillmode": "overlay",
              "size": 10,
              "solidity": 0.2
             }
            },
            "type": "barpolar"
           }
          ],
          "carpet": [
           {
            "aaxis": {
             "endlinecolor": "#2a3f5f",
             "gridcolor": "white",
             "linecolor": "white",
             "minorgridcolor": "white",
             "startlinecolor": "#2a3f5f"
            },
            "baxis": {
             "endlinecolor": "#2a3f5f",
             "gridcolor": "white",
             "linecolor": "white",
             "minorgridcolor": "white",
             "startlinecolor": "#2a3f5f"
            },
            "type": "carpet"
           }
          ],
          "choropleth": [
           {
            "colorbar": {
             "outlinewidth": 0,
             "ticks": ""
            },
            "type": "choropleth"
           }
          ],
          "contour": [
           {
            "colorbar": {
             "outlinewidth": 0,
             "ticks": ""
            },
            "colorscale": [
             [
              0,
              "#0d0887"
             ],
             [
              0.1111111111111111,
              "#46039f"
             ],
             [
              0.2222222222222222,
              "#7201a8"
             ],
             [
              0.3333333333333333,
              "#9c179e"
             ],
             [
              0.4444444444444444,
              "#bd3786"
             ],
             [
              0.5555555555555556,
              "#d8576b"
             ],
             [
              0.6666666666666666,
              "#ed7953"
             ],
             [
              0.7777777777777778,
              "#fb9f3a"
             ],
             [
              0.8888888888888888,
              "#fdca26"
             ],
             [
              1,
              "#f0f921"
             ]
            ],
            "type": "contour"
           }
          ],
          "contourcarpet": [
           {
            "colorbar": {
             "outlinewidth": 0,
             "ticks": ""
            },
            "type": "contourcarpet"
           }
          ],
          "heatmap": [
           {
            "colorbar": {
             "outlinewidth": 0,
             "ticks": ""
            },
            "colorscale": [
             [
              0,
              "#0d0887"
             ],
             [
              0.1111111111111111,
              "#46039f"
             ],
             [
              0.2222222222222222,
              "#7201a8"
             ],
             [
              0.3333333333333333,
              "#9c179e"
             ],
             [
              0.4444444444444444,
              "#bd3786"
             ],
             [
              0.5555555555555556,
              "#d8576b"
             ],
             [
              0.6666666666666666,
              "#ed7953"
             ],
             [
              0.7777777777777778,
              "#fb9f3a"
             ],
             [
              0.8888888888888888,
              "#fdca26"
             ],
             [
              1,
              "#f0f921"
             ]
            ],
            "type": "heatmap"
           }
          ],
          "heatmapgl": [
           {
            "colorbar": {
             "outlinewidth": 0,
             "ticks": ""
            },
            "colorscale": [
             [
              0,
              "#0d0887"
             ],
             [
              0.1111111111111111,
              "#46039f"
             ],
             [
              0.2222222222222222,
              "#7201a8"
             ],
             [
              0.3333333333333333,
              "#9c179e"
             ],
             [
              0.4444444444444444,
              "#bd3786"
             ],
             [
              0.5555555555555556,
              "#d8576b"
             ],
             [
              0.6666666666666666,
              "#ed7953"
             ],
             [
              0.7777777777777778,
              "#fb9f3a"
             ],
             [
              0.8888888888888888,
              "#fdca26"
             ],
             [
              1,
              "#f0f921"
             ]
            ],
            "type": "heatmapgl"
           }
          ],
          "histogram": [
           {
            "marker": {
             "pattern": {
              "fillmode": "overlay",
              "size": 10,
              "solidity": 0.2
             }
            },
            "type": "histogram"
           }
          ],
          "histogram2d": [
           {
            "colorbar": {
             "outlinewidth": 0,
             "ticks": ""
            },
            "colorscale": [
             [
              0,
              "#0d0887"
             ],
             [
              0.1111111111111111,
              "#46039f"
             ],
             [
              0.2222222222222222,
              "#7201a8"
             ],
             [
              0.3333333333333333,
              "#9c179e"
             ],
             [
              0.4444444444444444,
              "#bd3786"
             ],
             [
              0.5555555555555556,
              "#d8576b"
             ],
             [
              0.6666666666666666,
              "#ed7953"
             ],
             [
              0.7777777777777778,
              "#fb9f3a"
             ],
             [
              0.8888888888888888,
              "#fdca26"
             ],
             [
              1,
              "#f0f921"
             ]
            ],
            "type": "histogram2d"
           }
          ],
          "histogram2dcontour": [
           {
            "colorbar": {
             "outlinewidth": 0,
             "ticks": ""
            },
            "colorscale": [
             [
              0,
              "#0d0887"
             ],
             [
              0.1111111111111111,
              "#46039f"
             ],
             [
              0.2222222222222222,
              "#7201a8"
             ],
             [
              0.3333333333333333,
              "#9c179e"
             ],
             [
              0.4444444444444444,
              "#bd3786"
             ],
             [
              0.5555555555555556,
              "#d8576b"
             ],
             [
              0.6666666666666666,
              "#ed7953"
             ],
             [
              0.7777777777777778,
              "#fb9f3a"
             ],
             [
              0.8888888888888888,
              "#fdca26"
             ],
             [
              1,
              "#f0f921"
             ]
            ],
            "type": "histogram2dcontour"
           }
          ],
          "mesh3d": [
           {
            "colorbar": {
             "outlinewidth": 0,
             "ticks": ""
            },
            "type": "mesh3d"
           }
          ],
          "parcoords": [
           {
            "line": {
             "colorbar": {
              "outlinewidth": 0,
              "ticks": ""
             }
            },
            "type": "parcoords"
           }
          ],
          "pie": [
           {
            "automargin": true,
            "type": "pie"
           }
          ],
          "scatter": [
           {
            "marker": {
             "colorbar": {
              "outlinewidth": 0,
              "ticks": ""
             }
            },
            "type": "scatter"
           }
          ],
          "scatter3d": [
           {
            "line": {
             "colorbar": {
              "outlinewidth": 0,
              "ticks": ""
             }
            },
            "marker": {
             "colorbar": {
              "outlinewidth": 0,
              "ticks": ""
             }
            },
            "type": "scatter3d"
           }
          ],
          "scattercarpet": [
           {
            "marker": {
             "colorbar": {
              "outlinewidth": 0,
              "ticks": ""
             }
            },
            "type": "scattercarpet"
           }
          ],
          "scattergeo": [
           {
            "marker": {
             "colorbar": {
              "outlinewidth": 0,
              "ticks": ""
             }
            },
            "type": "scattergeo"
           }
          ],
          "scattergl": [
           {
            "marker": {
             "colorbar": {
              "outlinewidth": 0,
              "ticks": ""
             }
            },
            "type": "scattergl"
           }
          ],
          "scattermapbox": [
           {
            "marker": {
             "colorbar": {
              "outlinewidth": 0,
              "ticks": ""
             }
            },
            "type": "scattermapbox"
           }
          ],
          "scatterpolar": [
           {
            "marker": {
             "colorbar": {
              "outlinewidth": 0,
              "ticks": ""
             }
            },
            "type": "scatterpolar"
           }
          ],
          "scatterpolargl": [
           {
            "marker": {
             "colorbar": {
              "outlinewidth": 0,
              "ticks": ""
             }
            },
            "type": "scatterpolargl"
           }
          ],
          "scatterternary": [
           {
            "marker": {
             "colorbar": {
              "outlinewidth": 0,
              "ticks": ""
             }
            },
            "type": "scatterternary"
           }
          ],
          "surface": [
           {
            "colorbar": {
             "outlinewidth": 0,
             "ticks": ""
            },
            "colorscale": [
             [
              0,
              "#0d0887"
             ],
             [
              0.1111111111111111,
              "#46039f"
             ],
             [
              0.2222222222222222,
              "#7201a8"
             ],
             [
              0.3333333333333333,
              "#9c179e"
             ],
             [
              0.4444444444444444,
              "#bd3786"
             ],
             [
              0.5555555555555556,
              "#d8576b"
             ],
             [
              0.6666666666666666,
              "#ed7953"
             ],
             [
              0.7777777777777778,
              "#fb9f3a"
             ],
             [
              0.8888888888888888,
              "#fdca26"
             ],
             [
              1,
              "#f0f921"
             ]
            ],
            "type": "surface"
           }
          ],
          "table": [
           {
            "cells": {
             "fill": {
              "color": "#EBF0F8"
             },
             "line": {
              "color": "white"
             }
            },
            "header": {
             "fill": {
              "color": "#C8D4E3"
             },
             "line": {
              "color": "white"
             }
            },
            "type": "table"
           }
          ]
         },
         "layout": {
          "annotationdefaults": {
           "arrowcolor": "#2a3f5f",
           "arrowhead": 0,
           "arrowwidth": 1
          },
          "autotypenumbers": "strict",
          "coloraxis": {
           "colorbar": {
            "outlinewidth": 0,
            "ticks": ""
           }
          },
          "colorscale": {
           "diverging": [
            [
             0,
             "#8e0152"
            ],
            [
             0.1,
             "#c51b7d"
            ],
            [
             0.2,
             "#de77ae"
            ],
            [
             0.3,
             "#f1b6da"
            ],
            [
             0.4,
             "#fde0ef"
            ],
            [
             0.5,
             "#f7f7f7"
            ],
            [
             0.6,
             "#e6f5d0"
            ],
            [
             0.7,
             "#b8e186"
            ],
            [
             0.8,
             "#7fbc41"
            ],
            [
             0.9,
             "#4d9221"
            ],
            [
             1,
             "#276419"
            ]
           ],
           "sequential": [
            [
             0,
             "#0d0887"
            ],
            [
             0.1111111111111111,
             "#46039f"
            ],
            [
             0.2222222222222222,
             "#7201a8"
            ],
            [
             0.3333333333333333,
             "#9c179e"
            ],
            [
             0.4444444444444444,
             "#bd3786"
            ],
            [
             0.5555555555555556,
             "#d8576b"
            ],
            [
             0.6666666666666666,
             "#ed7953"
            ],
            [
             0.7777777777777778,
             "#fb9f3a"
            ],
            [
             0.8888888888888888,
             "#fdca26"
            ],
            [
             1,
             "#f0f921"
            ]
           ],
           "sequentialminus": [
            [
             0,
             "#0d0887"
            ],
            [
             0.1111111111111111,
             "#46039f"
            ],
            [
             0.2222222222222222,
             "#7201a8"
            ],
            [
             0.3333333333333333,
             "#9c179e"
            ],
            [
             0.4444444444444444,
             "#bd3786"
            ],
            [
             0.5555555555555556,
             "#d8576b"
            ],
            [
             0.6666666666666666,
             "#ed7953"
            ],
            [
             0.7777777777777778,
             "#fb9f3a"
            ],
            [
             0.8888888888888888,
             "#fdca26"
            ],
            [
             1,
             "#f0f921"
            ]
           ]
          },
          "colorway": [
           "#636efa",
           "#EF553B",
           "#00cc96",
           "#ab63fa",
           "#FFA15A",
           "#19d3f3",
           "#FF6692",
           "#B6E880",
           "#FF97FF",
           "#FECB52"
          ],
          "font": {
           "color": "#2a3f5f"
          },
          "geo": {
           "bgcolor": "white",
           "lakecolor": "white",
           "landcolor": "#E5ECF6",
           "showlakes": true,
           "showland": true,
           "subunitcolor": "white"
          },
          "hoverlabel": {
           "align": "left"
          },
          "hovermode": "closest",
          "mapbox": {
           "style": "light"
          },
          "paper_bgcolor": "white",
          "plot_bgcolor": "#E5ECF6",
          "polar": {
           "angularaxis": {
            "gridcolor": "white",
            "linecolor": "white",
            "ticks": ""
           },
           "bgcolor": "#E5ECF6",
           "radialaxis": {
            "gridcolor": "white",
            "linecolor": "white",
            "ticks": ""
           }
          },
          "scene": {
           "xaxis": {
            "backgroundcolor": "#E5ECF6",
            "gridcolor": "white",
            "gridwidth": 2,
            "linecolor": "white",
            "showbackground": true,
            "ticks": "",
            "zerolinecolor": "white"
           },
           "yaxis": {
            "backgroundcolor": "#E5ECF6",
            "gridcolor": "white",
            "gridwidth": 2,
            "linecolor": "white",
            "showbackground": true,
            "ticks": "",
            "zerolinecolor": "white"
           },
           "zaxis": {
            "backgroundcolor": "#E5ECF6",
            "gridcolor": "white",
            "gridwidth": 2,
            "linecolor": "white",
            "showbackground": true,
            "ticks": "",
            "zerolinecolor": "white"
           }
          },
          "shapedefaults": {
           "line": {
            "color": "#2a3f5f"
           }
          },
          "ternary": {
           "aaxis": {
            "gridcolor": "white",
            "linecolor": "white",
            "ticks": ""
           },
           "baxis": {
            "gridcolor": "white",
            "linecolor": "white",
            "ticks": ""
           },
           "bgcolor": "#E5ECF6",
           "caxis": {
            "gridcolor": "white",
            "linecolor": "white",
            "ticks": ""
           }
          },
          "title": {
           "x": 0.05
          },
          "xaxis": {
           "automargin": true,
           "gridcolor": "white",
           "linecolor": "white",
           "ticks": "",
           "title": {
            "standoff": 15
           },
           "zerolinecolor": "white",
           "zerolinewidth": 2
          },
          "yaxis": {
           "automargin": true,
           "gridcolor": "white",
           "linecolor": "white",
           "ticks": "",
           "title": {
            "standoff": 15
           },
           "zerolinecolor": "white",
           "zerolinewidth": 2
          }
         }
        },
        "title": {
         "text": "Correlation Heat Map"
        },
        "xaxis": {
         "anchor": "y",
         "constrain": "domain",
         "domain": [
          0,
          1
         ],
         "scaleanchor": "y"
        },
        "yaxis": {
         "anchor": "x",
         "autorange": "reversed",
         "constrain": "domain",
         "domain": [
          0,
          1
         ]
        }
       }
      }
     },
     "metadata": {},
     "output_type": "display_data"
    }
   ],
   "source": [
    "dfcorr = df.drop([\"Name\", \"Beer Name (Full)\",\"Description\"], axis=1)\n",
    "print(dfcorr.shape)\n",
    "\n",
    "corr = dfcorr.corr()\n",
    "\n",
    "# Use the seaborn library to create a heat map of the correlations\n",
    "fig = px.imshow(corr, title=\"Correlation Heat Map\")\n",
    "fig.show()"
   ]
  },
  {
   "cell_type": "code",
   "execution_count": 695,
   "metadata": {},
   "outputs": [
    {
     "data": {
      "application/vnd.jupyter.widget-view+json": {
       "model_id": "8f5d1ae4634c414e87e80aecbcae1f94",
       "version_major": 2,
       "version_minor": 0
      },
      "text/plain": [
       "VBox(children=(FigureWidget({\n",
       "    'data': [{'type': 'box',\n",
       "              'uid': '2c8d4305-0143-4a83-adcb-a5089…"
      ]
     },
     "metadata": {},
     "output_type": "display_data"
    }
   ],
   "source": [
    "\n",
    "function.InteractiveBoxPlot(dfcorr)\n",
    "\n"
   ]
  },
  {
   "attachments": {},
   "cell_type": "markdown",
   "metadata": {},
   "source": [
    "### Standardization"
   ]
  },
  {
   "cell_type": "code",
   "execution_count": 696,
   "metadata": {},
   "outputs": [
    {
     "name": "stdout",
     "output_type": "stream",
     "text": [
      "(3197, 22)\n",
      "Index(['ABV', 'Min IBU', 'Max IBU', 'Astringency', 'Body', 'Alcohol', 'Bitter',\n",
      "       'Sweet', 'Sour', 'Salty', 'Fruits', 'Hoppy', 'Spices', 'Malty',\n",
      "       'review_aroma', 'review_appearance', 'review_palate', 'review_taste',\n",
      "       'review_overall', 'number_of_reviews', 'Style', 'Brewery'],\n",
      "      dtype='object')\n"
     ]
    }
   ],
   "source": [
    "df_quant = dfcorr.select_dtypes(include=['float64', 'int64'])\n",
    "df_qual = dfcorr.select_dtypes(include=['object'])\n",
    "\n",
    "df_standarized = (df_quant - df_quant.mean()) / df_quant.std()\n",
    "\n",
    "\n",
    "dfcorr_standarized = pd.concat([df_standarized, df_qual], axis=1)\n",
    "print(dfcorr_standarized.shape)\n",
    "print(dfcorr_standarized.columns)"
   ]
  },
  {
   "attachments": {},
   "cell_type": "markdown",
   "metadata": {},
   "source": [
    "### Dummies"
   ]
  },
  {
   "cell_type": "code",
   "execution_count": 697,
   "metadata": {},
   "outputs": [
    {
     "name": "stdout",
     "output_type": "stream",
     "text": [
      "(3197, 22)\n",
      "(3197, 10)\n",
      "(3197, 31)\n"
     ]
    }
   ],
   "source": [
    "print(dfcorr_standarized.shape)\n",
    "\n",
    "# Takes the 10 most frequent breweries\n",
    "most_frequents = dfcorr_standarized['Brewery'].value_counts().index[:10]\n",
    "\n",
    "dummies = pd.DataFrame(np.zeros((len(dfcorr_standarized), len(most_frequents))), columns=most_frequents)\n",
    "print(dummies.shape)\n",
    "# Set the dummy variables to 1 if the brewery is in the most frequent breweries\n",
    "for i, brewery in enumerate(dfcorr_standarized['Brewery'].values):\n",
    "    if brewery in most_frequents:\n",
    "        dummies.loc[i, brewery] = 1\n",
    "\n",
    "dfcorr_standarized = pd.concat([dfcorr_standarized, dummies], axis=1)\n",
    "dfcorr_standarized = dfcorr_standarized.drop('Brewery', axis=1)\n",
    "print(dfcorr_standarized.shape)\n",
    "\n",
    "# 11 - 1 = 10\n",
    "dfcorr_standarized = pd.get_dummies(dfcorr_standarized, columns=['Style'], drop_first=True,prefix='Style', prefix_sep='_')\n",
    "\n"
   ]
  },
  {
   "cell_type": "code",
   "execution_count": 698,
   "metadata": {},
   "outputs": [
    {
     "name": "stdout",
     "output_type": "stream",
     "text": [
      "(3197, 40)\n",
      "Index(['ABV', 'Min IBU', 'Max IBU', 'Astringency', 'Body', 'Alcohol', 'Bitter',\n",
      "       'Sweet', 'Sour', 'Salty', 'Fruits', 'Hoppy', 'Spices', 'Malty',\n",
      "       'review_aroma', 'review_appearance', 'review_palate', 'review_taste',\n",
      "       'review_overall', 'number_of_reviews',\n",
      "       'Boston Beer Company (Samuel Adams)', 'Dogfish Head Brewery',\n",
      "       'Anheuser-Busch', 'Three Floyds Brewing Co. & Brewpub',\n",
      "       'Victory Brewing Company', 'Rogue Ales', 'Matt Brewing Company',\n",
      "       'Short's Brewing Company', 'Great Divide Brewing Company',\n",
      "       'Russian River Brewing Company', 'Style_Bock', 'Style_Brett',\n",
      "       'Style_Brown Ale', 'Style_Brut', 'Style_IPA', 'Style_Lambic',\n",
      "       'Style_Sour', 'Style_Trappist beer', 'Style_dark', 'Style_lager'],\n",
      "      dtype='object')\n"
     ]
    }
   ],
   "source": [
    "# 22 + (10 - 1) + (11 - 1) - 1\n",
    "print(dfcorr_standarized.shape)\n",
    "print(dfcorr_standarized.columns)"
   ]
  },
  {
   "attachments": {},
   "cell_type": "markdown",
   "metadata": {},
   "source": [
    "## task 4"
   ]
  },
  {
   "attachments": {},
   "cell_type": "markdown",
   "metadata": {},
   "source": [
    "### nonlinearity"
   ]
  },
  {
   "cell_type": "code",
   "execution_count": 699,
   "metadata": {},
   "outputs": [],
   "source": [
    "#function.InteractiveScatter(dfcorr , df)"
   ]
  },
  {
   "cell_type": "code",
   "execution_count": 700,
   "metadata": {},
   "outputs": [
    {
     "name": "stdout",
     "output_type": "stream",
     "text": [
      "0       1.471154\n",
      "1       1.857143\n",
      "2       1.957602\n",
      "3       2.071429\n",
      "4       2.159656\n",
      "          ...   \n",
      "3192    4.750000\n",
      "3193    4.500000\n",
      "3194    4.500000\n",
      "3195    4.500000\n",
      "3196    4.500000\n",
      "Name: review_overall, Length: 3197, dtype: float64\n"
     ]
    }
   ],
   "source": [
    "print(dfcorr[\"review_overall\"])"
   ]
  },
  {
   "cell_type": "code",
   "execution_count": 701,
   "metadata": {},
   "outputs": [],
   "source": [
    "dfcorr_standarized = dfcorr_standarized.drop(\"review_overall\", axis=1)\n",
    "\n",
    "X_train, X_test, y_train, y_test = train_test_split(dfcorr_standarized, Y, test_size=0.2)\n",
    "\n",
    "X_train = sm.add_constant(X_train)\n",
    "X_test = sm.add_constant(X_test)"
   ]
  },
  {
   "cell_type": "code",
   "execution_count": 702,
   "metadata": {},
   "outputs": [
    {
     "name": "stdout",
     "output_type": "stream",
     "text": [
      "(2557, 40)\n"
     ]
    }
   ],
   "source": [
    "print(X_train.shape)"
   ]
  },
  {
   "cell_type": "code",
   "execution_count": 703,
   "metadata": {},
   "outputs": [
    {
     "name": "stdout",
     "output_type": "stream",
     "text": [
      "                            OLS Regression Results                            \n",
      "==============================================================================\n",
      "Dep. Variable:         review_overall   R-squared:                       0.920\n",
      "Model:                            OLS   Adj. R-squared:                  0.918\n",
      "Method:                 Least Squares   F-statistic:                     737.5\n",
      "Date:                Thu, 05 Jan 2023   Prob (F-statistic):               0.00\n",
      "Time:                        22:38:48   Log-Likelihood:                 1673.9\n",
      "No. Observations:                2557   AIC:                            -3268.\n",
      "Df Residuals:                    2517   BIC:                            -3034.\n",
      "Df Model:                          39                                         \n",
      "Covariance Type:            nonrobust                                         \n",
      "======================================================================================================\n",
      "                                         coef    std err          t      P>|t|      [0.025      0.975]\n",
      "------------------------------------------------------------------------------------------------------\n",
      "const                                  3.7277      0.017    213.077      0.000       3.693       3.762\n",
      "ABV                                   -0.0334      0.005     -7.375      0.000      -0.042      -0.024\n",
      "Min IBU                                0.0104      0.005      1.958      0.050   -1.61e-05       0.021\n",
      "Max IBU                               -0.0155      0.005     -2.893      0.004      -0.026      -0.005\n",
      "Astringency                            0.0261      0.004      6.887      0.000       0.019       0.034\n",
      "Body                                   0.0093      0.005      1.928      0.054      -0.000       0.019\n",
      "Alcohol                               -0.0213      0.004     -5.421      0.000      -0.029      -0.014\n",
      "Bitter                                -0.0308      0.006     -5.196      0.000      -0.042      -0.019\n",
      "Sweet                                 -0.0358      0.005     -7.750      0.000      -0.045      -0.027\n",
      "Sour                                  -0.0374      0.005     -7.138      0.000      -0.048      -0.027\n",
      "Salty                                  0.0033      0.003      1.182      0.237      -0.002       0.009\n",
      "Fruits                                 0.0295      0.005      5.429      0.000       0.019       0.040\n",
      "Hoppy                                  0.0191      0.005      3.959      0.000       0.010       0.029\n",
      "Spices                                -0.0226      0.003     -7.764      0.000      -0.028      -0.017\n",
      "Malty                                  0.0232      0.005      4.459      0.000       0.013       0.033\n",
      "review_aroma                           0.0208      0.008      2.507      0.012       0.005       0.037\n",
      "review_appearance                      0.0043      0.006      0.749      0.454      -0.007       0.016\n",
      "review_palate                          0.1379      0.009     16.078      0.000       0.121       0.155\n",
      "review_taste                           0.2952      0.010     30.914      0.000       0.277       0.314\n",
      "number_of_reviews                      0.0043      0.003      1.502      0.133      -0.001       0.010\n",
      "Boston Beer Company (Samuel Adams)    -0.0230      0.023     -0.988      0.323      -0.069       0.023\n",
      "Dogfish Head Brewery                  -0.0557      0.028     -2.024      0.043      -0.110      -0.002\n",
      "Anheuser-Busch                         0.0681      0.028      2.440      0.015       0.013       0.123\n",
      "Three Floyds Brewing Co. & Brewpub    -0.0034      0.025     -0.133      0.894      -0.053       0.046\n",
      "Victory Brewing Company               -0.0032      0.031     -0.101      0.920      -0.065       0.058\n",
      "Rogue Ales                            -0.0572      0.036     -1.598      0.110      -0.127       0.013\n",
      "Matt Brewing Company                   0.0079      0.029      0.269      0.788      -0.050       0.066\n",
      "Short's Brewing Company               -0.0498      0.029     -1.728      0.084      -0.106       0.007\n",
      "Great Divide Brewing Company           0.0111      0.033      0.335      0.738      -0.054       0.076\n",
      "Russian River Brewing Company          0.0088      0.031      0.279      0.780      -0.053       0.070\n",
      "Style_Bock                            -0.0012      0.021     -0.057      0.955      -0.042       0.040\n",
      "Style_Brett                           -0.0324      0.032     -0.998      0.318      -0.096       0.031\n",
      "Style_Brown Ale                        0.0291      0.023      1.291      0.197      -0.015       0.073\n",
      "Style_Brut                             0.0595      0.030      2.006      0.045       0.001       0.118\n",
      "Style_IPA                              0.0244      0.020      1.235      0.217      -0.014       0.063\n",
      "Style_Lambic                           0.0175      0.022      0.808      0.419      -0.025       0.060\n",
      "Style_Sour                             0.0122      0.025      0.495      0.621      -0.036       0.061\n",
      "Style_Trappist beer                    0.0221      0.027      0.826      0.409      -0.030       0.075\n",
      "Style_dark                             0.0089      0.019      0.474      0.635      -0.028       0.046\n",
      "Style_lager                            0.0267      0.018      1.487      0.137      -0.009       0.062\n",
      "==============================================================================\n",
      "Omnibus:                      533.844   Durbin-Watson:                   2.017\n",
      "Prob(Omnibus):                  0.000   Jarque-Bera (JB):            11154.261\n",
      "Skew:                          -0.429   Prob(JB):                         0.00\n",
      "Kurtosis:                      13.196   Cond. No.                         56.8\n",
      "==============================================================================\n",
      "\n",
      "Notes:\n",
      "[1] Standard Errors assume that the covariance matrix of the errors is correctly specified.\n"
     ]
    }
   ],
   "source": [
    "model = sm.OLS(y_train,X_train).fit()\n",
    "print(model.summary())"
   ]
  },
  {
   "attachments": {},
   "cell_type": "markdown",
   "metadata": {},
   "source": [
    "### Multicollinearity"
   ]
  },
  {
   "cell_type": "code",
   "execution_count": 704,
   "metadata": {},
   "outputs": [
    {
     "name": "stdout",
     "output_type": "stream",
     "text": [
      "[48.726973259824014, 2.8457174452248832, 4.4629323940826, 4.522871934188371, 2.24008618480949, 3.619041052692769, 2.3843073570493853, 5.508095384590832, 3.3644115741137632, 4.422228470128006, 1.1860629090137467, 4.7218407801440545, 3.568748714813352, 1.3487006612263028, 4.280581969251545, 10.975793574564626, 5.216920107685596, 11.569254020489643, 14.336351952502515, 1.279109284013259, 1.0626396831909672, 1.074093317123195, 1.1533432837725488, 1.0237343100986744, 1.0341838400926842, 1.0304880780302337, 1.0150863797391725, 1.0259454105193082, 1.023794369762833, 1.031080988418177, 2.5859678048470367, 1.361566903791713, 2.2116526534165577, 1.4114259181351663, 4.394037259581299, 3.1368957715065773, 2.250574182914957, 1.7091227396711148, 10.538915459412639, 12.770329366627216]\n",
      "Index(['const', 'review_aroma', 'review_palate', 'review_taste', 'Style_dark',\n",
      "       'Style_lager'],\n",
      "      dtype='object')\n"
     ]
    }
   ],
   "source": [
    "from statsmodels.stats.outliers_influence import variance_inflation_factor\n",
    "\n",
    "# Load the data into a pandas DataFrame\n",
    "X = X_train.values\n",
    "\n",
    "# Convert the DataFrame to a matrix\n",
    "\n",
    "# Compute the VIF for each column\n",
    "vif = [variance_inflation_factor(X, i) for i in range(X.shape[1])]\n",
    "\n",
    "# Print the VIF for each column\n",
    "print(vif)\n",
    "\n",
    "features_col = []\n",
    "for i in range(len(vif)):\n",
    "    if vif[i] > 10:\n",
    "        features_col.append(i)\n",
    "\n",
    "colum_name = X_train.columns[features_col]\n",
    "print(colum_name)"
   ]
  },
  {
   "cell_type": "code",
   "execution_count": 705,
   "metadata": {},
   "outputs": [
    {
     "data": {
      "text/plain": [
       "\"X_train = X_train.drop(['review_aroma', 'review_appearance', 'review_palate', 'review_taste'], axis =1)\\nX_test = X_test.drop(['review_aroma', 'review_appearance', 'review_palate', 'review_taste'], axis =1)\""
      ]
     },
     "execution_count": 705,
     "metadata": {},
     "output_type": "execute_result"
    }
   ],
   "source": [
    "\"\"\"X_train = X_train.drop(['review_aroma', 'review_appearance', 'review_palate', 'review_taste'], axis =1)\n",
    "X_test = X_test.drop(['review_aroma', 'review_appearance', 'review_palate', 'review_taste'], axis =1)\"\"\""
   ]
  },
  {
   "attachments": {},
   "cell_type": "markdown",
   "metadata": {},
   "source": [
    "### outliers"
   ]
  },
  {
   "cell_type": "code",
   "execution_count": 706,
   "metadata": {},
   "outputs": [
    {
     "name": "stdout",
     "output_type": "stream",
     "text": [
      "[13, 17, 20, 24, 26, 32, 33, 46, 58, 61, 75, 78, 86, 87, 88, 119, 124, 125, 132, 141, 164, 178, 183, 188, 190, 202, 207, 214, 246, 250, 251, 258, 266, 274, 282, 290, 292, 296, 297, 303, 314, 332, 337, 341, 358, 362, 379, 386, 396, 407, 416, 417, 434, 439, 440, 443, 454, 455, 463, 489, 502, 528, 550, 556, 583, 590, 591, 592, 596, 597, 599, 601, 602, 607, 610, 651, 655, 657, 660, 676, 681, 685, 686, 688, 690, 704, 711, 712, 725, 729, 731, 743, 745, 762, 765, 774, 775, 792, 795, 801, 806, 815, 818, 821, 842, 844, 849, 852, 860, 866, 873, 876, 877, 879, 887, 902, 918, 937, 946, 957, 960, 967, 997, 1003, 1006, 1016, 1029, 1042, 1045, 1066, 1076, 1080, 1083, 1097, 1099, 1111, 1120, 1127, 1133, 1137, 1149, 1153, 1159, 1167, 1188, 1191, 1198, 1200, 1205, 1219, 1230, 1236, 1241, 1249, 1250, 1259, 1282, 1286, 1289, 1291, 1292, 1293, 1311, 1316, 1320, 1326, 1344, 1353, 1355, 1361, 1372, 1384, 1394, 1399, 1402, 1405, 1407, 1408, 1414, 1433, 1450, 1456, 1479, 1483, 1488, 1491, 1505, 1510, 1512, 1519, 1523, 1524, 1527, 1532, 1539, 1570, 1572, 1600, 1604, 1611, 1616, 1618, 1620, 1630, 1631, 1656, 1667, 1668, 1673, 1679, 1684, 1693, 1702, 1703, 1704, 1718, 1733, 1741, 1742, 1752, 1754, 1764, 1766, 1789, 1793, 1797, 1805, 1809, 1820, 1829, 1832, 1847, 1869, 1872, 1887, 1893, 1896, 1925, 1929, 1930, 1938, 1952, 1977, 1984, 1989, 2038, 2041, 2043, 2058, 2066, 2074, 2096, 2108, 2109, 2113, 2119, 2143, 2145, 2149, 2157, 2162, 2163, 2169, 2172, 2181, 2186, 2190, 2194, 2196, 2202, 2204, 2220, 2224, 2232, 2235, 2238, 2250, 2260, 2261, 2267, 2269, 2274, 2276, 2315, 2325, 2328, 2333, 2346, 2378, 2389, 2390, 2415, 2431, 2432, 2442, 2450, 2457, 2461, 2497, 2511, 2513, 2519, 2522, 2531, 2540, 2543, 2545]\n",
      "307\n"
     ]
    }
   ],
   "source": [
    "#clean_df = dfcorr.copy()\n",
    "\n",
    "\n",
    "X=np.array(X_train)\n",
    "# Calculate X'X\n",
    "X_transpose_X = np.dot(X.T, X)\n",
    "\n",
    "# Calculate the inverse of X'X\n",
    "X_transpose_X_inv = np.linalg.inv(X_transpose_X)\n",
    "\n",
    "# Calculate the projection matrix H\n",
    "H = np.dot(X, X_transpose_X_inv)\n",
    "H = np.dot(H , X.T)\n",
    "\n",
    "# Calculate the leverage for each point\n",
    "H_ii = np.diagonal(H)\n",
    "\n",
    "threshold = 2 * X_train.shape[1] / X_train.shape[0]\n",
    "\n",
    "\"\"\"print(leverage)\n",
    "print(threshold)\n",
    "print(len(X_train) )\"\"\"\n",
    "X_outliers=[]\n",
    "for i in range (len(H_ii)):\n",
    "    if H_ii[i] > threshold:\n",
    "        X_outliers.append(i)\n",
    "        \n",
    "print(X_outliers)\n",
    "print(len(X_outliers))"
   ]
  },
  {
   "cell_type": "code",
   "execution_count": 707,
   "metadata": {},
   "outputs": [
    {
     "name": "stdout",
     "output_type": "stream",
     "text": [
      "[-0.04366454  0.05512396 -0.05281489 ...  0.00584784  0.06794308\n",
      " -0.11379421]\n"
     ]
    }
   ],
   "source": [
    "print(np.array(model.resid))"
   ]
  },
  {
   "cell_type": "code",
   "execution_count": 708,
   "metadata": {},
   "outputs": [
    {
     "name": "stdout",
     "output_type": "stream",
     "text": [
      "2557\n",
      "40.42511671286546\n",
      "1.9609073046727843\n",
      "[17, 19, 94, 98, 103, 106, 148, 155, 177, 202, 208, 221, 256, 281, 288, 290, 301, 313, 317, 356, 358, 364, 379, 394, 404, 432, 450, 486, 489, 539, 544, 571, 577, 596, 665, 710, 714, 732, 741, 768, 866, 877, 903, 904, 937, 940, 952, 956, 980, 999, 1038, 1115, 1132, 1133, 1159, 1161, 1165, 1181, 1195, 1241, 1252, 1276, 1309, 1341, 1342, 1358, 1364, 1368, 1405, 1429, 1431, 1443, 1461, 1486, 1519, 1531, 1539, 1550, 1552, 1553, 1555, 1585, 1600, 1602, 1603, 1620, 1625, 1660, 1685, 1690, 1695, 1712, 1719, 1726, 1781, 1811, 1872, 1907, 1950, 2061, 2083, 2112, 2115, 2145, 2178, 2257, 2296, 2321, 2338, 2342, 2353, 2359, 2394, 2397, 2399, 2415, 2432, 2433, 2444, 2453, 2463, 2477, 2493, 2495, 2508, 2510, 2544]\n"
     ]
    }
   ],
   "source": [
    "residu = np.array(model.resid)\n",
    "print(len(residu))\n",
    "SSE =  np.dot(residu.T,residu)\n",
    "print(SSE)\n",
    "\n",
    "Di_star = []\n",
    "\n",
    "for i in range (X_train.shape[0]):\n",
    "    num = (X_train.shape[0] - X_train.shape[1] - 1)\n",
    "\n",
    "    denom = (SSE * (1 - H_ii[i]) - residu[i]*residu[i] )\n",
    "    Di = np.sqrt(num/ denom)*residu[i]\n",
    "    Di_star.append(np.abs(Di))\n",
    "#print(Di_star)\n",
    "\n",
    "threshold = t.ppf(1-0.05/2, X_train.shape[0] - X_train.shape[1]-1)\n",
    "print(threshold)\n",
    "\n",
    "Y_outliers=[]\n",
    "\n",
    "for i in range (len(Di_star)):\n",
    "    if (Di_star[i] > threshold):\n",
    "       Y_outliers.append(i) \n",
    "\n",
    "print(Y_outliers)"
   ]
  },
  {
   "cell_type": "code",
   "execution_count": 709,
   "metadata": {},
   "outputs": [
    {
     "name": "stdout",
     "output_type": "stream",
     "text": [
      "[  17  202  290  358  379  489  596  866  877  937 1133 1159 1241 1405\n",
      " 1519 1539 1600 1620 1872 2145 2415 2432]\n"
     ]
    },
    {
     "ename": "KeyError",
     "evalue": "'[  17  379  866 1519 1620] not found in axis'",
     "output_type": "error",
     "traceback": [
      "\u001b[1;31m---------------------------------------------------------------------------\u001b[0m",
      "\u001b[1;31mKeyError\u001b[0m                                  Traceback (most recent call last)",
      "\u001b[1;32m~\\AppData\\Local\\Temp/ipykernel_4768/3675243059.py\u001b[0m in \u001b[0;36m<module>\u001b[1;34m\u001b[0m\n\u001b[0;32m      2\u001b[0m \u001b[0mprint\u001b[0m\u001b[1;33m(\u001b[0m\u001b[0mintersection\u001b[0m\u001b[1;33m)\u001b[0m\u001b[1;33m\u001b[0m\u001b[1;33m\u001b[0m\u001b[0m\n\u001b[0;32m      3\u001b[0m \u001b[1;33m\u001b[0m\u001b[0m\n\u001b[1;32m----> 4\u001b[1;33m \u001b[0mX_train\u001b[0m \u001b[1;33m=\u001b[0m \u001b[0mX_train\u001b[0m\u001b[1;33m.\u001b[0m\u001b[0mdrop\u001b[0m\u001b[1;33m(\u001b[0m\u001b[0mindex\u001b[0m\u001b[1;33m=\u001b[0m\u001b[0mintersection\u001b[0m\u001b[1;33m,\u001b[0m \u001b[0maxis\u001b[0m\u001b[1;33m=\u001b[0m\u001b[1;36m0\u001b[0m\u001b[1;33m)\u001b[0m\u001b[1;33m\u001b[0m\u001b[1;33m\u001b[0m\u001b[0m\n\u001b[0m\u001b[0;32m      5\u001b[0m \u001b[0my_train\u001b[0m \u001b[1;33m=\u001b[0m \u001b[0my_train\u001b[0m\u001b[1;33m.\u001b[0m\u001b[0mdrop\u001b[0m\u001b[1;33m(\u001b[0m\u001b[0mindex\u001b[0m\u001b[1;33m=\u001b[0m\u001b[0mintersection\u001b[0m\u001b[1;33m,\u001b[0m \u001b[0maxis\u001b[0m\u001b[1;33m=\u001b[0m\u001b[1;36m0\u001b[0m\u001b[1;33m)\u001b[0m\u001b[1;33m\u001b[0m\u001b[1;33m\u001b[0m\u001b[0m\n\u001b[0;32m      6\u001b[0m \u001b[1;33m\u001b[0m\u001b[0m\n",
      "\u001b[1;32mc:\\Users\\Pierre\\AppData\\Local\\Programs\\Python\\Python39\\lib\\site-packages\\pandas\\util\\_decorators.py\u001b[0m in \u001b[0;36mwrapper\u001b[1;34m(*args, **kwargs)\u001b[0m\n\u001b[0;32m    309\u001b[0m                     \u001b[0mstacklevel\u001b[0m\u001b[1;33m=\u001b[0m\u001b[0mstacklevel\u001b[0m\u001b[1;33m,\u001b[0m\u001b[1;33m\u001b[0m\u001b[1;33m\u001b[0m\u001b[0m\n\u001b[0;32m    310\u001b[0m                 )\n\u001b[1;32m--> 311\u001b[1;33m             \u001b[1;32mreturn\u001b[0m \u001b[0mfunc\u001b[0m\u001b[1;33m(\u001b[0m\u001b[1;33m*\u001b[0m\u001b[0margs\u001b[0m\u001b[1;33m,\u001b[0m \u001b[1;33m**\u001b[0m\u001b[0mkwargs\u001b[0m\u001b[1;33m)\u001b[0m\u001b[1;33m\u001b[0m\u001b[1;33m\u001b[0m\u001b[0m\n\u001b[0m\u001b[0;32m    312\u001b[0m \u001b[1;33m\u001b[0m\u001b[0m\n\u001b[0;32m    313\u001b[0m         \u001b[1;32mreturn\u001b[0m \u001b[0mwrapper\u001b[0m\u001b[1;33m\u001b[0m\u001b[1;33m\u001b[0m\u001b[0m\n",
      "\u001b[1;32mc:\\Users\\Pierre\\AppData\\Local\\Programs\\Python\\Python39\\lib\\site-packages\\pandas\\core\\frame.py\u001b[0m in \u001b[0;36mdrop\u001b[1;34m(self, labels, axis, index, columns, level, inplace, errors)\u001b[0m\n\u001b[0;32m   4904\u001b[0m                 \u001b[0mweight\u001b[0m  \u001b[1;36m1.0\u001b[0m     \u001b[1;36m0.8\u001b[0m\u001b[1;33m\u001b[0m\u001b[1;33m\u001b[0m\u001b[0m\n\u001b[0;32m   4905\u001b[0m         \"\"\"\n\u001b[1;32m-> 4906\u001b[1;33m         return super().drop(\n\u001b[0m\u001b[0;32m   4907\u001b[0m             \u001b[0mlabels\u001b[0m\u001b[1;33m=\u001b[0m\u001b[0mlabels\u001b[0m\u001b[1;33m,\u001b[0m\u001b[1;33m\u001b[0m\u001b[1;33m\u001b[0m\u001b[0m\n\u001b[0;32m   4908\u001b[0m             \u001b[0maxis\u001b[0m\u001b[1;33m=\u001b[0m\u001b[0maxis\u001b[0m\u001b[1;33m,\u001b[0m\u001b[1;33m\u001b[0m\u001b[1;33m\u001b[0m\u001b[0m\n",
      "\u001b[1;32mc:\\Users\\Pierre\\AppData\\Local\\Programs\\Python\\Python39\\lib\\site-packages\\pandas\\core\\generic.py\u001b[0m in \u001b[0;36mdrop\u001b[1;34m(self, labels, axis, index, columns, level, inplace, errors)\u001b[0m\n\u001b[0;32m   4148\u001b[0m         \u001b[1;32mfor\u001b[0m \u001b[0maxis\u001b[0m\u001b[1;33m,\u001b[0m \u001b[0mlabels\u001b[0m \u001b[1;32min\u001b[0m \u001b[0maxes\u001b[0m\u001b[1;33m.\u001b[0m\u001b[0mitems\u001b[0m\u001b[1;33m(\u001b[0m\u001b[1;33m)\u001b[0m\u001b[1;33m:\u001b[0m\u001b[1;33m\u001b[0m\u001b[1;33m\u001b[0m\u001b[0m\n\u001b[0;32m   4149\u001b[0m             \u001b[1;32mif\u001b[0m \u001b[0mlabels\u001b[0m \u001b[1;32mis\u001b[0m \u001b[1;32mnot\u001b[0m \u001b[1;32mNone\u001b[0m\u001b[1;33m:\u001b[0m\u001b[1;33m\u001b[0m\u001b[1;33m\u001b[0m\u001b[0m\n\u001b[1;32m-> 4150\u001b[1;33m                 \u001b[0mobj\u001b[0m \u001b[1;33m=\u001b[0m \u001b[0mobj\u001b[0m\u001b[1;33m.\u001b[0m\u001b[0m_drop_axis\u001b[0m\u001b[1;33m(\u001b[0m\u001b[0mlabels\u001b[0m\u001b[1;33m,\u001b[0m \u001b[0maxis\u001b[0m\u001b[1;33m,\u001b[0m \u001b[0mlevel\u001b[0m\u001b[1;33m=\u001b[0m\u001b[0mlevel\u001b[0m\u001b[1;33m,\u001b[0m \u001b[0merrors\u001b[0m\u001b[1;33m=\u001b[0m\u001b[0merrors\u001b[0m\u001b[1;33m)\u001b[0m\u001b[1;33m\u001b[0m\u001b[1;33m\u001b[0m\u001b[0m\n\u001b[0m\u001b[0;32m   4151\u001b[0m \u001b[1;33m\u001b[0m\u001b[0m\n\u001b[0;32m   4152\u001b[0m         \u001b[1;32mif\u001b[0m \u001b[0minplace\u001b[0m\u001b[1;33m:\u001b[0m\u001b[1;33m\u001b[0m\u001b[1;33m\u001b[0m\u001b[0m\n",
      "\u001b[1;32mc:\\Users\\Pierre\\AppData\\Local\\Programs\\Python\\Python39\\lib\\site-packages\\pandas\\core\\generic.py\u001b[0m in \u001b[0;36m_drop_axis\u001b[1;34m(self, labels, axis, level, errors)\u001b[0m\n\u001b[0;32m   4183\u001b[0m                 \u001b[0mnew_axis\u001b[0m \u001b[1;33m=\u001b[0m \u001b[0maxis\u001b[0m\u001b[1;33m.\u001b[0m\u001b[0mdrop\u001b[0m\u001b[1;33m(\u001b[0m\u001b[0mlabels\u001b[0m\u001b[1;33m,\u001b[0m \u001b[0mlevel\u001b[0m\u001b[1;33m=\u001b[0m\u001b[0mlevel\u001b[0m\u001b[1;33m,\u001b[0m \u001b[0merrors\u001b[0m\u001b[1;33m=\u001b[0m\u001b[0merrors\u001b[0m\u001b[1;33m)\u001b[0m\u001b[1;33m\u001b[0m\u001b[1;33m\u001b[0m\u001b[0m\n\u001b[0;32m   4184\u001b[0m             \u001b[1;32melse\u001b[0m\u001b[1;33m:\u001b[0m\u001b[1;33m\u001b[0m\u001b[1;33m\u001b[0m\u001b[0m\n\u001b[1;32m-> 4185\u001b[1;33m                 \u001b[0mnew_axis\u001b[0m \u001b[1;33m=\u001b[0m \u001b[0maxis\u001b[0m\u001b[1;33m.\u001b[0m\u001b[0mdrop\u001b[0m\u001b[1;33m(\u001b[0m\u001b[0mlabels\u001b[0m\u001b[1;33m,\u001b[0m \u001b[0merrors\u001b[0m\u001b[1;33m=\u001b[0m\u001b[0merrors\u001b[0m\u001b[1;33m)\u001b[0m\u001b[1;33m\u001b[0m\u001b[1;33m\u001b[0m\u001b[0m\n\u001b[0m\u001b[0;32m   4186\u001b[0m             \u001b[0mresult\u001b[0m \u001b[1;33m=\u001b[0m \u001b[0mself\u001b[0m\u001b[1;33m.\u001b[0m\u001b[0mreindex\u001b[0m\u001b[1;33m(\u001b[0m\u001b[1;33m**\u001b[0m\u001b[1;33m{\u001b[0m\u001b[0maxis_name\u001b[0m\u001b[1;33m:\u001b[0m \u001b[0mnew_axis\u001b[0m\u001b[1;33m}\u001b[0m\u001b[1;33m)\u001b[0m\u001b[1;33m\u001b[0m\u001b[1;33m\u001b[0m\u001b[0m\n\u001b[0;32m   4187\u001b[0m \u001b[1;33m\u001b[0m\u001b[0m\n",
      "\u001b[1;32mc:\\Users\\Pierre\\AppData\\Local\\Programs\\Python\\Python39\\lib\\site-packages\\pandas\\core\\indexes\\base.py\u001b[0m in \u001b[0;36mdrop\u001b[1;34m(self, labels, errors)\u001b[0m\n\u001b[0;32m   6015\u001b[0m         \u001b[1;32mif\u001b[0m \u001b[0mmask\u001b[0m\u001b[1;33m.\u001b[0m\u001b[0many\u001b[0m\u001b[1;33m(\u001b[0m\u001b[1;33m)\u001b[0m\u001b[1;33m:\u001b[0m\u001b[1;33m\u001b[0m\u001b[1;33m\u001b[0m\u001b[0m\n\u001b[0;32m   6016\u001b[0m             \u001b[1;32mif\u001b[0m \u001b[0merrors\u001b[0m \u001b[1;33m!=\u001b[0m \u001b[1;34m\"ignore\"\u001b[0m\u001b[1;33m:\u001b[0m\u001b[1;33m\u001b[0m\u001b[1;33m\u001b[0m\u001b[0m\n\u001b[1;32m-> 6017\u001b[1;33m                 \u001b[1;32mraise\u001b[0m \u001b[0mKeyError\u001b[0m\u001b[1;33m(\u001b[0m\u001b[1;34mf\"{labels[mask]} not found in axis\"\u001b[0m\u001b[1;33m)\u001b[0m\u001b[1;33m\u001b[0m\u001b[1;33m\u001b[0m\u001b[0m\n\u001b[0m\u001b[0;32m   6018\u001b[0m             \u001b[0mindexer\u001b[0m \u001b[1;33m=\u001b[0m \u001b[0mindexer\u001b[0m\u001b[1;33m[\u001b[0m\u001b[1;33m~\u001b[0m\u001b[0mmask\u001b[0m\u001b[1;33m]\u001b[0m\u001b[1;33m\u001b[0m\u001b[1;33m\u001b[0m\u001b[0m\n\u001b[0;32m   6019\u001b[0m         \u001b[1;32mreturn\u001b[0m \u001b[0mself\u001b[0m\u001b[1;33m.\u001b[0m\u001b[0mdelete\u001b[0m\u001b[1;33m(\u001b[0m\u001b[0mindexer\u001b[0m\u001b[1;33m)\u001b[0m\u001b[1;33m\u001b[0m\u001b[1;33m\u001b[0m\u001b[0m\n",
      "\u001b[1;31mKeyError\u001b[0m: '[  17  379  866 1519 1620] not found in axis'"
     ]
    }
   ],
   "source": [
    "intersection = np.intersect1d(Y_outliers, X_outliers) \n",
    "print(intersection)\n",
    "\n",
    "X_train = X_train.drop(index=intersection, axis=0)\n",
    "y_train = y_train.drop(index=intersection, axis=0)\n",
    "\n",
    "df_without_outliers = pd.concat([X_train, y_train], axis=1)\n",
    "\n",
    "print(intersection)\n",
    "\"\"\"clean_df = X_train.copy()\n",
    "clean_df.drop(index=intersection, axis=0, inplace=True)\n",
    "\n",
    "clean_df[\"review_overall\"] = y_train\n",
    "\n",
    "print(clean_df)\"\"\""
   ]
  },
  {
   "attachments": {},
   "cell_type": "markdown",
   "metadata": {},
   "source": [
    "### heteroskedasticty"
   ]
  },
  {
   "attachments": {},
   "cell_type": "markdown",
   "metadata": {},
   "source": [
    "The Durbin-Watson statistic is a test statistic used to detect autocorrelation in the residuals of a statistical model. It is often used in the context of regression analysis, and can be used to help identify whether the errors (residuals) of the model are correlated with each other. The Durbin-Watson statistic has a value between 0 and 4, with values closer to 0 indicating the presence of positive autocorrelation, and values closer to 4 indicating the presence of negative autocorrelation. A value of 2 indicates the absence of autocorrelation."
   ]
  },
  {
   "cell_type": "code",
   "execution_count": 716,
   "metadata": {},
   "outputs": [
    {
     "name": "stdout",
     "output_type": "stream",
     "text": [
      "[('Lagrange multiplier statistic', 204.3783827436406), ('p-value', 2.732440726696169e-24), ('f-value', 5.6066246680909035), ('f p-value', 1.6407543734735398e-25)]\n"
     ]
    }
   ],
   "source": [
    "from statsmodels.compat import lzip\n",
    "import statsmodels.stats.api as sms\n",
    "\n",
    "#perform Bresuch-Pagan test\n",
    "names = ['Lagrange multiplier statistic', 'p-value',\n",
    "        'f-value', 'f p-value']\n",
    "test = sms.het_breuschpagan(model.resid, model.model.exog)\n",
    "\n",
    "print(lzip(names, test))"
   ]
  },
  {
   "attachments": {},
   "cell_type": "markdown",
   "metadata": {},
   "source": [
    "### autocorrelation"
   ]
  },
  {
   "cell_type": "code",
   "execution_count": 715,
   "metadata": {},
   "outputs": [
    {
     "data": {
      "text/plain": [
       "2.016967330319709"
      ]
     },
     "execution_count": 715,
     "metadata": {},
     "output_type": "execute_result"
    }
   ],
   "source": [
    "from statsmodels.stats.stattools import durbin_watson\n",
    "durbin_watson(model.resid)\n",
    "\n"
   ]
  },
  {
   "attachments": {},
   "cell_type": "markdown",
   "metadata": {},
   "source": [
    "## Correlation"
   ]
  },
  {
   "cell_type": "code",
   "execution_count": 711,
   "metadata": {},
   "outputs": [],
   "source": [
    "\"\"\"mod = sm.OLS(y_train,X_train).fit()\"\"\"\n",
    "ynewpred = model.predict(X_test)"
   ]
  },
  {
   "cell_type": "code",
   "execution_count": 712,
   "metadata": {},
   "outputs": [
    {
     "name": "stdout",
     "output_type": "stream",
     "text": [
      "2658    4.175311\n",
      "128     2.559321\n",
      "2850    4.023499\n",
      "2144    4.001592\n",
      "753     3.731728\n",
      "          ...   \n",
      "2465    4.213472\n",
      "1892    4.048560\n",
      "1786    3.579136\n",
      "1358    3.746560\n",
      "1199    3.547200\n",
      "Length: 640, dtype: float64\n"
     ]
    }
   ],
   "source": [
    "print(ynewpred)"
   ]
  },
  {
   "cell_type": "code",
   "execution_count": 713,
   "metadata": {},
   "outputs": [
    {
     "data": {
      "application/vnd.plotly.v1+json": {
       "config": {
        "plotlyServerURL": "https://plot.ly"
       },
       "data": [
        {
         "mode": "lines",
         "type": "scatter",
         "x": [
          -2,
          1,
          2
         ],
         "y": [
          -2,
          1,
          2
         ]
        },
        {
         "mode": "markers",
         "type": "scatter",
         "x": [
          4.175310644515157,
          2.5593214426992468,
          4.023499168610208,
          4.001592138413445,
          3.7317278365372766,
          2.9963692663864165,
          3.960547280134581,
          3.158193261720229,
          3.988748400930401,
          3.1959672679671276,
          4.387570865652668,
          2.773307060573229,
          3.799211407927547,
          3.6274725292772114,
          4.233059356548959,
          3.183440881456845,
          4.4337816917940716,
          4.22499807818203,
          3.160490525333052,
          4.226567002340653,
          3.8228576899413507,
          3.6955673826280058,
          3.9535988037519916,
          4.081899895394319,
          3.065911831158936,
          4.15568880474178,
          4.138654497387926,
          2.9630111430994557,
          3.5810590661281703,
          4.312333774818801,
          4.244792139400738,
          4.297356342060161,
          4.035930122463431,
          2.6885292754768093,
          4.261431544370732,
          3.143982954689433,
          2.705541442453912,
          3.916673295864775,
          3.477364661853316,
          3.214437703535771,
          3.200248050656719,
          3.1179966475584897,
          3.8064348281480496,
          3.2853989345542374,
          3.6197004551385503,
          4.057264651203888,
          3.956229076325204,
          2.678464065134883,
          1.6839028859921985,
          3.1539477001329024,
          4.326526581982073,
          3.518383275531793,
          3.841917080063503,
          3.5112057714883464,
          2.3679608256460116,
          4.01507642187988,
          4.0905173247459885,
          3.8010217858599153,
          3.4073697770562896,
          3.8762391135768524,
          4.030494120930489,
          3.649880103005677,
          3.5041398630263294,
          4.052597265265239,
          3.7031870672065734,
          2.6815239947578013,
          3.54517277403139,
          3.5912403071660837,
          3.6868467288547166,
          3.307561443435093,
          3.644352246083299,
          3.964029117548679,
          4.24732583775584,
          3.8771351567758336,
          3.717191717650723,
          3.3719267578527354,
          3.754583823621995,
          3.883524718348999,
          4.088504797470983,
          3.2004849745397985,
          3.233254014211775,
          3.987719883555288,
          3.637122954397149,
          4.220348311725034,
          4.120064383707152,
          3.7813158882483022,
          3.959372474731431,
          4.063487061740063,
          3.7220872248357484,
          3.845370781483157,
          3.868015347324886,
          4.312571756870744,
          3.4759610764588547,
          3.7695890059664343,
          3.039320148879895,
          3.8229224341984427,
          3.7176980188064004,
          2.3758999528024085,
          3.774185033631767,
          3.7781305414270294,
          3.8366573442377336,
          3.9464860620682813,
          4.150726730252138,
          3.4905141474730716,
          3.5192304574725957,
          3.3916073659077175,
          2.678608489274615,
          2.9694374769525127,
          3.5059821046393376,
          4.055209388655586,
          3.9219421618105827,
          3.8521650990649974,
          4.1899472652239,
          3.7491435419470895,
          3.23713021800893,
          3.064752092995182,
          2.9271709963307155,
          3.9333788288805103,
          4.009013091183803,
          4.098064882948577,
          4.0478822703419,
          3.547250149731886,
          3.471940741786275,
          4.305076052665938,
          4.178041955983243,
          4.437166485545149,
          3.983922930266346,
          3.3912556337851827,
          3.820400729304287,
          3.6689690029372217,
          4.192956912239635,
          3.8024584879765215,
          3.5391544006617517,
          4.246107618107476,
          3.605646301072433,
          3.767201946518718,
          4.135705464345226,
          3.4176119250694468,
          3.926352692618752,
          3.902376087083804,
          4.405186910457396,
          2.949487542062955,
          3.6987276959406423,
          3.6141202121490177,
          3.667366812225504,
          3.728491602776849,
          3.2584534216608536,
          3.431168387727662,
          4.430416954248459,
          3.568905206918976,
          3.7824075032660915,
          4.053042335749823,
          3.416768927819888,
          4.069321395891272,
          3.7421870902410257,
          4.203297665677782,
          3.642709034640153,
          3.7085364039661273,
          4.14042912472352,
          3.594431346018743,
          3.8603263516979247,
          3.868592238425668,
          3.6046885128861157,
          4.346049216470294,
          3.444412115029722,
          3.6903438062797402,
          4.141068959996985,
          4.172876607111184,
          3.6814201905068162,
          3.7658726070412376,
          3.4654893873267527,
          3.690800802702524,
          2.974269898733897,
          3.8740376212599212,
          4.223219024233585,
          3.795712208788482,
          2.9567372924876465,
          4.25181079472612,
          4.344299018501267,
          4.097698486598956,
          2.874301674168729,
          4.192440191634598,
          3.931158342097793,
          3.606113547404651,
          3.9133104737199913,
          3.7227197127143055,
          4.504354107626074,
          3.6240247122322926,
          3.8531222474243854,
          3.934277013839835,
          3.544488855596127,
          4.099466443719241,
          3.994586043151353,
          4.0171799893461575,
          3.6181531250589316,
          3.983944293420735,
          3.7800172129237115,
          3.9182629274240934,
          2.7828206007327454,
          3.7973686754797296,
          3.675234124212739,
          3.938397772555082,
          3.949330082447259,
          4.390295485549414,
          3.4538806368782193,
          3.7326041261678045,
          3.9096949372440575,
          4.188591229583687,
          4.338358536803084,
          3.2794370179386645,
          4.205802641988264,
          4.006631943376714,
          3.9508388399325547,
          4.007939039015671,
          3.9488411277340782,
          3.877930167017912,
          4.2074507391664655,
          4.021705950779806,
          4.546194186064065,
          3.1202834142354936,
          2.728529442594579,
          3.8239992222842414,
          3.6027931737498626,
          4.205081351204601,
          3.9148081279323463,
          3.714439815263274,
          2.683861088501449,
          4.083747483443475,
          3.203313190594665,
          2.9522048356380557,
          3.5032231755084933,
          3.651569315184761,
          3.6738426907887067,
          3.6932521438540684,
          4.151740130193741,
          4.388516378167958,
          3.171529495888144,
          3.715371345239448,
          3.6846509996701458,
          3.8652560495424924,
          4.099597605577865,
          3.7553871662332483,
          3.70500875724051,
          3.7796060080939258,
          3.857040767034551,
          4.160549618211069,
          3.3056505557057676,
          3.6421335804866866,
          3.631647542689802,
          3.571763775228873,
          3.2254973624463372,
          4.084870236937708,
          3.7727103307969205,
          3.8675531181954446,
          4.199005656780569,
          3.7879307227583383,
          3.4082365719554177,
          3.640497688719484,
          1.9805283259581006,
          4.142405554089311,
          4.114700839391572,
          3.6521095065045666,
          3.8672285954116123,
          4.250489876885132,
          3.6096619849207516,
          3.695802951300065,
          4.122155567521342,
          3.961605772975431,
          4.2481788430591045,
          3.5554746798815082,
          3.8468627591707105,
          4.130666933417883,
          3.835346104029406,
          4.025887330046666,
          3.7078940954143764,
          3.8640707981222886,
          4.006989693642318,
          2.4684290518356495,
          3.9087693201929095,
          3.9595259418335003,
          2.8369463967005144,
          3.889883564880947,
          3.87887235465575,
          3.8746374924517224,
          3.7746594885815052,
          3.737416124652094,
          3.045235533755815,
          2.771141502642929,
          3.630329706035424,
          4.318881376318818,
          4.091940811462666,
          3.9494446026795607,
          3.448030361084201,
          3.5100632979779793,
          3.510724132608737,
          3.1340207326272793,
          3.9103062801754964,
          3.553952021052815,
          3.7246593564116828,
          3.925622998047835,
          3.795163325748569,
          3.3902983600833934,
          4.453990626126199,
          4.153173774316337,
          4.000675933466007,
          3.381676416414785,
          3.537917638945406,
          3.923381009873206,
          3.908689404814068,
          4.153339173146848,
          3.8298817453039784,
          3.865945954229819,
          3.9908817285449434,
          3.525037616940232,
          4.277904741515447,
          4.002464023071349,
          4.183307239799357,
          4.338174563391263,
          3.9193720021361576,
          3.6635311939776747,
          2.6464861176408196,
          3.461072336548467,
          4.060014139297995,
          4.114887406510451,
          4.035556055513507,
          3.7937231953718924,
          3.3474899676496466,
          4.106681602474547,
          4.0281176173070055,
          3.8170976976799977,
          3.0093809723357765,
          2.8565472837489256,
          3.718945477387353,
          3.9572109124264636,
          3.638219143576353,
          3.8672203966909096,
          3.8637890073348102,
          3.71124408667848,
          4.283219537212939,
          3.302084880954884,
          3.413853179425429,
          2.592207610798755,
          4.173434228372864,
          4.02092475573965,
          4.003023851706445,
          3.9309740998262797,
          3.8211086554517903,
          3.7279181361974842,
          3.589002542237454,
          3.3546210389848325,
          3.9586255958885945,
          4.012042771433529,
          2.8816114162372077,
          4.275093115677259,
          2.5467416055348906,
          4.389007469344169,
          3.801594167563361,
          3.97749518130865,
          2.897919748537918,
          3.473538866597392,
          3.8824872191208124,
          4.208190305488679,
          4.104940473317164,
          4.327410014740033,
          3.6278000333089446,
          3.6645888685123977,
          3.178941670479135,
          3.159174855152168,
          3.7619748923417906,
          4.318502117778484,
          4.062123985221902,
          3.819397209948309,
          4.080959976619436,
          3.724140754339742,
          3.2502599453514636,
          3.898036109964179,
          4.225138045605267,
          3.858629733335072,
          3.3948820905255337,
          3.818175373638013,
          3.3136692442196574,
          2.9496609316459965,
          4.1147411179894275,
          3.5171632588251214,
          3.868458965878373,
          4.030925434995308,
          4.041186408168625,
          3.694657301522381,
          4.665567291291811,
          4.189165789007342,
          3.6265269292445814,
          3.5662540028839795,
          3.6591336876206992,
          2.0595004369082335,
          4.043657145834451,
          3.957589867008464,
          3.851768313133367,
          3.516017320636453,
          3.8018625194616207,
          3.3209562391863527,
          4.021112863381575,
          3.950290059555469,
          4.066385743324732,
          4.104316747180327,
          4.124644754930208,
          3.5438251705807184,
          3.8126077519416604,
          3.59788478898144,
          3.9504334954875397,
          3.5701283739979073,
          3.44184089956998,
          4.107992639405763,
          4.011543415992329,
          3.9330845634853953,
          4.085214849738109,
          2.011344704983684,
          3.7991585399815544,
          3.429498991336559,
          3.134083947842158,
          3.68371344885113,
          3.8221179564995795,
          3.869050164235087,
          3.5892901953868317,
          3.84168226954805,
          2.959499278955502,
          4.020958162510991,
          4.144586624650768,
          4.115892477142427,
          3.4117911198557316,
          3.920112627514043,
          3.9638140653628664,
          3.6657937561606913,
          2.943031630572369,
          3.0509577648677952,
          3.4179959898167778,
          4.36785642218735,
          3.8426706570596973,
          3.656652386252307,
          3.786939398435506,
          3.947672607344513,
          2.7896262161872825,
          3.9390480607804084,
          2.365636118644209,
          4.078594780065693,
          4.245001435170467,
          3.8349020417616164,
          4.21959882816646,
          4.092588369694088,
          4.076609753018768,
          3.9515202733880885,
          4.108856570881744,
          3.662114405860867,
          3.9207897136789724,
          3.9412495843389,
          3.2712415590166177,
          3.238764368412688,
          3.802004284822672,
          3.992920770307289,
          3.5537323645772205,
          3.0479233259804466,
          3.4760164643912645,
          4.250749729498002,
          3.584298546141121,
          4.177061056378918,
          3.533189447148738,
          3.9369716113091067,
          3.918104795067418,
          3.234839102179395,
          3.3497309641460284,
          3.8017704610313348,
          3.8666367521628957,
          3.392775081716259,
          3.6498272063969592,
          4.508854428279376,
          4.119685409320953,
          4.199983598931923,
          3.2017513332901517,
          3.9567398660366004,
          3.5849229774901423,
          2.9645847494938784,
          3.9925531231109974,
          2.2975626990213796,
          3.7063016589408257,
          3.095232354225646,
          4.190360555067108,
          3.625722607039146,
          2.919740565188645,
          3.570917372905298,
          3.289052058102809,
          3.881056651137773,
          3.600147012817063,
          4.422509543456949,
          4.285931323005936,
          4.2392002802085615,
          3.9004081085128104,
          3.400189317744974,
          3.905037407371292,
          4.095826957432682,
          3.8604284269317626,
          3.9853325815616114,
          4.008919858464774,
          3.836253555947965,
          2.55395099586606,
          3.831380425417976,
          3.430107826954576,
          3.572369190986565,
          4.004587725695714,
          4.251386589936977,
          3.0836307668131093,
          3.705670181636905,
          3.5905209754333276,
          3.7380572771473166,
          3.861510985468906,
          4.014357431439108,
          3.3008070462831336,
          3.711714619570757,
          3.729453993588086,
          3.763635301013603,
          4.26768235626215,
          4.34033014640181,
          3.5906352063020517,
          4.0832979501833,
          3.644423371617732,
          3.660475180274084,
          4.152793201019035,
          3.835410330525488,
          4.132071112904867,
          3.8688499869575064,
          3.964707289664492,
          4.496243257474881,
          3.1760737877972973,
          3.7666582590966904,
          3.579172908954874,
          3.770649892092208,
          3.7774688843433366,
          4.147899934777243,
          4.3437159597300035,
          3.565438202453902,
          3.905385674781603,
          4.086501412510991,
          3.6074614617702903,
          3.1093162932183254,
          4.1056342493463065,
          3.705009772708904,
          3.7951869455421554,
          3.9471910714028375,
          3.7438247084842007,
          3.1685534394892367,
          3.636045699804696,
          3.2676934756535134,
          3.7038319960118526,
          3.580035079368989,
          3.8854962696179185,
          4.346567170810739,
          2.367936685523123,
          3.3082580064153637,
          4.03337753733677,
          4.189346216427197,
          4.033910602261892,
          3.452435463399399,
          3.612879815674908,
          3.982920626583178,
          4.273904972642739,
          4.183926971537874,
          3.4167927837694885,
          3.8324507245838815,
          3.179075262499575,
          3.0270878061667004,
          3.558601857265436,
          3.2462869256917926,
          3.892179559138804,
          3.3723975889298523,
          4.237228528342375,
          4.090749050032238,
          3.9164727105238066,
          3.5456727498796075,
          3.7972089990774167,
          4.207531512581317,
          3.8467459672067332,
          3.792163697259965,
          3.813828027302231,
          3.63758864327469,
          4.023487581093617,
          3.659696711689229,
          3.840481010741105,
          3.7325112860471434,
          4.311485115353995,
          3.279280328984621,
          4.2237649571824685,
          3.629487628209482,
          3.826731094326162,
          3.9625006683136377,
          3.8996193222495483,
          4.04193249341723,
          3.9462015120205045,
          4.189819801846944,
          4.248757704011907,
          4.193390796910924,
          4.022870764633476,
          4.013260869299873,
          3.222936894011521,
          3.700553745814461,
          1.5371891464848078,
          3.0758261023579925,
          4.173321681261725,
          3.8989712140941837,
          3.8375472174624283,
          3.7157726371324538,
          3.751083646173236,
          3.8313239642284893,
          4.0139004726710334,
          4.088530083962009,
          3.906232121103877,
          3.797280977291788,
          3.307448364988635,
          3.751147681884899,
          3.8914976135384185,
          3.912186613637782,
          3.7747854137533228,
          3.67729773046598,
          3.7225831902562425,
          3.9322619242148322,
          4.229711509139661,
          4.023994570817361,
          3.855816137015181,
          3.9798738315288804,
          3.5343774152724587,
          3.601270249100663,
          3.230135242723027,
          3.559833081684909,
          3.7551909795902287,
          3.892696748751799,
          3.876785007485636,
          3.6829738738875895,
          3.5227258421603285,
          4.213471590213655,
          4.048559824202376,
          3.5791361990767085,
          3.7465603921802604,
          3.547199602451155
         ],
         "y": [
          4.185185,
          2.5,
          4.093052,
          4,
          3.818414,
          3.070248,
          3.987879,
          3.22488,
          4.107143,
          3.275862,
          4.458333,
          2.872396,
          3.797619,
          3.573171,
          4.295201,
          3,
          4.339401,
          4.181818,
          3.289247,
          4.266667,
          3.666667,
          3.78125,
          4.034014,
          4.166667,
          2.894531,
          4.032284,
          4.173864,
          2.86,
          3.402778,
          4.393939,
          4.19378,
          4.205882,
          3.879952,
          2.675,
          4.35,
          3.125,
          2.555556,
          4.006515,
          3.460417,
          3.36,
          3.333333,
          3.237864,
          3.857143,
          3.320106,
          3.693299,
          4.103093,
          4.109524,
          2.333333,
          1.612245,
          3.076555,
          4.452381,
          3.54878,
          3.875,
          3.534722,
          2.289773,
          4.071429,
          4.046053,
          3.833333,
          3.385714,
          3.95,
          4.140152,
          3.666667,
          3.612069,
          4.122807,
          3.798246,
          2.666667,
          3.690693,
          3.625,
          3.613402,
          3.520548,
          3.571429,
          3.915929,
          4.3,
          3.772727,
          3.50165,
          3.281818,
          3.75,
          3.875,
          4.134036,
          3.248792,
          3.32,
          4.123711,
          3.638889,
          4.222222,
          4.139216,
          3.840909,
          4.098684,
          3.952206,
          3.75,
          3.666667,
          3.908497,
          4.234334,
          3.684615,
          3.837838,
          3.157051,
          3.712121,
          3.25,
          2.629139,
          3.5,
          3.692308,
          3.866667,
          3.875,
          4,
          3.545455,
          3.461538,
          3.428571,
          2.839934,
          2.969697,
          3.1,
          4.067651,
          3.75,
          3.818182,
          4.1,
          3.785714,
          3.519231,
          4,
          3.192771,
          3.875,
          4.005115,
          4.217949,
          4.085014,
          3.5,
          3.384259,
          4.275194,
          4.14779,
          4.432056,
          3.94717,
          3.365741,
          3.758621,
          3.605178,
          4.071885,
          3.77551,
          3.526316,
          4.206128,
          3.628571,
          3.767347,
          4.284314,
          3.326087,
          3.976471,
          3.78125,
          4.546053,
          3.3,
          3.695652,
          3.549708,
          3.639113,
          3.811538,
          3.076923,
          3.403846,
          4.373278,
          3.62426,
          3.697368,
          4.039931,
          3.527273,
          4.219512,
          3.35,
          4.1875,
          3.723077,
          3.806641,
          4.209821,
          3.428571,
          3.774015,
          3.875,
          3.5,
          4,
          3.502801,
          3.714912,
          4.145288,
          4.090909,
          3.667347,
          3.91,
          3.333333,
          3.696923,
          2.433333,
          3.739148,
          4.188462,
          3.768519,
          2.955556,
          4.11344,
          4.3125,
          4.1875,
          2.777778,
          4.203704,
          3.911197,
          3.619524,
          3.951429,
          3.710843,
          4.514144,
          3.692308,
          4,
          3.918415,
          3.535714,
          4.117647,
          3.940956,
          3.971675,
          4,
          4,
          3.728346,
          3.915902,
          2.583333,
          3.843373,
          3.752381,
          4.071918,
          3.985477,
          4.296801,
          3.384615,
          3.7,
          3.954082,
          4.174479,
          4.284091,
          3.32,
          4.231954,
          3.970183,
          3.959499,
          3.86,
          4.01,
          3.886831,
          4.173861,
          4.124434,
          4.388889,
          3.231707,
          2.85443,
          3.8375,
          3.445652,
          4.291667,
          3.886139,
          3.8,
          2.5,
          4.05,
          3.370246,
          3.08805,
          3.554217,
          3.758065,
          3.673387,
          3.615625,
          4.164921,
          4.4,
          4.5,
          3.736652,
          3.718254,
          3.875,
          3.96875,
          3.733766,
          3.721569,
          3.728571,
          3.902174,
          4.041424,
          3.403846,
          3.5,
          3.5,
          3.517007,
          3.064815,
          4.108787,
          3.672043,
          4.25,
          4.285505,
          3.727273,
          3.471774,
          3.534483,
          1.867647,
          4.182453,
          3.984375,
          3.735294,
          3.882022,
          4.232543,
          3.620283,
          3.768966,
          4.113208,
          3.833333,
          4.26284,
          3.603659,
          3.833333,
          4.202381,
          3.816384,
          4.072967,
          3.742857,
          3.856872,
          4.3,
          2.875,
          3.931208,
          3.924897,
          2.661538,
          3.941558,
          3.893048,
          3.833333,
          3.736607,
          3.721088,
          3.020392,
          2.5,
          3.580601,
          4.75,
          4.068471,
          3.985069,
          3.483607,
          3.590909,
          3.536232,
          3.375,
          3.996429,
          3.625874,
          3.689227,
          3.882716,
          3.677914,
          3.303006,
          4.588235,
          4.083333,
          4.125,
          3.338942,
          3.52381,
          3.900602,
          3.798246,
          4.132701,
          3.909786,
          3.975,
          4,
          3.45122,
          4.347826,
          4.027473,
          3.875,
          4.482955,
          4.045455,
          3.803191,
          2.697802,
          3.538462,
          4.071429,
          4.042793,
          4.046875,
          3.821429,
          3.568182,
          4.049111,
          4.046414,
          3.813107,
          3,
          3.060956,
          3.693533,
          4.008152,
          3.704363,
          3.960938,
          3.770833,
          3.670792,
          4.248631,
          3.209302,
          3.388889,
          2.509259,
          4.122376,
          4.088235,
          4.3,
          3.861789,
          3.814815,
          3.669079,
          3.463415,
          3.277778,
          4.070175,
          3.974265,
          2.867188,
          4.27362,
          2.2,
          4.430728,
          3.858696,
          3.964286,
          3.011628,
          3.611111,
          3.904709,
          4.125,
          4.15,
          4.0625,
          3.585,
          3.621495,
          3.266313,
          3.149425,
          3.575,
          4.161612,
          4.037152,
          3.788889,
          4,
          3.830239,
          3.354839,
          3.887931,
          4.168667,
          3.85,
          3.408815,
          4.05,
          3.339286,
          3.032178,
          3.91951,
          3.434211,
          4,
          4.117647,
          4.069444,
          3.847082,
          4.7,
          4.25,
          3.606061,
          3.769231,
          3.628319,
          2.115385,
          4.032872,
          4.125,
          3.571429,
          3.551122,
          3.854167,
          3.306383,
          3.981481,
          3.910714,
          4,
          4.25,
          3.909091,
          3.572581,
          3.79878,
          3.544444,
          4,
          3.54065,
          3.445122,
          4.087744,
          4.071429,
          3.970833,
          3.986842,
          1.957602,
          3.910853,
          3.343284,
          3.166667,
          3.75,
          3.71301,
          3.901709,
          3.75,
          3.785714,
          2.980392,
          3.868966,
          4.166667,
          4.296875,
          3.584699,
          3.895833,
          3.891566,
          3.607143,
          2.772727,
          3.25,
          3.447598,
          4.428571,
          3.798851,
          3.533333,
          3.715116,
          3.833333,
          2.96,
          3.903061,
          2.272727,
          4.166667,
          4.45,
          3.83689,
          4.233333,
          4.011628,
          4.127193,
          3.977761,
          4.008642,
          3.558824,
          3.748954,
          3.939873,
          3.350575,
          4,
          4,
          4.075,
          3.564103,
          2.923077,
          3.418987,
          4.166667,
          3.619048,
          4.116092,
          3.555556,
          4.006944,
          3.909331,
          3.306122,
          3.833333,
          3.828947,
          3.8,
          3.380952,
          3.664983,
          4.450779,
          4.139785,
          4.152788,
          3.6,
          3.936371,
          3.5,
          2.970588,
          4.017176,
          2.601896,
          3.742754,
          3.165289,
          4.095238,
          3.570312,
          2.826087,
          3.5,
          3.277778,
          3.906186,
          3.477273,
          4.453757,
          4.181818,
          4.183365,
          3.988889,
          3.590909,
          3.87551,
          4,
          3.890769,
          4,
          4.103286,
          4.25,
          2.66092,
          3.911585,
          3.230769,
          3.55,
          4,
          4.230732,
          2.875,
          3.705793,
          3.65,
          3.25,
          3.8,
          4.062852,
          3.322581,
          3.873077,
          3.843284,
          3.784884,
          4.153846,
          4.421849,
          3.738636,
          4.039683,
          3.646154,
          3.636364,
          4,
          3.75,
          4.16129,
          3.65,
          3.863636,
          4.333333,
          3.25,
          3.75,
          3.586921,
          3.8,
          3.721239,
          4.092593,
          4.516484,
          3,
          3.898284,
          3.989008,
          3.638889,
          3.227586,
          4.021739,
          3.769565,
          3.813333,
          3.904255,
          3.775735,
          3.270531,
          3.083333,
          3.166667,
          3.610345,
          3.583333,
          4.000575,
          4.367021,
          2.37931,
          3.359485,
          4.016367,
          4.293532,
          4.075831,
          3.34375,
          3.803571,
          3.837209,
          4.5,
          4.242424,
          3.474843,
          3.695652,
          3.166667,
          3.147727,
          3.285714,
          3.25,
          3.891026,
          3.333333,
          4.367647,
          4.035668,
          3.902913,
          3.714286,
          3.75,
          4.234848,
          3.884615,
          3.616114,
          3.991935,
          3.725,
          3.919598,
          3.532787,
          3.95122,
          3.8125,
          4.35446,
          3.400862,
          4.230159,
          3.660839,
          3.822581,
          4.044987,
          3.848837,
          4.032847,
          3.967249,
          4.125,
          4.339286,
          4.207715,
          4.2,
          4.077247,
          3.284314,
          3.653846,
          1.857143,
          3.093023,
          4.027778,
          3.99005,
          3.84642,
          3.77381,
          3.768041,
          3.812661,
          3.989035,
          4,
          3.823502,
          3.765038,
          3.401408,
          3.848837,
          3.895722,
          3.86875,
          3.82622,
          4.071429,
          3.75,
          3.986111,
          4.2,
          4.048683,
          3.970588,
          4.125,
          3.53125,
          3.615343,
          3.18,
          3.5,
          3.77,
          3.984043,
          3.704819,
          3.636691,
          3.478873,
          4,
          4.052846,
          3.575,
          3.788462,
          3.541667
         ]
        }
       ],
       "layout": {
        "template": {
         "data": {
          "bar": [
           {
            "error_x": {
             "color": "#2a3f5f"
            },
            "error_y": {
             "color": "#2a3f5f"
            },
            "marker": {
             "line": {
              "color": "#E5ECF6",
              "width": 0.5
             },
             "pattern": {
              "fillmode": "overlay",
              "size": 10,
              "solidity": 0.2
             }
            },
            "type": "bar"
           }
          ],
          "barpolar": [
           {
            "marker": {
             "line": {
              "color": "#E5ECF6",
              "width": 0.5
             },
             "pattern": {
              "fillmode": "overlay",
              "size": 10,
              "solidity": 0.2
             }
            },
            "type": "barpolar"
           }
          ],
          "carpet": [
           {
            "aaxis": {
             "endlinecolor": "#2a3f5f",
             "gridcolor": "white",
             "linecolor": "white",
             "minorgridcolor": "white",
             "startlinecolor": "#2a3f5f"
            },
            "baxis": {
             "endlinecolor": "#2a3f5f",
             "gridcolor": "white",
             "linecolor": "white",
             "minorgridcolor": "white",
             "startlinecolor": "#2a3f5f"
            },
            "type": "carpet"
           }
          ],
          "choropleth": [
           {
            "colorbar": {
             "outlinewidth": 0,
             "ticks": ""
            },
            "type": "choropleth"
           }
          ],
          "contour": [
           {
            "colorbar": {
             "outlinewidth": 0,
             "ticks": ""
            },
            "colorscale": [
             [
              0,
              "#0d0887"
             ],
             [
              0.1111111111111111,
              "#46039f"
             ],
             [
              0.2222222222222222,
              "#7201a8"
             ],
             [
              0.3333333333333333,
              "#9c179e"
             ],
             [
              0.4444444444444444,
              "#bd3786"
             ],
             [
              0.5555555555555556,
              "#d8576b"
             ],
             [
              0.6666666666666666,
              "#ed7953"
             ],
             [
              0.7777777777777778,
              "#fb9f3a"
             ],
             [
              0.8888888888888888,
              "#fdca26"
             ],
             [
              1,
              "#f0f921"
             ]
            ],
            "type": "contour"
           }
          ],
          "contourcarpet": [
           {
            "colorbar": {
             "outlinewidth": 0,
             "ticks": ""
            },
            "type": "contourcarpet"
           }
          ],
          "heatmap": [
           {
            "colorbar": {
             "outlinewidth": 0,
             "ticks": ""
            },
            "colorscale": [
             [
              0,
              "#0d0887"
             ],
             [
              0.1111111111111111,
              "#46039f"
             ],
             [
              0.2222222222222222,
              "#7201a8"
             ],
             [
              0.3333333333333333,
              "#9c179e"
             ],
             [
              0.4444444444444444,
              "#bd3786"
             ],
             [
              0.5555555555555556,
              "#d8576b"
             ],
             [
              0.6666666666666666,
              "#ed7953"
             ],
             [
              0.7777777777777778,
              "#fb9f3a"
             ],
             [
              0.8888888888888888,
              "#fdca26"
             ],
             [
              1,
              "#f0f921"
             ]
            ],
            "type": "heatmap"
           }
          ],
          "heatmapgl": [
           {
            "colorbar": {
             "outlinewidth": 0,
             "ticks": ""
            },
            "colorscale": [
             [
              0,
              "#0d0887"
             ],
             [
              0.1111111111111111,
              "#46039f"
             ],
             [
              0.2222222222222222,
              "#7201a8"
             ],
             [
              0.3333333333333333,
              "#9c179e"
             ],
             [
              0.4444444444444444,
              "#bd3786"
             ],
             [
              0.5555555555555556,
              "#d8576b"
             ],
             [
              0.6666666666666666,
              "#ed7953"
             ],
             [
              0.7777777777777778,
              "#fb9f3a"
             ],
             [
              0.8888888888888888,
              "#fdca26"
             ],
             [
              1,
              "#f0f921"
             ]
            ],
            "type": "heatmapgl"
           }
          ],
          "histogram": [
           {
            "marker": {
             "pattern": {
              "fillmode": "overlay",
              "size": 10,
              "solidity": 0.2
             }
            },
            "type": "histogram"
           }
          ],
          "histogram2d": [
           {
            "colorbar": {
             "outlinewidth": 0,
             "ticks": ""
            },
            "colorscale": [
             [
              0,
              "#0d0887"
             ],
             [
              0.1111111111111111,
              "#46039f"
             ],
             [
              0.2222222222222222,
              "#7201a8"
             ],
             [
              0.3333333333333333,
              "#9c179e"
             ],
             [
              0.4444444444444444,
              "#bd3786"
             ],
             [
              0.5555555555555556,
              "#d8576b"
             ],
             [
              0.6666666666666666,
              "#ed7953"
             ],
             [
              0.7777777777777778,
              "#fb9f3a"
             ],
             [
              0.8888888888888888,
              "#fdca26"
             ],
             [
              1,
              "#f0f921"
             ]
            ],
            "type": "histogram2d"
           }
          ],
          "histogram2dcontour": [
           {
            "colorbar": {
             "outlinewidth": 0,
             "ticks": ""
            },
            "colorscale": [
             [
              0,
              "#0d0887"
             ],
             [
              0.1111111111111111,
              "#46039f"
             ],
             [
              0.2222222222222222,
              "#7201a8"
             ],
             [
              0.3333333333333333,
              "#9c179e"
             ],
             [
              0.4444444444444444,
              "#bd3786"
             ],
             [
              0.5555555555555556,
              "#d8576b"
             ],
             [
              0.6666666666666666,
              "#ed7953"
             ],
             [
              0.7777777777777778,
              "#fb9f3a"
             ],
             [
              0.8888888888888888,
              "#fdca26"
             ],
             [
              1,
              "#f0f921"
             ]
            ],
            "type": "histogram2dcontour"
           }
          ],
          "mesh3d": [
           {
            "colorbar": {
             "outlinewidth": 0,
             "ticks": ""
            },
            "type": "mesh3d"
           }
          ],
          "parcoords": [
           {
            "line": {
             "colorbar": {
              "outlinewidth": 0,
              "ticks": ""
             }
            },
            "type": "parcoords"
           }
          ],
          "pie": [
           {
            "automargin": true,
            "type": "pie"
           }
          ],
          "scatter": [
           {
            "marker": {
             "colorbar": {
              "outlinewidth": 0,
              "ticks": ""
             }
            },
            "type": "scatter"
           }
          ],
          "scatter3d": [
           {
            "line": {
             "colorbar": {
              "outlinewidth": 0,
              "ticks": ""
             }
            },
            "marker": {
             "colorbar": {
              "outlinewidth": 0,
              "ticks": ""
             }
            },
            "type": "scatter3d"
           }
          ],
          "scattercarpet": [
           {
            "marker": {
             "colorbar": {
              "outlinewidth": 0,
              "ticks": ""
             }
            },
            "type": "scattercarpet"
           }
          ],
          "scattergeo": [
           {
            "marker": {
             "colorbar": {
              "outlinewidth": 0,
              "ticks": ""
             }
            },
            "type": "scattergeo"
           }
          ],
          "scattergl": [
           {
            "marker": {
             "colorbar": {
              "outlinewidth": 0,
              "ticks": ""
             }
            },
            "type": "scattergl"
           }
          ],
          "scattermapbox": [
           {
            "marker": {
             "colorbar": {
              "outlinewidth": 0,
              "ticks": ""
             }
            },
            "type": "scattermapbox"
           }
          ],
          "scatterpolar": [
           {
            "marker": {
             "colorbar": {
              "outlinewidth": 0,
              "ticks": ""
             }
            },
            "type": "scatterpolar"
           }
          ],
          "scatterpolargl": [
           {
            "marker": {
             "colorbar": {
              "outlinewidth": 0,
              "ticks": ""
             }
            },
            "type": "scatterpolargl"
           }
          ],
          "scatterternary": [
           {
            "marker": {
             "colorbar": {
              "outlinewidth": 0,
              "ticks": ""
             }
            },
            "type": "scatterternary"
           }
          ],
          "surface": [
           {
            "colorbar": {
             "outlinewidth": 0,
             "ticks": ""
            },
            "colorscale": [
             [
              0,
              "#0d0887"
             ],
             [
              0.1111111111111111,
              "#46039f"
             ],
             [
              0.2222222222222222,
              "#7201a8"
             ],
             [
              0.3333333333333333,
              "#9c179e"
             ],
             [
              0.4444444444444444,
              "#bd3786"
             ],
             [
              0.5555555555555556,
              "#d8576b"
             ],
             [
              0.6666666666666666,
              "#ed7953"
             ],
             [
              0.7777777777777778,
              "#fb9f3a"
             ],
             [
              0.8888888888888888,
              "#fdca26"
             ],
             [
              1,
              "#f0f921"
             ]
            ],
            "type": "surface"
           }
          ],
          "table": [
           {
            "cells": {
             "fill": {
              "color": "#EBF0F8"
             },
             "line": {
              "color": "white"
             }
            },
            "header": {
             "fill": {
              "color": "#C8D4E3"
             },
             "line": {
              "color": "white"
             }
            },
            "type": "table"
           }
          ]
         },
         "layout": {
          "annotationdefaults": {
           "arrowcolor": "#2a3f5f",
           "arrowhead": 0,
           "arrowwidth": 1
          },
          "autotypenumbers": "strict",
          "coloraxis": {
           "colorbar": {
            "outlinewidth": 0,
            "ticks": ""
           }
          },
          "colorscale": {
           "diverging": [
            [
             0,
             "#8e0152"
            ],
            [
             0.1,
             "#c51b7d"
            ],
            [
             0.2,
             "#de77ae"
            ],
            [
             0.3,
             "#f1b6da"
            ],
            [
             0.4,
             "#fde0ef"
            ],
            [
             0.5,
             "#f7f7f7"
            ],
            [
             0.6,
             "#e6f5d0"
            ],
            [
             0.7,
             "#b8e186"
            ],
            [
             0.8,
             "#7fbc41"
            ],
            [
             0.9,
             "#4d9221"
            ],
            [
             1,
             "#276419"
            ]
           ],
           "sequential": [
            [
             0,
             "#0d0887"
            ],
            [
             0.1111111111111111,
             "#46039f"
            ],
            [
             0.2222222222222222,
             "#7201a8"
            ],
            [
             0.3333333333333333,
             "#9c179e"
            ],
            [
             0.4444444444444444,
             "#bd3786"
            ],
            [
             0.5555555555555556,
             "#d8576b"
            ],
            [
             0.6666666666666666,
             "#ed7953"
            ],
            [
             0.7777777777777778,
             "#fb9f3a"
            ],
            [
             0.8888888888888888,
             "#fdca26"
            ],
            [
             1,
             "#f0f921"
            ]
           ],
           "sequentialminus": [
            [
             0,
             "#0d0887"
            ],
            [
             0.1111111111111111,
             "#46039f"
            ],
            [
             0.2222222222222222,
             "#7201a8"
            ],
            [
             0.3333333333333333,
             "#9c179e"
            ],
            [
             0.4444444444444444,
             "#bd3786"
            ],
            [
             0.5555555555555556,
             "#d8576b"
            ],
            [
             0.6666666666666666,
             "#ed7953"
            ],
            [
             0.7777777777777778,
             "#fb9f3a"
            ],
            [
             0.8888888888888888,
             "#fdca26"
            ],
            [
             1,
             "#f0f921"
            ]
           ]
          },
          "colorway": [
           "#636efa",
           "#EF553B",
           "#00cc96",
           "#ab63fa",
           "#FFA15A",
           "#19d3f3",
           "#FF6692",
           "#B6E880",
           "#FF97FF",
           "#FECB52"
          ],
          "font": {
           "color": "#2a3f5f"
          },
          "geo": {
           "bgcolor": "white",
           "lakecolor": "white",
           "landcolor": "#E5ECF6",
           "showlakes": true,
           "showland": true,
           "subunitcolor": "white"
          },
          "hoverlabel": {
           "align": "left"
          },
          "hovermode": "closest",
          "mapbox": {
           "style": "light"
          },
          "paper_bgcolor": "white",
          "plot_bgcolor": "#E5ECF6",
          "polar": {
           "angularaxis": {
            "gridcolor": "white",
            "linecolor": "white",
            "ticks": ""
           },
           "bgcolor": "#E5ECF6",
           "radialaxis": {
            "gridcolor": "white",
            "linecolor": "white",
            "ticks": ""
           }
          },
          "scene": {
           "xaxis": {
            "backgroundcolor": "#E5ECF6",
            "gridcolor": "white",
            "gridwidth": 2,
            "linecolor": "white",
            "showbackground": true,
            "ticks": "",
            "zerolinecolor": "white"
           },
           "yaxis": {
            "backgroundcolor": "#E5ECF6",
            "gridcolor": "white",
            "gridwidth": 2,
            "linecolor": "white",
            "showbackground": true,
            "ticks": "",
            "zerolinecolor": "white"
           },
           "zaxis": {
            "backgroundcolor": "#E5ECF6",
            "gridcolor": "white",
            "gridwidth": 2,
            "linecolor": "white",
            "showbackground": true,
            "ticks": "",
            "zerolinecolor": "white"
           }
          },
          "shapedefaults": {
           "line": {
            "color": "#2a3f5f"
           }
          },
          "ternary": {
           "aaxis": {
            "gridcolor": "white",
            "linecolor": "white",
            "ticks": ""
           },
           "baxis": {
            "gridcolor": "white",
            "linecolor": "white",
            "ticks": ""
           },
           "bgcolor": "#E5ECF6",
           "caxis": {
            "gridcolor": "white",
            "linecolor": "white",
            "ticks": ""
           }
          },
          "title": {
           "x": 0.05
          },
          "xaxis": {
           "automargin": true,
           "gridcolor": "white",
           "linecolor": "white",
           "ticks": "",
           "title": {
            "standoff": 15
           },
           "zerolinecolor": "white",
           "zerolinewidth": 2
          },
          "yaxis": {
           "automargin": true,
           "gridcolor": "white",
           "linecolor": "white",
           "ticks": "",
           "title": {
            "standoff": 15
           },
           "zerolinecolor": "white",
           "zerolinewidth": 2
          }
         }
        },
        "xaxis": {
         "title": {
          "text": "prediction"
         }
        },
        "yaxis": {
         "title": {
          "text": "y_test"
         }
        }
       }
      }
     },
     "metadata": {},
     "output_type": "display_data"
    }
   ],
   "source": [
    "fig = go.Figure()\n",
    "fig.add_trace(go.Scatter(\n",
    "    x=[-2,1, 2 ],  # x values\n",
    "    y=[-2,1, 2],  # y values\n",
    "    mode='lines'  # set the trace type to markers\n",
    "))\n",
    "fig.add_trace(go.Scatter(\n",
    "    x=ynewpred , y=y_test,  # y values\n",
    "    mode='markers'  # set the trace type to markers\n",
    "))\n",
    "\n",
    "\n",
    "fig.update_layout(\n",
    "    xaxis=dict(\n",
    "        title='prediction'\n",
    "    ),\n",
    "    yaxis=dict(\n",
    "        title='y_test'\n",
    "    )\n",
    ")\n",
    "fig.show()\n"
   ]
  },
  {
   "cell_type": "code",
   "execution_count": null,
   "metadata": {},
   "outputs": [
    {
     "name": "stdout",
     "output_type": "stream",
     "text": [
      "3.9209709085363333\n"
     ]
    }
   ],
   "source": [
    "from sklearn.metrics import mean_squared_error, mean_absolute_error\n",
    "\n",
    "# Calculate the RMSE of the predictions\n",
    "rmse = np.sqrt(mean_squared_error(y_test, ynewpred))\n",
    "print(rmse)"
   ]
  },
  {
   "cell_type": "code",
   "execution_count": 714,
   "metadata": {},
   "outputs": [
    {
     "data": {
      "text/plain": [
       "<matplotlib.legend.Legend at 0x164ada738e0>"
      ]
     },
     "execution_count": 714,
     "metadata": {},
     "output_type": "execute_result"
    },
    {
     "data": {
      "image/png": "[encoded data removed]",
      "text/plain": [
       "<Figure size 640x480 with 1 Axes>"
      ]
     },
     "metadata": {},
     "output_type": "display_data"
    }
   ],
   "source": [
    "fig, ax = plt.subplots()\n",
    "#ax.plot(X_train[\"ABV\"], y_train, \"o\", label=\"Data\")\n",
    "ax.plot(X_test[\"Alcohol\"], ynewpred, \"o\", label=\"prediction\")\n",
    "\n",
    "ax.plot(X_test[\"Alcohol\"], y_test, \"o\", label=\"True\")\n",
    "#ax.plot(np.hstack((X_train, X_test)), np.hstack((res.predict(X_train), ynewpred)), \"r\", label=\"OLS prediction\")\n",
    "ax.legend(loc=\"best\")"
   ]
  }
 ],
 "metadata": {
  "kernelspec": {
   "display_name": "Python 3",
   "language": "python",
   "name": "python3"
  },
  "language_info": {
   "codemirror_mode": {
    "name": "ipython",
    "version": 3
   },
   "file_extension": ".py",
   "mimetype": "text/x-python",
   "name": "python",
   "nbconvert_exporter": "python",
   "pygments_lexer": "ipython3",
   "version": "3.9.0"
  },
  "orig_nbformat": 4,
  "vscode": {
   "interpreter": {
    "hash": "d4f2838866252358e8356908bfe578159dba55fbe903e0d25dacf462f792c2ff"
   }
  }
 },
 "nbformat": 4,
 "nbformat_minor": 2
}
