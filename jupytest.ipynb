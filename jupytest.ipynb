{
 "cells": [
  {
   "cell_type": "code",
   "execution_count": 985,
   "metadata": {},
   "outputs": [],
   "source": [
    "#import sys\n",
    "#!{sys.executable} -m pip install statsmodels"
   ]
  },
  {
   "cell_type": "code",
   "execution_count": 986,
   "metadata": {},
   "outputs": [
    {
     "name": "stdout",
     "output_type": "stream",
     "text": [
      "3197\n",
      "111\n",
      "934\n",
      "49\n",
      "Index(['Name', 'Style', 'Brewery', 'Beer Name (Full)', 'Description', 'ABV',\n",
      "       'Min IBU', 'Max IBU', 'Astringency', 'Body', 'Alcohol', 'Bitter',\n",
      "       'Sweet', 'Sour', 'Salty', 'Fruits', 'Hoppy', 'Spices', 'Malty',\n",
      "       'review_aroma', 'review_appearance', 'review_palate', 'review_taste',\n",
      "       'review_overall', 'number_of_reviews'],\n",
      "      dtype='object')\n",
      "count    3197.000000\n",
      "mean       38.529559\n",
      "std        32.296646\n",
      "min         0.000000\n",
      "25%        12.000000\n",
      "50%        29.000000\n",
      "75%        60.000000\n",
      "max       175.000000\n",
      "Name: Fruits, dtype: float64\n"
     ]
    }
   ],
   "source": [
    "import function\n",
    "import plotly.express as px\n",
    "import pandas as pd\n",
    "import numpy as np\n",
    "import matplotlib\n",
    "import matplotlib.pyplot as plt\n",
    "from scipy.stats import skew, kurtosis\n",
    "from pandas.plotting import scatter_matrix\n",
    "import seaborn as sns\n",
    "from sklearn.preprocessing import LabelEncoder\n",
    "from sklearn.preprocessing import Normalizer\n",
    "from sklearn.linear_model import LogisticRegression\n",
    "from sklearn.model_selection import train_test_split\n",
    "import plotly.graph_objects as go\n",
    "from sklearn.linear_model import LinearRegression\n",
    "from sklearn.metrics import accuracy_score\n",
    "import statsmodels.api as sm\n",
    "import statsmodels.formula.api as smf\n",
    "df = pd.read_csv(\"beer_profile_and_ratings.csv\" )\n",
    "#pd.set_option(\"display.max_rows\", None, \"display.max_columns\", None)\n",
    "print(len(df))\n",
    "print(len(df[\"Style\"].value_counts()))\n",
    "print(len(df[\"Brewery\"].value_counts()))\n",
    "print(df[\"Fruits\"][3])\n",
    "print(df.columns)\n",
    "summary = df['Fruits'].describe()\n",
    "print(summary)\n",
    "import plotly.graph_objs as go\n",
    "from ipywidgets import *\n",
    "from importlib import reload\n",
    "#import statsmodels.api as sm\n",
    "function = reload(function)\n",
    "df = df.sort_values(by='review_aroma')\n"
   ]
  },
  {
   "attachments": {},
   "cell_type": "markdown",
   "metadata": {},
   "source": [
    "## task 1 : Separate arbitrarily a small subset of observations from the dataset"
   ]
  },
  {
   "cell_type": "code",
   "execution_count": 987,
   "metadata": {},
   "outputs": [],
   "source": [
    "subset = df.sample(frac=0.1)"
   ]
  },
  {
   "attachments": {},
   "cell_type": "markdown",
   "metadata": {},
   "source": [
    "## task 2: Formulating an objective"
   ]
  },
  {
   "attachments": {},
   "cell_type": "markdown",
   "metadata": {},
   "source": [
    "the objective with this dataset is to be able to predict the \"review_overall\" of a element \n",
    "\n",
    "we could also try to determine what factors have the most impact on a score and give feedback to improve a beer based on it's attributes :\n",
    "\n",
    "Here is an outline of the process:\n",
    "\n",
    "    -Collect a labeled dataset, where each entry is associated with a score and its attributes.\n",
    "    -Preprocess the data, including splitting it into training and testing sets.\n",
    "    -Train a model on the training set, using a supervised learning algorithm such as linear regression, decision tree, or random forest.\n",
    "    -Test the model on the testing set and evaluate its performance.\n",
    "    -Use the trained model to predict the score for a new entry with the attributes you want to change.\n",
    "    -Modify the attributes of the new entry and re-predict the score using the trained model.\n",
    "    -Compare the scores obtained before and after modifying the attributes to determine which attribute changes lead to an improvement in the score.\n",
    "\n",
    "It's worth noting that this process assumes that the relationship between the attributes and the score is linear or can be approximated by a linear model. If this is not the case, you may need to use a more complex model or consider other approaches to identify the attribute changes that lead to an improvement in the score."
   ]
  },
  {
   "attachments": {},
   "cell_type": "markdown",
   "metadata": {},
   "source": [
    "## task 3: Descriptive analysis "
   ]
  },
  {
   "attachments": {},
   "cell_type": "markdown",
   "metadata": {},
   "source": [
    "| - informative variables: | - Qualitative variables:   | - Quantitative variable: | - Scores: |\n",
    "|------|------|------|------|\n",
    "|   1 Name |1 Style|1 ABV|1 review_aroma\n",
    "|2 Full Name |2 brewery|2 Min IBU|2 review_appearance\n",
    "|3 description  | | 3 Max IBU|3 review_palate\n",
    "| | |4 Astringency|4 review_taste\n",
    "| | |5 Body|///////////////////////////////////|\n",
    "| | |6 Alcohol|5 review_overall\n",
    "| | |7 Bitter|\n",
    "| | |8 Sweet|\n",
    "| | |9 Sour|\n",
    "| | |10 Salty|\n",
    "| | |11 Fruits|\n",
    "| | |12 Hoppy|\n",
    "| | |13 Spices|\n",
    "| | |14 Malty| \n",
    "\n",
    "\n",
    "The informative variables don't give a lot of information about the score that are not already presents in the other variables. Therefore they wont be used \n",
    "\n",
    "The qualitative variables will be one-hot encoded to be treated as Quantitative variables \n",
    "\n",
    "The Quantitative variables will be used as his \n",
    "\n",
    "the scores will be used as target for the model "
   ]
  },
  {
   "attachments": {},
   "cell_type": "markdown",
   "metadata": {},
   "source": [
    "| name              |      mean |        std |   skewness |   kurtosis |\n",
    "|:------------------|----------:|-----------:|-----------:|-----------:|\n",
    "| Style             |  55.5705  |  32.3737   | -0.0196824 |  -1.18762  |\n",
    "| Brewery           | 296.225   | 169.184    | -0.178968  |  -1.2789   |\n",
    "| ABV               |   6.52669 |   2.547    |  3.67993   |  55.2444   |\n",
    "| Min IBU           |  21.1805  |  13.2422   |  1.09326   |   1.32465  |\n",
    "| Max IBU           |  38.9869  |  21.3553   |  0.99054   |   0.977638 |\n",
    "| Astringency       |  16.5158  |  10.4107   |  1.31567   |   2.7722   |\n",
    "| Body              |  46.1295  |  25.9478   |  1.14028   |   1.61526  |\n",
    "| Alcohol           |  17.056   |  17.3313   |  2.23306   |   6.28596  |\n",
    "| Bitter            |  36.3644  |  25.7912   |  1.00606   |   0.938633 |\n",
    "| Sweet             |  58.2709  |  34.2813   |  0.905323  |   1.31787  |\n",
    "| Sour              |  33.1454  |  35.7802   |  2.52257   |   7.85566  |\n",
    "| Salty             |   1.0172  |   2.13265  |  7.53925   | 115.175    |\n",
    "| Fruits            |  38.5296  |  32.2966   |  0.944666  |   0.220681 |\n",
    "| Hoppy             |  40.9246  |  30.4036   |  1.10125   |   0.909249 |\n",
    "| Spices            |  18.3456  |  23.7566   |  2.89396   |  10.4379   |\n",
    "| Malty             |  75.3309  |  39.9093   |  0.382408  |  -0.195185 |\n",
    "| review_aroma      |   3.63879 |   0.503209 | -1.09663   |   1.739    |\n",
    "| review_appearance |   3.75439 |   0.403416 | -1.41173   |   2.90485  |\n",
    "| review_palate     |   3.66043 |   0.449937 | -1.19533   |   2.19325  |\n",
    "| review_taste      |   3.7025  |   0.510361 | -1.15676   |   1.9346   |\n",
    "| review_overall    |   3.74752 |   0.444288 | -1.31737   |   2.72505  |\n",
    "| number_of_reviews | 233.285   | 361.812    |  3.02845   |  11.8498   |"
   ]
  },
  {
   "cell_type": "code",
   "execution_count": 988,
   "metadata": {},
   "outputs": [],
   "source": [
    "\n",
    "def describe_columns(dataset):\n",
    "    # create an empty dataframe to store the results\n",
    "    results = pd.DataFrame(columns=[\"name\",'mean', 'std', 'skewness', 'kurtosis'])\n",
    "    \n",
    "    # iterate over each column in the dataset\n",
    "    for col in dataset.columns:\n",
    "\n",
    "        if (dataset[col].dtypes == float or dataset[col].dtypes == int):\n",
    "        # calculate the mean, standard deviation, skewness, and kurtosis\n",
    "            \n",
    "            mean = dataset[col].mean()\n",
    "            std = dataset[col].std()\n",
    "            skewness = skew(dataset[col])\n",
    "            kurt = kurtosis(dataset[col])\n",
    "            results.loc[col] = [ col, mean, std, skewness, kurt]\n",
    "\n",
    "       \n",
    "        \n",
    "    return results\n",
    "\n",
    "def set_to_nan(df , name):\n",
    "    counts = df[name].value_counts()\n",
    "    to_replace = counts[counts == 1].index\n",
    "\n",
    "    # Replace these elements with NaN\n",
    "    df[name].replace(to_replace, np.nan, inplace=True)\n"
   ]
  },
  {
   "cell_type": "code",
   "execution_count": 989,
   "metadata": {},
   "outputs": [
    {
     "name": "stdout",
     "output_type": "stream",
     "text": [
      "| name              |      mean |        std |   skewness |   kurtosis |\n",
      "|:------------------|----------:|-----------:|-----------:|-----------:|\n",
      "| Style             |  55.5705  |  32.3737   | -0.0196824 |  -1.18762  |\n",
      "| Brewery           | 296.225   | 169.184    | -0.178968  |  -1.2789   |\n",
      "| ABV               |   6.52669 |   2.547    |  3.67993   |  55.2444   |\n",
      "| Min IBU           |  21.1805  |  13.2422   |  1.09326   |   1.32465  |\n",
      "| Max IBU           |  38.9869  |  21.3553   |  0.99054   |   0.977638 |\n",
      "| Astringency       |  16.5158  |  10.4107   |  1.31567   |   2.7722   |\n",
      "| Body              |  46.1295  |  25.9478   |  1.14028   |   1.61526  |\n",
      "| Alcohol           |  17.056   |  17.3313   |  2.23306   |   6.28596  |\n",
      "| Bitter            |  36.3644  |  25.7912   |  1.00606   |   0.938633 |\n",
      "| Sweet             |  58.2709  |  34.2813   |  0.905323  |   1.31787  |\n",
      "| Sour              |  33.1454  |  35.7802   |  2.52257   |   7.85566  |\n",
      "| Salty             |   1.0172  |   2.13265  |  7.53925   | 115.175    |\n",
      "| Fruits            |  38.5296  |  32.2966   |  0.944666  |   0.220681 |\n",
      "| Hoppy             |  40.9246  |  30.4036   |  1.10125   |   0.909249 |\n",
      "| Spices            |  18.3456  |  23.7566   |  2.89396   |  10.4379   |\n",
      "| Malty             |  75.3309  |  39.9093   |  0.382408  |  -0.195185 |\n",
      "| review_aroma      |   3.63879 |   0.503209 | -1.09663   |   1.739    |\n",
      "| review_appearance |   3.75439 |   0.403416 | -1.41173   |   2.90485  |\n",
      "| review_palate     |   3.66043 |   0.449937 | -1.19533   |   2.19325  |\n",
      "| review_taste      |   3.7025  |   0.510361 | -1.15676   |   1.9346   |\n",
      "| review_overall    |   3.74752 |   0.444288 | -1.31737   |   2.72505  |\n",
      "| number_of_reviews | 233.285   | 361.812    |  3.02845   |  11.8498   |\n"
     ]
    }
   ],
   "source": [
    "set_to_nan(df, \"Brewery\")\n",
    "set_to_nan(df, \"Style\")\n",
    "encoder = LabelEncoder()\n",
    "df['Style'] = encoder.fit_transform(df['Style'])\n",
    "df['Brewery'] = encoder.fit_transform(df['Brewery'])\n",
    "table = describe_columns(df)\n",
    "markdown_table = table.to_markdown(index=False)\n",
    "print(markdown_table)\n"
   ]
  },
  {
   "cell_type": "code",
   "execution_count": 990,
   "metadata": {},
   "outputs": [
    {
     "data": {
      "application/vnd.plotly.v1+json": {
       "config": {
        "plotlyServerURL": "https://plot.ly"
       },
       "data": [
        {
         "coloraxis": "coloraxis",
         "hovertemplate": "x: %{x}<br>y: %{y}<br>color: %{z}<extra></extra>",
         "name": "0",
         "type": "heatmap",
         "x": [
          "Style",
          "Brewery",
          "ABV",
          "Min IBU",
          "Max IBU",
          "Astringency",
          "Body",
          "Alcohol",
          "Bitter",
          "Sweet",
          "Sour",
          "Salty",
          "Fruits",
          "Hoppy",
          "Spices",
          "Malty",
          "review_aroma",
          "review_appearance",
          "review_palate",
          "review_taste",
          "review_overall",
          "number_of_reviews"
         ],
         "xaxis": "x",
         "y": [
          "Style",
          "Brewery",
          "ABV",
          "Min IBU",
          "Max IBU",
          "Astringency",
          "Body",
          "Alcohol",
          "Bitter",
          "Sweet",
          "Sour",
          "Salty",
          "Fruits",
          "Hoppy",
          "Spices",
          "Malty",
          "review_aroma",
          "review_appearance",
          "review_palate",
          "review_taste",
          "review_overall",
          "number_of_reviews"
         ],
         "yaxis": "y",
         "z": [
          [
           1,
           -0.03252202396259333,
           0.04978117045227799,
           0.024061164969892922,
           0.09091666459352132,
           -0.039676679305834364,
           0.1933351465927405,
           0.07539832513595071,
           -0.03083314996830661,
           -0.018130206661279576,
           0.05041834121760445,
           -0.016642900599431708,
           0.038953974323662946,
           -0.22293775570201618,
           0.15970134442739778,
           0.05385344810114894,
           0.15225014714130464,
           0.15186331089617106,
           0.12598206941186707,
           0.14353895606784678,
           0.12680716952199847,
           0.0733103652038086
          ],
          [
           -0.03252202396259333,
           1,
           -0.06180869422653037,
           0.013844360903346634,
           -0.00788463084532121,
           -0.014816502580701859,
           0.022595576663635625,
           -0.05843713323455834,
           0.07285530859451875,
           -0.112941021029112,
           -0.1105956328357808,
           0.026767143252967654,
           -0.15274411760410833,
           0.0479649851125783,
           -0.01666695590789988,
           0.053389364863604606,
           -0.039671375326612024,
           -0.04014818537769591,
           -0.030159988767699115,
           -0.020584683085631696,
           -0.01896018645395902,
           -0.11286823510460021
          ],
          [
           0.04978117045227799,
           -0.06180869422653037,
           1,
           0.43200477665904574,
           0.5010372783119746,
           -0.16952051716577507,
           0.24167311788681703,
           0.6549081323635036,
           0.06738791508283876,
           0.46348749513500276,
           0.10079488302184561,
           -0.12008882919383904,
           0.29100109277727054,
           -0.05259620244165197,
           0.19146831112259513,
           0.16206017611718923,
           0.41619724615683845,
           0.34913871674655444,
           0.3925173324497407,
           0.3811995105532268,
           0.2518383122401136,
           0.14217647481509024
          ],
          [
           0.024061164969892922,
           0.013844360903346634,
           0.43200477665904574,
           1,
           0.8542480600507887,
           -0.07150127451953407,
           0.3253379041925936,
           0.32369407563839164,
           0.5394521554851789,
           0.22713877649606168,
           -0.07309795574359289,
           -0.05751176844051561,
           0.06633531965284262,
           0.40747531734544745,
           -0.0461517859190685,
           0.3000406724478305,
           0.34373013551156395,
           0.38090775266364507,
           0.35272349117227253,
           0.339885080757951,
           0.289971666247407,
           0.21982152585628406
          ],
          [
           0.09091666459352132,
           -0.00788463084532121,
           0.5010372783119746,
           0.8542480600507887,
           1,
           -0.12027327734434598,
           0.3106166641156924,
           0.39281140170071044,
           0.47808036293411926,
           0.2772921758743726,
           -0.04327508004901294,
           -0.08321351751772345,
           0.17292850877520646,
           0.34516751941723006,
           0.04453345629487107,
           0.28821916236243894,
           0.3694556864027763,
           0.3796546130429575,
           0.35560783798624485,
           0.34655698907822774,
           0.27196911002078644,
           0.22157176687101618
          ],
          [
           -0.039676679305834364,
           -0.014816502580701859,
           -0.16952051716577507,
           -0.07150127451953407,
           -0.12027327734434598,
           1,
           -0.05953970774305938,
           -0.1719868781247495,
           0.11468597684445116,
           -0.02145639576338612,
           0.5710299129120371,
           0.34715503775566947,
           0.3452321317863023,
           0.3309508451545472,
           -0.08379501878024592,
           -0.08208536560219601,
           0.06857917206758755,
           0.07094825706471011,
           0.10695047976167632,
           0.09202076708070223,
           0.1597875128768486,
           -0.05006181359722321
          ],
          [
           0.1933351465927405,
           0.022595576663635625,
           0.24167311788681703,
           0.3253379041925936,
           0.3106166641156924,
           -0.05953970774305938,
           1,
           0.2688850065727633,
           0.5422364208696798,
           0.45884179682525456,
           -0.1267333137496675,
           -0.09927735210556797,
           -0.04815457264068544,
           0.07013822759162582,
           0.18512299231000692,
           0.7542281845837226,
           0.36023421182812543,
           0.4213314223351959,
           0.345269714916101,
           0.3650548810392072,
           0.31382440495783587,
           0.03905718011237272
          ],
          [
           0.07539832513595071,
           -0.05843713323455834,
           0.6549081323635036,
           0.32369407563839164,
           0.39281140170071044,
           -0.1719868781247495,
           0.2688850065727633,
           1,
           0.009087782280761429,
           0.5270388893620067,
           0.048767387722872896,
           -0.09432929331845473,
           0.25429906332903723,
           -0.07994928814997322,
           0.2528757933387742,
           0.27010560808305495,
           0.24298928253092314,
           0.18469299563504687,
           0.20556912229440716,
           0.20670118168808124,
           0.06978876810912928,
           0.048345599584645946
          ],
          [
           -0.03083314996830661,
           0.07285530859451875,
           0.06738791508283876,
           0.5394521554851789,
           0.47808036293411926,
           0.11468597684445116,
           0.5422364208696798,
           0.009087782280761429,
           1,
           0.09170546736299781,
           -0.13691368779295057,
           0.0046928247751188285,
           -0.09344986422707176,
           0.7128867533688303,
           -0.08404810274876928,
           0.565570029162079,
           0.241456529108836,
           0.33185394415509345,
           0.25726679730226554,
           0.2533732926955554,
           0.26087406999180285,
           0.11202585596088833
          ],
          [
           -0.018130206661279576,
           -0.112941021029112,
           0.46348749513500276,
           0.22713877649606168,
           0.2772921758743726,
           -0.02145639576338612,
           0.45884179682525456,
           0.5270388893620067,
           0.09170546736299781,
           1,
           0.25791256079784786,
           -0.13191783352449574,
           0.4820299442835623,
           -0.03432744915907549,
           0.10754762278775094,
           0.4710319651832938,
           0.3565137920263399,
           0.33231063981131787,
           0.3157673130128866,
           0.32227711739879933,
           0.20729346564619205,
           0.048486712925610645
          ],
          [
           0.05041834121760445,
           -0.1105956328357808,
           0.10079488302184561,
           -0.07309795574359289,
           -0.04327508004901294,
           0.5710299129120371,
           -0.1267333137496675,
           0.048767387722872896,
           -0.13691368779295057,
           0.25791256079784786,
           1,
           0.09817284186732218,
           0.7858825416364535,
           0.06889460699706648,
           0.0018310364731186773,
           -0.30326637348114505,
           0.28931961099919484,
           0.20481689880415982,
           0.24516869381765807,
           0.24431417862792837,
           0.21344859990565876,
           0.006642086083797162
          ],
          [
           -0.016642900599431708,
           0.026767143252967654,
           -0.12008882919383904,
           -0.05751176844051561,
           -0.08321351751772345,
           0.34715503775566947,
           -0.09927735210556797,
           -0.09432929331845473,
           0.0046928247751188285,
           -0.13191783352449574,
           0.09817284186732218,
           1,
           0.02691958490838415,
           0.17260617792048957,
           -0.023078823311561115,
           -0.02824128919842652,
           -0.08820980834405952,
           -0.08138801604957045,
           -0.038413240816782185,
           -0.05747906971692455,
           -0.00819874951213658,
           -0.029680014522977815
          ],
          [
           0.038953974323662946,
           -0.15274411760410833,
           0.29100109277727054,
           0.06633531965284262,
           0.17292850877520646,
           0.3452321317863023,
           -0.04815457264068544,
           0.25429906332903723,
           -0.09344986422707176,
           0.4820299442835623,
           0.7858825416364535,
           0.02691958490838415,
           1,
           0.11040733803908562,
           0.14828126418593876,
           -0.1968896890781521,
           0.38667569643848027,
           0.28859444715293475,
           0.32490572801845724,
           0.31968968315435864,
           0.2615043986833805,
           0.10622342939329302
          ],
          [
           -0.22293775570201618,
           0.0479649851125783,
           -0.05259620244165197,
           0.40747531734544745,
           0.34516751941723006,
           0.3309508451545472,
           0.07013822759162582,
           -0.07994928814997322,
           0.7128867533688303,
           -0.03432744915907549,
           0.06889460699706648,
           0.17260617792048957,
           0.11040733803908562,
           1,
           -0.13196370673594826,
           0.19576698274906149,
           0.099831963806131,
           0.18022355568974965,
           0.1598587944014695,
           0.12555954089203167,
           0.1750713081232067,
           0.09380041954379695
          ],
          [
           0.15970134442739778,
           -0.01666695590789988,
           0.19146831112259513,
           -0.0461517859190685,
           0.04453345629487107,
           -0.08379501878024592,
           0.18512299231000692,
           0.2528757933387742,
           -0.08404810274876928,
           0.10754762278775094,
           0.0018310364731186773,
           -0.023078823311561115,
           0.14828126418593876,
           -0.13196370673594826,
           1,
           0.06139855645412414,
           0.2723115578771355,
           0.1960142902569055,
           0.19902386887897125,
           0.21736483543663482,
           0.14112513697996393,
           -0.014846775825126285
          ],
          [
           0.05385344810114894,
           0.053389364863604606,
           0.16206017611718923,
           0.3000406724478305,
           0.28821916236243894,
           -0.08208536560219601,
           0.7542281845837226,
           0.27010560808305495,
           0.565570029162079,
           0.4710319651832938,
           -0.30326637348114505,
           -0.02824128919842652,
           -0.1968896890781521,
           0.19576698274906149,
           0.06139855645412414,
           1,
           0.20566480366557932,
           0.2880894663527059,
           0.2310316122719316,
           0.23662389640496115,
           0.2129895580040338,
           0.006597591846421906
          ],
          [
           0.15225014714130464,
           -0.039671375326612024,
           0.41619724615683845,
           0.34373013551156395,
           0.3694556864027763,
           0.06857917206758755,
           0.36023421182812543,
           0.24298928253092314,
           0.241456529108836,
           0.3565137920263399,
           0.28931961099919484,
           -0.08820980834405952,
           0.38667569643848027,
           0.099831963806131,
           0.2723115578771355,
           0.20566480366557932,
           1,
           0.8556294488178624,
           0.9074330781952731,
           0.9366701917449554,
           0.8705038908535987,
           0.17403328727695824
          ],
          [
           0.15186331089617106,
           -0.04014818537769591,
           0.34913871674655444,
           0.38090775266364507,
           0.3796546130429575,
           0.07094825706471011,
           0.4213314223351959,
           0.18469299563504687,
           0.33185394415509345,
           0.33231063981131787,
           0.20481689880415982,
           -0.08138801604957045,
           0.28859444715293475,
           0.18022355568974965,
           0.1960142902569055,
           0.2880894663527059,
           0.8556294488178624,
           1,
           0.8699784091128824,
           0.850692773780748,
           0.8134435768523877,
           0.1912128716387045
          ],
          [
           0.12598206941186707,
           -0.030159988767699115,
           0.3925173324497407,
           0.35272349117227253,
           0.35560783798624485,
           0.10695047976167632,
           0.345269714916101,
           0.20556912229440716,
           0.25726679730226554,
           0.3157673130128866,
           0.24516869381765807,
           -0.038413240816782185,
           0.32490572801845724,
           0.1598587944014695,
           0.19902386887897125,
           0.2310316122719316,
           0.9074330781952731,
           0.8699784091128824,
           1,
           0.9465200003969034,
           0.9181541750546913,
           0.18563093591002836
          ],
          [
           0.14353895606784678,
           -0.020584683085631696,
           0.3811995105532268,
           0.339885080757951,
           0.34655698907822774,
           0.09202076708070223,
           0.3650548810392072,
           0.20670118168808124,
           0.2533732926955554,
           0.32227711739879933,
           0.24431417862792837,
           -0.05747906971692455,
           0.31968968315435864,
           0.12555954089203167,
           0.21736483543663482,
           0.23662389640496115,
           0.9366701917449554,
           0.850692773780748,
           0.9465200003969034,
           1,
           0.9371015801964362,
           0.1905878550904916
          ],
          [
           0.12680716952199847,
           -0.01896018645395902,
           0.2518383122401136,
           0.289971666247407,
           0.27196911002078644,
           0.1597875128768486,
           0.31382440495783587,
           0.06978876810912928,
           0.26087406999180285,
           0.20729346564619205,
           0.21344859990565876,
           -0.00819874951213658,
           0.2615043986833805,
           0.1750713081232067,
           0.14112513697996393,
           0.2129895580040338,
           0.8705038908535987,
           0.8134435768523877,
           0.9181541750546913,
           0.9371015801964362,
           1,
           0.17651138884966508
          ],
          [
           0.0733103652038086,
           -0.11286823510460021,
           0.14217647481509024,
           0.21982152585628406,
           0.22157176687101618,
           -0.05006181359722321,
           0.03905718011237272,
           0.048345599584645946,
           0.11202585596088833,
           0.048486712925610645,
           0.006642086083797162,
           -0.029680014522977815,
           0.10622342939329302,
           0.09380041954379695,
           -0.014846775825126285,
           0.006597591846421906,
           0.17403328727695824,
           0.1912128716387045,
           0.18563093591002836,
           0.1905878550904916,
           0.17651138884966508,
           1
          ]
         ]
        }
       ],
       "layout": {
        "coloraxis": {
         "colorscale": [
          [
           0,
           "#0d0887"
          ],
          [
           0.1111111111111111,
           "#46039f"
          ],
          [
           0.2222222222222222,
           "#7201a8"
          ],
          [
           0.3333333333333333,
           "#9c179e"
          ],
          [
           0.4444444444444444,
           "#bd3786"
          ],
          [
           0.5555555555555556,
           "#d8576b"
          ],
          [
           0.6666666666666666,
           "#ed7953"
          ],
          [
           0.7777777777777778,
           "#fb9f3a"
          ],
          [
           0.8888888888888888,
           "#fdca26"
          ],
          [
           1,
           "#f0f921"
          ]
         ]
        },
        "template": {
         "data": {
          "bar": [
           {
            "error_x": {
             "color": "#2a3f5f"
            },
            "error_y": {
             "color": "#2a3f5f"
            },
            "marker": {
             "line": {
              "color": "#E5ECF6",
              "width": 0.5
             },
             "pattern": {
              "fillmode": "overlay",
              "size": 10,
              "solidity": 0.2
             }
            },
            "type": "bar"
           }
          ],
          "barpolar": [
           {
            "marker": {
             "line": {
              "color": "#E5ECF6",
              "width": 0.5
             },
             "pattern": {
              "fillmode": "overlay",
              "size": 10,
              "solidity": 0.2
             }
            },
            "type": "barpolar"
           }
          ],
          "carpet": [
           {
            "aaxis": {
             "endlinecolor": "#2a3f5f",
             "gridcolor": "white",
             "linecolor": "white",
             "minorgridcolor": "white",
             "startlinecolor": "#2a3f5f"
            },
            "baxis": {
             "endlinecolor": "#2a3f5f",
             "gridcolor": "white",
             "linecolor": "white",
             "minorgridcolor": "white",
             "startlinecolor": "#2a3f5f"
            },
            "type": "carpet"
           }
          ],
          "choropleth": [
           {
            "colorbar": {
             "outlinewidth": 0,
             "ticks": ""
            },
            "type": "choropleth"
           }
          ],
          "contour": [
           {
            "colorbar": {
             "outlinewidth": 0,
             "ticks": ""
            },
            "colorscale": [
             [
              0,
              "#0d0887"
             ],
             [
              0.1111111111111111,
              "#46039f"
             ],
             [
              0.2222222222222222,
              "#7201a8"
             ],
             [
              0.3333333333333333,
              "#9c179e"
             ],
             [
              0.4444444444444444,
              "#bd3786"
             ],
             [
              0.5555555555555556,
              "#d8576b"
             ],
             [
              0.6666666666666666,
              "#ed7953"
             ],
             [
              0.7777777777777778,
              "#fb9f3a"
             ],
             [
              0.8888888888888888,
              "#fdca26"
             ],
             [
              1,
              "#f0f921"
             ]
            ],
            "type": "contour"
           }
          ],
          "contourcarpet": [
           {
            "colorbar": {
             "outlinewidth": 0,
             "ticks": ""
            },
            "type": "contourcarpet"
           }
          ],
          "heatmap": [
           {
            "colorbar": {
             "outlinewidth": 0,
             "ticks": ""
            },
            "colorscale": [
             [
              0,
              "#0d0887"
             ],
             [
              0.1111111111111111,
              "#46039f"
             ],
             [
              0.2222222222222222,
              "#7201a8"
             ],
             [
              0.3333333333333333,
              "#9c179e"
             ],
             [
              0.4444444444444444,
              "#bd3786"
             ],
             [
              0.5555555555555556,
              "#d8576b"
             ],
             [
              0.6666666666666666,
              "#ed7953"
             ],
             [
              0.7777777777777778,
              "#fb9f3a"
             ],
             [
              0.8888888888888888,
              "#fdca26"
             ],
             [
              1,
              "#f0f921"
             ]
            ],
            "type": "heatmap"
           }
          ],
          "heatmapgl": [
           {
            "colorbar": {
             "outlinewidth": 0,
             "ticks": ""
            },
            "colorscale": [
             [
              0,
              "#0d0887"
             ],
             [
              0.1111111111111111,
              "#46039f"
             ],
             [
              0.2222222222222222,
              "#7201a8"
             ],
             [
              0.3333333333333333,
              "#9c179e"
             ],
             [
              0.4444444444444444,
              "#bd3786"
             ],
             [
              0.5555555555555556,
              "#d8576b"
             ],
             [
              0.6666666666666666,
              "#ed7953"
             ],
             [
              0.7777777777777778,
              "#fb9f3a"
             ],
             [
              0.8888888888888888,
              "#fdca26"
             ],
             [
              1,
              "#f0f921"
             ]
            ],
            "type": "heatmapgl"
           }
          ],
          "histogram": [
           {
            "marker": {
             "pattern": {
              "fillmode": "overlay",
              "size": 10,
              "solidity": 0.2
             }
            },
            "type": "histogram"
           }
          ],
          "histogram2d": [
           {
            "colorbar": {
             "outlinewidth": 0,
             "ticks": ""
            },
            "colorscale": [
             [
              0,
              "#0d0887"
             ],
             [
              0.1111111111111111,
              "#46039f"
             ],
             [
              0.2222222222222222,
              "#7201a8"
             ],
             [
              0.3333333333333333,
              "#9c179e"
             ],
             [
              0.4444444444444444,
              "#bd3786"
             ],
             [
              0.5555555555555556,
              "#d8576b"
             ],
             [
              0.6666666666666666,
              "#ed7953"
             ],
             [
              0.7777777777777778,
              "#fb9f3a"
             ],
             [
              0.8888888888888888,
              "#fdca26"
             ],
             [
              1,
              "#f0f921"
             ]
            ],
            "type": "histogram2d"
           }
          ],
          "histogram2dcontour": [
           {
            "colorbar": {
             "outlinewidth": 0,
             "ticks": ""
            },
            "colorscale": [
             [
              0,
              "#0d0887"
             ],
             [
              0.1111111111111111,
              "#46039f"
             ],
             [
              0.2222222222222222,
              "#7201a8"
             ],
             [
              0.3333333333333333,
              "#9c179e"
             ],
             [
              0.4444444444444444,
              "#bd3786"
             ],
             [
              0.5555555555555556,
              "#d8576b"
             ],
             [
              0.6666666666666666,
              "#ed7953"
             ],
             [
              0.7777777777777778,
              "#fb9f3a"
             ],
             [
              0.8888888888888888,
              "#fdca26"
             ],
             [
              1,
              "#f0f921"
             ]
            ],
            "type": "histogram2dcontour"
           }
          ],
          "mesh3d": [
           {
            "colorbar": {
             "outlinewidth": 0,
             "ticks": ""
            },
            "type": "mesh3d"
           }
          ],
          "parcoords": [
           {
            "line": {
             "colorbar": {
              "outlinewidth": 0,
              "ticks": ""
             }
            },
            "type": "parcoords"
           }
          ],
          "pie": [
           {
            "automargin": true,
            "type": "pie"
           }
          ],
          "scatter": [
           {
            "fillpattern": {
             "fillmode": "overlay",
             "size": 10,
             "solidity": 0.2
            },
            "type": "scatter"
           }
          ],
          "scatter3d": [
           {
            "line": {
             "colorbar": {
              "outlinewidth": 0,
              "ticks": ""
             }
            },
            "marker": {
             "colorbar": {
              "outlinewidth": 0,
              "ticks": ""
             }
            },
            "type": "scatter3d"
           }
          ],
          "scattercarpet": [
           {
            "marker": {
             "colorbar": {
              "outlinewidth": 0,
              "ticks": ""
             }
            },
            "type": "scattercarpet"
           }
          ],
          "scattergeo": [
           {
            "marker": {
             "colorbar": {
              "outlinewidth": 0,
              "ticks": ""
             }
            },
            "type": "scattergeo"
           }
          ],
          "scattergl": [
           {
            "marker": {
             "colorbar": {
              "outlinewidth": 0,
              "ticks": ""
             }
            },
            "type": "scattergl"
           }
          ],
          "scattermapbox": [
           {
            "marker": {
             "colorbar": {
              "outlinewidth": 0,
              "ticks": ""
             }
            },
            "type": "scattermapbox"
           }
          ],
          "scatterpolar": [
           {
            "marker": {
             "colorbar": {
              "outlinewidth": 0,
              "ticks": ""
             }
            },
            "type": "scatterpolar"
           }
          ],
          "scatterpolargl": [
           {
            "marker": {
             "colorbar": {
              "outlinewidth": 0,
              "ticks": ""
             }
            },
            "type": "scatterpolargl"
           }
          ],
          "scatterternary": [
           {
            "marker": {
             "colorbar": {
              "outlinewidth": 0,
              "ticks": ""
             }
            },
            "type": "scatterternary"
           }
          ],
          "surface": [
           {
            "colorbar": {
             "outlinewidth": 0,
             "ticks": ""
            },
            "colorscale": [
             [
              0,
              "#0d0887"
             ],
             [
              0.1111111111111111,
              "#46039f"
             ],
             [
              0.2222222222222222,
              "#7201a8"
             ],
             [
              0.3333333333333333,
              "#9c179e"
             ],
             [
              0.4444444444444444,
              "#bd3786"
             ],
             [
              0.5555555555555556,
              "#d8576b"
             ],
             [
              0.6666666666666666,
              "#ed7953"
             ],
             [
              0.7777777777777778,
              "#fb9f3a"
             ],
             [
              0.8888888888888888,
              "#fdca26"
             ],
             [
              1,
              "#f0f921"
             ]
            ],
            "type": "surface"
           }
          ],
          "table": [
           {
            "cells": {
             "fill": {
              "color": "#EBF0F8"
             },
             "line": {
              "color": "white"
             }
            },
            "header": {
             "fill": {
              "color": "#C8D4E3"
             },
             "line": {
              "color": "white"
             }
            },
            "type": "table"
           }
          ]
         },
         "layout": {
          "annotationdefaults": {
           "arrowcolor": "#2a3f5f",
           "arrowhead": 0,
           "arrowwidth": 1
          },
          "autotypenumbers": "strict",
          "coloraxis": {
           "colorbar": {
            "outlinewidth": 0,
            "ticks": ""
           }
          },
          "colorscale": {
           "diverging": [
            [
             0,
             "#8e0152"
            ],
            [
             0.1,
             "#c51b7d"
            ],
            [
             0.2,
             "#de77ae"
            ],
            [
             0.3,
             "#f1b6da"
            ],
            [
             0.4,
             "#fde0ef"
            ],
            [
             0.5,
             "#f7f7f7"
            ],
            [
             0.6,
             "#e6f5d0"
            ],
            [
             0.7,
             "#b8e186"
            ],
            [
             0.8,
             "#7fbc41"
            ],
            [
             0.9,
             "#4d9221"
            ],
            [
             1,
             "#276419"
            ]
           ],
           "sequential": [
            [
             0,
             "#0d0887"
            ],
            [
             0.1111111111111111,
             "#46039f"
            ],
            [
             0.2222222222222222,
             "#7201a8"
            ],
            [
             0.3333333333333333,
             "#9c179e"
            ],
            [
             0.4444444444444444,
             "#bd3786"
            ],
            [
             0.5555555555555556,
             "#d8576b"
            ],
            [
             0.6666666666666666,
             "#ed7953"
            ],
            [
             0.7777777777777778,
             "#fb9f3a"
            ],
            [
             0.8888888888888888,
             "#fdca26"
            ],
            [
             1,
             "#f0f921"
            ]
           ],
           "sequentialminus": [
            [
             0,
             "#0d0887"
            ],
            [
             0.1111111111111111,
             "#46039f"
            ],
            [
             0.2222222222222222,
             "#7201a8"
            ],
            [
             0.3333333333333333,
             "#9c179e"
            ],
            [
             0.4444444444444444,
             "#bd3786"
            ],
            [
             0.5555555555555556,
             "#d8576b"
            ],
            [
             0.6666666666666666,
             "#ed7953"
            ],
            [
             0.7777777777777778,
             "#fb9f3a"
            ],
            [
             0.8888888888888888,
             "#fdca26"
            ],
            [
             1,
             "#f0f921"
            ]
           ]
          },
          "colorway": [
           "#636efa",
           "#EF553B",
           "#00cc96",
           "#ab63fa",
           "#FFA15A",
           "#19d3f3",
           "#FF6692",
           "#B6E880",
           "#FF97FF",
           "#FECB52"
          ],
          "font": {
           "color": "#2a3f5f"
          },
          "geo": {
           "bgcolor": "white",
           "lakecolor": "white",
           "landcolor": "#E5ECF6",
           "showlakes": true,
           "showland": true,
           "subunitcolor": "white"
          },
          "hoverlabel": {
           "align": "left"
          },
          "hovermode": "closest",
          "mapbox": {
           "style": "light"
          },
          "paper_bgcolor": "white",
          "plot_bgcolor": "#E5ECF6",
          "polar": {
           "angularaxis": {
            "gridcolor": "white",
            "linecolor": "white",
            "ticks": ""
           },
           "bgcolor": "#E5ECF6",
           "radialaxis": {
            "gridcolor": "white",
            "linecolor": "white",
            "ticks": ""
           }
          },
          "scene": {
           "xaxis": {
            "backgroundcolor": "#E5ECF6",
            "gridcolor": "white",
            "gridwidth": 2,
            "linecolor": "white",
            "showbackground": true,
            "ticks": "",
            "zerolinecolor": "white"
           },
           "yaxis": {
            "backgroundcolor": "#E5ECF6",
            "gridcolor": "white",
            "gridwidth": 2,
            "linecolor": "white",
            "showbackground": true,
            "ticks": "",
            "zerolinecolor": "white"
           },
           "zaxis": {
            "backgroundcolor": "#E5ECF6",
            "gridcolor": "white",
            "gridwidth": 2,
            "linecolor": "white",
            "showbackground": true,
            "ticks": "",
            "zerolinecolor": "white"
           }
          },
          "shapedefaults": {
           "line": {
            "color": "#2a3f5f"
           }
          },
          "ternary": {
           "aaxis": {
            "gridcolor": "white",
            "linecolor": "white",
            "ticks": ""
           },
           "baxis": {
            "gridcolor": "white",
            "linecolor": "white",
            "ticks": ""
           },
           "bgcolor": "#E5ECF6",
           "caxis": {
            "gridcolor": "white",
            "linecolor": "white",
            "ticks": ""
           }
          },
          "title": {
           "x": 0.05
          },
          "xaxis": {
           "automargin": true,
           "gridcolor": "white",
           "linecolor": "white",
           "ticks": "",
           "title": {
            "standoff": 15
           },
           "zerolinecolor": "white",
           "zerolinewidth": 2
          },
          "yaxis": {
           "automargin": true,
           "gridcolor": "white",
           "linecolor": "white",
           "ticks": "",
           "title": {
            "standoff": 15
           },
           "zerolinecolor": "white",
           "zerolinewidth": 2
          }
         }
        },
        "title": {
         "text": "Correlation Heat Map"
        },
        "xaxis": {
         "anchor": "y",
         "constrain": "domain",
         "domain": [
          0,
          1
         ],
         "scaleanchor": "y"
        },
        "yaxis": {
         "anchor": "x",
         "autorange": "reversed",
         "constrain": "domain",
         "domain": [
          0,
          1
         ]
        }
       }
      }
     },
     "metadata": {},
     "output_type": "display_data"
    }
   ],
   "source": [
    "columns = df.columns\n",
    "columns_to_keep = [col for col in columns if col not in [\"Name\", \"Beer Name (Full)\",\"Description\"]]\n",
    "dfcorr = df[columns_to_keep]\n",
    "\n",
    "corr = dfcorr.corr()\n",
    "\n",
    "# Use the seaborn library to create a heat map of the correlations\n",
    "fig = px.imshow(corr, title=\"Correlation Heat Map\")\n",
    "fig.show()"
   ]
  },
  {
   "cell_type": "code",
   "execution_count": 991,
   "metadata": {},
   "outputs": [
    {
     "data": {
      "application/vnd.jupyter.widget-view+json": {
       "model_id": "648bc962389d4ceea93e88f6384f0bc6",
       "version_major": 2,
       "version_minor": 0
      },
      "text/plain": [
       "VBox(children=(FigureWidget({\n",
       "    'data': [{'type': 'box',\n",
       "              'uid': 'acd70e30-7698-4fb3-8a89-6af11…"
      ]
     },
     "metadata": {},
     "output_type": "display_data"
    }
   ],
   "source": [
    "\n",
    "function.InteractiveBoxPlot(dfcorr)\n",
    "\n"
   ]
  },
  {
   "attachments": {},
   "cell_type": "markdown",
   "metadata": {},
   "source": [
    "## task 4.1: nonlinearity"
   ]
  },
  {
   "cell_type": "code",
   "execution_count": 992,
   "metadata": {},
   "outputs": [
    {
     "data": {
      "application/vnd.jupyter.widget-view+json": {
       "model_id": "869463e051574153aabc9b9cb52ae2f2",
       "version_major": 2,
       "version_minor": 0
      },
      "text/plain": [
       "VBox(children=(FigureWidget({\n",
       "    'data': [{'customdata': array(['Evil Eye', 'Asahi Honnama Aqua Blue', 'Coron…"
      ]
     },
     "metadata": {},
     "output_type": "display_data"
    }
   ],
   "source": [
    "function.InteractiveScatter(dfcorr , df)"
   ]
  },
  {
   "cell_type": "code",
   "execution_count": 993,
   "metadata": {},
   "outputs": [
    {
     "name": "stdout",
     "output_type": "stream",
     "text": [
      "1407    1.471154\n",
      "758     1.857143\n",
      "1349    1.957602\n",
      "760     2.071429\n",
      "1346    2.159656\n",
      "          ...   \n",
      "1653    4.750000\n",
      "2468    4.500000\n",
      "18      4.500000\n",
      "1670    4.500000\n",
      "1669    4.500000\n",
      "Name: review_overall, Length: 3197, dtype: float64\n"
     ]
    }
   ],
   "source": [
    "print(dfcorr[\"review_overall\"])"
   ]
  },
  {
   "cell_type": "code",
   "execution_count": 994,
   "metadata": {},
   "outputs": [],
   "source": [
    "def is_pos_def(A):\n",
    "    if np.allclose(A, A.T):\n",
    "        try:\n",
    "            np.linalg.cholesky(A)\n",
    "            return True\n",
    "        except np.linalg.LinAlgError:\n",
    "            return False\n",
    "    else:\n",
    "        return False\n",
    "\n",
    "def MahalanobisDist(data, verbose=False):\n",
    "    covariance_matrix = np.cov(data, rowvar=False)\n",
    "    if is_pos_def(covariance_matrix):\n",
    "        inv_covariance_matrix = np.linalg.inv(covariance_matrix)\n",
    "        if is_pos_def(inv_covariance_matrix):\n",
    "            vars_mean = []\n",
    "            for i in range(data.shape[0]):\n",
    "                vars_mean.append(list(data.mean(axis=0)))\n",
    "            diff = data - vars_mean\n",
    "            md = []\n",
    "            for i in range(len(diff)):\n",
    "                md.append(np.sqrt(diff[i].dot(inv_covariance_matrix).dot(diff[i])))\n",
    "\n",
    "            if verbose:\n",
    "                print(\"Covariance Matrix:\\n {}\\n\".format(covariance_matrix))\n",
    "                print(\"Inverse of Covariance Matrix:\\n {}\\n\".format(inv_covariance_matrix))\n",
    "                print(\"Variables Mean Vector:\\n {}\\n\".format(vars_mean))\n",
    "                print(\"Variables - Variables Mean Vector:\\n {}\\n\".format(diff))\n",
    "                print(\"Mahalanobis Distance:\\n {}\\n\".format(md))\n",
    "            return md\n",
    "        else:\n",
    "            print(\"Error: Inverse of Covariance Matrix is not positive definite!\")\n",
    "    else:\n",
    "        print(\"Error: Covariance Matrix is not positive definite!\")\n"
   ]
  },
  {
   "cell_type": "code",
   "execution_count": null,
   "metadata": {},
   "outputs": [],
   "source": []
  },
  {
   "cell_type": "code",
   "execution_count": null,
   "metadata": {},
   "outputs": [],
   "source": []
  },
  {
   "cell_type": "code",
   "execution_count": null,
   "metadata": {},
   "outputs": [],
   "source": []
  },
  {
   "cell_type": "code",
   "execution_count": 995,
   "metadata": {},
   "outputs": [
    {
     "data": {
      "application/vnd.jupyter.widget-view+json": {
       "model_id": "50fdbfd7a2664e20b625c500c9781244",
       "version_major": 2,
       "version_minor": 0
      },
      "text/plain": [
       "VBox(children=(FigureWidget({\n",
       "    'data': [{'customdata': array(['Evil Eye', 'Asahi Honnama Aqua Blue', 'Coron…"
      ]
     },
     "metadata": {},
     "output_type": "display_data"
    }
   ],
   "source": [
    "function.InteractiveScatter(dfcorr , df)"
   ]
  },
  {
   "cell_type": "code",
   "execution_count": null,
   "metadata": {},
   "outputs": [],
   "source": []
  },
  {
   "cell_type": "code",
   "execution_count": 996,
   "metadata": {},
   "outputs": [
    {
     "name": "stdout",
     "output_type": "stream",
     "text": [
      "                            OLS Regression Results                            \n",
      "==============================================================================\n",
      "Dep. Variable:         review_overall   R-squared:                       0.299\n",
      "Model:                            OLS   Adj. R-squared:                  0.294\n",
      "Method:                 Least Squares   F-statistic:                     63.58\n",
      "Date:                Thu, 05 Jan 2023   Prob (F-statistic):          4.81e-181\n",
      "Time:                        15:45:31   Log-Likelihood:                -3156.4\n",
      "No. Observations:                2557   AIC:                             6349.\n",
      "Df Residuals:                    2539   BIC:                             6454.\n",
      "Df Model:                          17                                         \n",
      "Covariance Type:            nonrobust                                         \n",
      "=====================================================================================\n",
      "                        coef    std err          t      P>|t|      [0.025      0.975]\n",
      "-------------------------------------------------------------------------------------\n",
      "const                -0.0033      0.017     -0.202      0.840      -0.036       0.029\n",
      "Style                 0.0552      0.018      3.001      0.003       0.019       0.091\n",
      "Brewery               0.0230      0.017      1.360      0.174      -0.010       0.056\n",
      "ABV                   0.2217      0.024      9.433      0.000       0.176       0.268\n",
      "Min IBU               0.2456      0.035      7.038      0.000       0.177       0.314\n",
      "Max IBU              -0.0713      0.036     -2.000      0.046      -0.141      -0.001\n",
      "Astringency           0.0616      0.025      2.492      0.013       0.013       0.110\n",
      "Body                  0.2063      0.031      6.558      0.000       0.145       0.268\n",
      "Alcohol              -0.2588      0.025    -10.479      0.000      -0.307      -0.210\n",
      "Bitter               -0.0850      0.038     -2.217      0.027      -0.160      -0.010\n",
      "Sweet                -0.1343      0.030     -4.421      0.000      -0.194      -0.075\n",
      "Sour                  0.1319      0.034      3.865      0.000       0.065       0.199\n",
      "Salty                -0.0403      0.019     -2.087      0.037      -0.078      -0.002\n",
      "Fruits                0.2076      0.035      5.848      0.000       0.138       0.277\n",
      "Hoppy                 0.0624      0.032      1.975      0.048       0.000       0.124\n",
      "Spices                0.1041      0.018      5.647      0.000       0.068       0.140\n",
      "Malty                 0.2131      0.034      6.355      0.000       0.147       0.279\n",
      "number_of_reviews     0.0973      0.017      5.724      0.000       0.064       0.131\n",
      "==============================================================================\n",
      "Omnibus:                      272.084   Durbin-Watson:                   1.951\n",
      "Prob(Omnibus):                  0.000   Jarque-Bera (JB):              801.565\n",
      "Skew:                          -0.559   Prob(JB):                    8.76e-175\n",
      "Kurtosis:                       5.504   Cond. No.                         6.18\n",
      "==============================================================================\n",
      "\n",
      "Notes:\n",
      "[1] Standard Errors assume that the covariance matrix of the errors is correctly specified.\n"
     ]
    },
    {
     "name": "stderr",
     "output_type": "stream",
     "text": [
      "/var/folders/gj/3zjx0x1d3x3bj6bfrlgym5fw0000gs/T/ipykernel_7365/3572438837.py:4: SettingWithCopyWarning:\n",
      "\n",
      "\n",
      "A value is trying to be set on a copy of a slice from a DataFrame.\n",
      "Try using .loc[row_indexer,col_indexer] = value instead\n",
      "\n",
      "See the caveats in the documentation: https://pandas.pydata.org/pandas-docs/stable/user_guide/indexing.html#returning-a-view-versus-a-copy\n",
      "\n"
     ]
    }
   ],
   "source": [
    "from statsmodels.multivariate.pca import PCA\n",
    "\n",
    "for col in dfcorr:\n",
    "    dfcorr[col] = (dfcorr[col] - dfcorr[col].mean()) / dfcorr[col].std()\n",
    "\n",
    "from sklearn.linear_model import Ridge\n",
    "clf = Ridge(alpha=0.0)\n",
    "X_train, X_test, y_train, y_test = train_test_split(dfcorr.drop(['review_aroma', 'review_appearance', 'review_palate', 'review_taste', 'review_overall'], axis =1), dfcorr[\"review_overall\"], test_size=0.2)\n",
    "\n",
    "X_train = sm.add_constant(X_train)\n",
    "X_test = sm.add_constant(X_test)\n",
    "res2 = clf.fit(X_train, y_train)\n",
    "\n",
    "mod = sm.OLS(y_train,X_train)\n",
    "res = mod.fit()\n",
    "print(res.summary())"
   ]
  },
  {
   "cell_type": "code",
   "execution_count": 997,
   "metadata": {},
   "outputs": [
    {
     "name": "stdout",
     "output_type": "stream",
     "text": [
      "[0.00280463 0.01091126 0.00588146 ... 0.00620867 0.00614579 0.00225401]\n",
      "0.01329683222526398\n",
      "2557\n",
      "[26, 40, 43, 57, 78, 82, 113, 126, 136, 149, 176, 184, 204, 208, 224, 225, 259, 269, 282, 289, 290, 303, 334, 345, 362, 374, 385, 411, 412, 413, 416, 423, 438, 460, 465, 471, 482, 488, 505, 531, 543, 553, 564, 577, 583, 610, 619, 623, 640, 641, 669, 682, 685, 729, 734, 746, 768, 806, 826, 828, 855, 868, 886, 889, 894, 903, 923, 949, 958, 959, 963, 965, 990, 995, 1003, 1015, 1036, 1055, 1070, 1095, 1101, 1117, 1118, 1123, 1134, 1145, 1167, 1171, 1173, 1247, 1255, 1270, 1281, 1318, 1319, 1345, 1348, 1358, 1364, 1383, 1390, 1402, 1404, 1408, 1410, 1422, 1424, 1451, 1454, 1487, 1494, 1497, 1501, 1503, 1517, 1521, 1524, 1533, 1543, 1552, 1555, 1558, 1559, 1567, 1578, 1588, 1612, 1613, 1621, 1626, 1631, 1647, 1656, 1662, 1672, 1706, 1720, 1727, 1735, 1748, 1775, 1784, 1808, 1815, 1826, 1827, 1834, 1850, 1859, 1860, 1867, 1869, 1877, 1881, 1882, 1883, 1884, 1904, 1910, 1917, 1921, 1924, 1931, 1944, 1950, 1954, 1955, 1982, 2000, 2007, 2011, 2022, 2024, 2036, 2044, 2062, 2063, 2067, 2077, 2081, 2088, 2098, 2121, 2136, 2152, 2160, 2161, 2188, 2205, 2208, 2217, 2239, 2257, 2263, 2271, 2277, 2285, 2302, 2308, 2324, 2327, 2329, 2337, 2342, 2359, 2366, 2369, 2382, 2401, 2403, 2408, 2418, 2420, 2429, 2432, 2439, 2449, 2466, 2472, 2478, 2485, 2497, 2520, 2532, 2534, 2552]\n",
      "226\n"
     ]
    }
   ],
   "source": [
    "clean_df = dfcorr.copy()\n",
    "\n",
    "#for col in clean_df.columns:\n",
    "    # Calculate the Z-score\n",
    "#    z_score = (clean_df[col] - clean_df[col].mean()) / clean_df[col].std()\n",
    "    \n",
    "    # Remove outliers\n",
    "#    clean_df = clean_df[(z_score < 3) & (z_score > -3)]\n",
    "\n",
    "#print(list(clean_df.columns))\n",
    "\n",
    "#md = MahalanobisDist(np.array(clean_df))\n",
    "#print(md)\n",
    "X=np.array(X_train)\n",
    "X_transpose_X = np.dot(X.T, X)\n",
    "\n",
    "# Calculate the inverse of X'X\n",
    "X_transpose_X_inv = np.linalg.inv(X_transpose_X)\n",
    "\n",
    "# Calculate the projection matrix H\n",
    "H = np.dot(X, X_transpose_X_inv)\n",
    "H = np.dot(H , X.T)\n",
    "\n",
    "# Calculate the leverage for each point\n",
    "leverage = np.diagonal(H)\n",
    "\n",
    "threshold = 2 * 17 / len(X_train) \n",
    "\n",
    "print(leverage)\n",
    "print(threshold)\n",
    "print(len(X_train) )\n",
    "X_outliers=[]\n",
    "for i in range (len(leverage)):\n",
    "    if leverage[i] > threshold:\n",
    "        X_outliers.append(i)\n",
    "        \n",
    "print(X_outliers)\n",
    "print(len(X_outliers))"
   ]
  },
  {
   "cell_type": "code",
   "execution_count": 998,
   "metadata": {},
   "outputs": [
    {
     "name": "stdout",
     "output_type": "stream",
     "text": [
      "[-1.53124853e-01 -1.25557832e-04  3.97405139e-01 ...  3.34571756e-01\n",
      "  3.38051081e-01 -5.04257444e-01]\n",
      "1530   -0.153125\n",
      "3186   -0.000126\n",
      "378     0.397405\n",
      "1856   -0.414558\n",
      "1945    0.291558\n",
      "          ...   \n",
      "1659   -0.058835\n",
      "2404   -0.072974\n",
      "1013    0.334572\n",
      "765     0.338051\n",
      "370    -0.504257\n",
      "Length: 2557, dtype: float64\n",
      "Int64Index([1530, 3186,  378, 1856, 1945, 3152, 3019, 1757, 2485, 2850,\n",
      "            ...\n",
      "            1798, 2999, 2910, 1696, 1840, 1659, 2404, 1013,  765,  370],\n",
      "           dtype='int64', length=2557)\n"
     ]
    }
   ],
   "source": [
    "print(np.array(res.resid))\n",
    "print(res.resid)\n",
    "print(res.resid.index)"
   ]
  },
  {
   "cell_type": "code",
   "execution_count": 999,
   "metadata": {},
   "outputs": [
    {
     "name": "stdout",
     "output_type": "stream",
     "text": [
      "1767.8910119663192\n",
      "\n",
      "1.9608987554279835\n",
      "[1639, 1327, 3127, 1667, 1401, 2561, 660, 1353, 2459, 1087, 1355, 2084, 34, 1411, 1352, 2969, 1675, 1678, 894, 2650, 1394, 1708, 982, 1216, 3072, 1392, 772, 1349, 1709, 559, 624, 1032, 771, 600, 1364, 1343, 1386, 1447, 1045, 468, 1698, 1509, 768, 1374, 1680, 1354, 1390, 2694, 2935, 1637, 1402, 1710, 3097, 758, 1151, 1368, 1609, 1701, 1143, 773, 1674, 764, 1083, 1342, 2555, 1351, 800, 3138, 2571, 3076, 532, 591, 1413, 2608, 712, 2422, 2355, 1030, 1373, 545, 3077, 1388, 1849, 2595, 1043, 408, 1407, 1712, 788, 979, 1906, 552, 1174, 1361, 1350, 1237, 1588, 88, 1415, 1360, 1036, 1706, 1606, 1385, 1345, 1321, 297, 1731, 1024, 1042, 1684, 1348, 1144, 1668, 1375, 556, 1714, 1393, 2303, 1363, 775, 1357, 1732, 461, 1252, 1408, 1097, 1234, 299, 1705, 1653, 1673, 1346, 412, 417, 1261, 2396, 927, 1241, 1687, 1250, 747, 1713, 1059, 1324, 1180, 967, 1055, 1365, 298, 184]\n"
     ]
    }
   ],
   "source": [
    "from scipy.stats import t\n",
    "SSE =  np.dot(res.resid.T,res.resid)\n",
    "print(SSE)\n",
    "print()\n",
    "Di_star = []\n",
    "\n",
    "resid = np.array(res.resid)\n",
    "indexes = res.resid.index\n",
    "for i in range (len (y_train)):\n",
    "    \n",
    "    step1 = np.sqrt( (len (y_train) - 17 -1) /(SSE * (1 - leverage[i]) - resid[i]*resid[i] ) )*resid[i]\n",
    "    Di_star.append(np.abs(step1))\n",
    "#print(Di_star)\n",
    "\n",
    "threshold = t.ppf(1-0.05/2, len(y_train)-17-1)\n",
    "print(threshold)\n",
    "\n",
    "notgoot=[]\n",
    "\n",
    "for i in range (len(Di_star)):\n",
    "    if (Di_star[i] > threshold):\n",
    "       notgoot.append(indexes[i]) \n",
    "\n",
    "print(notgoot)"
   ]
  },
  {
   "cell_type": "code",
   "execution_count": 1000,
   "metadata": {},
   "outputs": [
    {
     "name": "stdout",
     "output_type": "stream",
     "text": [
      "[ 184  412  768  894 1036 1055 1345 1348 1364 1390 1402 1408 1588 1706]\n",
      "      const     Style   Brewery       ABV   Min IBU   Max IBU  Astringency  \\\n",
      "1530    1.0 -0.079402 -0.598311 -0.638669 -0.089145 -0.420826     0.430732   \n",
      "3186    1.0  1.681288  0.678402  0.028784  1.043594  0.515710    -0.337711   \n",
      "378     1.0 -1.345863  1.239919  0.303617 -0.466725 -0.186692     0.622843   \n",
      "1856    1.0  0.291270 -0.279133 -0.599407 -0.089145  0.047442     0.430732   \n",
      "1945    1.0  0.353048  1.358133 -0.638669  0.288434  0.047442     0.142566   \n",
      "...     ...       ...       ...       ...       ...       ...          ...   \n",
      "1659    1.0  0.075044 -1.390345 -0.010478 -1.599463 -1.357363     5.041390   \n",
      "2404    1.0  0.878166 -0.698793  0.185832 -0.089145 -0.420826    -0.914043   \n",
      "1013    1.0 -0.604520 -1.502649 -0.795716 -0.240177 -0.654960     2.447895   \n",
      "765     1.0 -0.882524 -1.626774 -0.403097 -1.599463 -1.825631    -1.586431   \n",
      "370     1.0 -1.376753  0.294206 -0.167526 -0.089145 -0.420826    -0.721933   \n",
      "\n",
      "          Body   Alcohol    Bitter     Sweet      Sour     Salty    Fruits  \\\n",
      "1530  0.881403 -0.637919  0.761331  0.021269 -0.563034 -0.476967 -0.387952   \n",
      "3186  0.611631  1.496942  2.816299 -0.007902 -0.171756 -0.476967 -0.233137   \n",
      "378   0.264781  0.342963  0.257282  1.275597  1.030027 -0.476967  2.274863   \n",
      "1856  0.072087  0.227565  0.761331  0.225462 -0.087910 -0.476967 -0.140249   \n",
      "1945 -1.353850 -0.695618 -0.440632 -1.291400 -0.758673  1.867533 -1.007212   \n",
      "...        ...       ...       ...       ...       ...       ...       ...   \n",
      "1659 -0.467457 -0.060930  2.079612  0.021269  4.411789  1.398633  2.615455   \n",
      "2404  0.881403 -0.522521  0.606239 -0.357947 -0.814570 -0.008067 -1.131064   \n",
      "1013 -0.082068 -0.464822  0.838877 -0.649651  0.247471  0.460833  0.138418   \n",
      "765  -1.700700 -0.926414 -1.254865 -1.612274 -0.926364 -0.476967 -1.162027   \n",
      "370  -0.583073 -0.407123 -0.130448  0.196291 -0.004065 -0.476967 -0.078323   \n",
      "\n",
      "         Hoppy    Spices     Malty  number_of_reviews  review_overall  \n",
      "1530  0.199824 -0.561766  1.394888          -0.191494        0.094786  \n",
      "3186  2.732416 -0.056643  0.743412          -0.326924        0.049615  \n",
      "378   0.956313  0.616855  0.041821          -0.561853        0.830869  \n",
      "1856  1.219439 -0.225017  0.668241           1.770851       -0.333072  \n",
      "1945 -0.096193 -0.688047 -0.810110          -0.249536       -0.273804  \n",
      "...        ...       ...       ...                ...             ...  \n",
      "1659  1.943036 -0.056643 -0.484371           0.375098        0.778716  \n",
      "2404 -1.050026  2.553160  1.119263           0.217558        0.380710  \n",
      "1013  0.890531 -0.519672 -0.484371          -0.484464        0.238418  \n",
      "765  -1.214480 -0.772234 -1.787324          -0.636477       -0.932253  \n",
      "370  -0.129084 -0.603859 -0.033349          -0.583964       -0.812891  \n",
      "\n",
      "[2543 rows x 19 columns]\n"
     ]
    }
   ],
   "source": [
    "intersection = np.intersect1d(notgoot, X_outliers) \n",
    "print(intersection)\n",
    "clean_df = X_train.copy()\n",
    "clean_df.drop(index=intersection, axis=0, inplace=True)\n",
    "\n",
    "clean_df[\"review_overall\"] = y_train\n",
    "\n",
    "print(clean_df)"
   ]
  },
  {
   "cell_type": "code",
   "execution_count": 1001,
   "metadata": {},
   "outputs": [
    {
     "data": {
      "application/vnd.jupyter.widget-view+json": {
       "model_id": "522950d66f3d46ef96f3463f55ec57f4",
       "version_major": 2,
       "version_minor": 0
      },
      "text/plain": [
       "VBox(children=(FigureWidget({\n",
       "    'data': [{'customdata': array(['Evil Eye', 'Asahi Honnama Aqua Blue', 'Coron…"
      ]
     },
     "metadata": {},
     "output_type": "display_data"
    }
   ],
   "source": [
    "function.InteractiveScatter(clean_df , df)"
   ]
  },
  {
   "cell_type": "code",
   "execution_count": 1002,
   "metadata": {},
   "outputs": [
    {
     "name": "stdout",
     "output_type": "stream",
     "text": [
      "1530    1.0\n",
      "3186    1.0\n",
      "378     1.0\n",
      "1856    1.0\n",
      "1945    1.0\n",
      "       ... \n",
      "1659    1.0\n",
      "2404    1.0\n",
      "1013    1.0\n",
      "765     1.0\n",
      "370     1.0\n",
      "Name: const, Length: 2543, dtype: float64\n"
     ]
    }
   ],
   "source": [
    "print(clean_df[\"const\"])"
   ]
  },
  {
   "cell_type": "code",
   "execution_count": 1003,
   "metadata": {},
   "outputs": [
    {
     "name": "stdout",
     "output_type": "stream",
     "text": [
      "[1.0019860148706097, 1.2393822758684054, 1.0461457385299595, 2.095397231189815, 4.441850774713523, 4.559301995827224, 2.1697157135942797, 3.6266590770666927, 2.10829700477746, 5.475424372298361, 3.395861914610723, 4.270246416906429, 1.1988164189647126, 4.612105385863586, 3.713394922248029, 1.256912597290033, 4.09573871557984, 1.1029628050879094]\n"
     ]
    }
   ],
   "source": [
    "from statsmodels.stats.outliers_influence import variance_inflation_factor\n",
    "\n",
    "# Load the data into a pandas DataFrame\n",
    "X = clean_df.drop(['review_overall' ],axis =1).values\n",
    "\n",
    "for col in clean_df:\n",
    "    clean_df[col] = (clean_df[col] - clean_df[col].mean()) / clean_df[col].std()\n",
    "# Convert the DataFrame to a matrix\n",
    "\n",
    "# Compute the VIF for each column\n",
    "vif = [variance_inflation_factor(X, i) for i in range(X.shape[1])]\n",
    "\n",
    "# Print the VIF for each column\n",
    "print(vif)"
   ]
  },
  {
   "cell_type": "code",
   "execution_count": 1009,
   "metadata": {},
   "outputs": [],
   "source": [
    "mod = sm.OLS(y_train,X_train).fit()\n",
    "ynewpred = mod.predict(X_test)"
   ]
  },
  {
   "cell_type": "code",
   "execution_count": 1010,
   "metadata": {},
   "outputs": [
    {
     "name": "stdout",
     "output_type": "stream",
     "text": [
      "2500    1.227011\n",
      "1255   -1.034172\n",
      "3145    0.199621\n",
      "1916    0.015869\n",
      "1442   -0.033606\n",
      "          ...   \n",
      "1926   -0.279004\n",
      "633     0.807445\n",
      "270     0.187654\n",
      "1498    0.131012\n",
      "1683   -1.222006\n",
      "Length: 640, dtype: float64\n"
     ]
    }
   ],
   "source": [
    "print(ynewpred)"
   ]
  },
  {
   "cell_type": "code",
   "execution_count": 1012,
   "metadata": {},
   "outputs": [
    {
     "data": {
      "application/vnd.plotly.v1+json": {
       "config": {
        "plotlyServerURL": "https://plot.ly"
       },
       "data": [
        {
         "mode": "lines",
         "type": "scatter",
         "x": [
          -2,
          1,
          2
         ],
         "y": [
          -2,
          1,
          2
         ]
        },
        {
         "mode": "markers",
         "type": "scatter",
         "x": [
          1.2270105262216398,
          -1.034171990188577,
          0.19962106776687127,
          0.01586879114609091,
          -0.033606092615041494,
          -0.12195182740690236,
          0.26409910288516714,
          0.18009417501331954,
          -0.0012763692350878375,
          -0.2181817012811818,
          0.6982947207568068,
          -0.18739797390390722,
          0.2156449549013595,
          0.9289211946335426,
          -1.0490883001029112,
          0.20234799634976036,
          -0.3949211518427904,
          0.2329664944491468,
          0.25986257211891645,
          0.36971174974260773,
          -0.13830128753509088,
          0.633713265966103,
          -0.9193799756908942,
          0.44208151773712545,
          -0.12736672799827498,
          -0.18164874394478553,
          -0.3961847959226245,
          0.22431876173887721,
          -0.04608746315031877,
          1.1672811945401462,
          0.17596703385676277,
          0.27309201624640056,
          0.4791619214641511,
          0.47707831490668456,
          -0.3344602807719749,
          0.8150722130545149,
          -0.12084988116681264,
          1.3209993391115613,
          -0.10892613280301733,
          -0.7888260378985102,
          -0.03957751977356467,
          -0.977001431085879,
          0.20931895698475805,
          0.21319862515433824,
          -0.3207794063603429,
          0.10589703406544995,
          0.6746134762763208,
          -0.11301056001960202,
          0.40497593290276546,
          -0.3824954635284821,
          0.5486083856078887,
          0.03130040699376576,
          -0.16711477468575442,
          0.16150235850561945,
          0.828493287064473,
          0.6854982179766561,
          -1.1190723859307883,
          -0.49464002103633004,
          -0.1143404896843683,
          0.353983276089716,
          -0.2605962137243346,
          -0.0010233417726070726,
          0.39190368430216266,
          0.1745062546799193,
          -0.2455691641010277,
          0.4933868841563074,
          -0.08660662634025487,
          -0.1429998568670544,
          -0.2848938291313634,
          -0.1596012035816355,
          0.01375337304978902,
          -0.0894903983157596,
          -0.07182564663538314,
          0.3948784526424834,
          0.23848217573238284,
          -0.6133794522926324,
          -0.1016212675300746,
          -0.1570240063537,
          -0.7080996626718681,
          0.5213296874115805,
          0.4724522323075234,
          0.1655166345122735,
          -0.4959556257552832,
          0.5574812744495802,
          -0.1357306370382163,
          -0.5107184539151824,
          0.48712497911600233,
          -0.9929630666980835,
          -0.3578796171264671,
          0.09558207269120222,
          -1.6198618021045057,
          -0.7166979941685363,
          0.024111936143415696,
          0.41293989846082796,
          0.08978180021353499,
          -0.32537169459697723,
          -1.1638135649371706,
          0.46257756590520027,
          0.3212279684508347,
          -0.12325441892152017,
          0.2570749027321585,
          0.11478501211568312,
          -0.2507679455416925,
          0.4906315986401069,
          -0.04514472217663901,
          -0.9296737429179591,
          -0.4549445729111699,
          -0.5809206618166406,
          -0.39341488213198317,
          1.5633235386781807,
          1.2475672412066205,
          -0.18079299469718552,
          0.01642992510384656,
          0.3814395727130314,
          -0.34104875595953177,
          -0.8493033838058046,
          0.07808486482924393,
          -0.06560955002343705,
          0.37657248880795985,
          0.3176158659256436,
          0.05123730625262772,
          -0.009474835480376725,
          0.1716254254036199,
          -0.399771058002391,
          -0.286726074032865,
          0.004446309730990028,
          -0.25133181825100065,
          -0.1919036062724937,
          -1.2729147171987616,
          0.4783566474626587,
          1.0269675824477373,
          -0.25768532089241436,
          -0.906295025431214,
          -0.08935283915969053,
          -0.1347566328910887,
          0.09268824732415658,
          -0.6309141679043901,
          0.0379369308799304,
          0.12170412457867535,
          1.235643388173198,
          -0.06850010398426852,
          -0.12985935862117515,
          0.3977704499958353,
          0.4556362219457519,
          -0.038629232572909795,
          0.07247114264267485,
          0.13296255106844265,
          0.017265679569657993,
          -0.9686486514922487,
          -0.165342762817058,
          -0.11018768227427445,
          -0.38496119809964413,
          -0.2081315862826963,
          0.9757265984892054,
          0.31391607319597303,
          0.3449192759527018,
          0.4809742753425495,
          -0.09925502616107007,
          0.54988894809259,
          -0.19564506397716225,
          0.5313615522326378,
          -0.7933296123288169,
          1.016465070836379,
          0.20921999129507857,
          -0.8574682844114546,
          0.031805467509530186,
          -0.1413946395168925,
          -0.3374196139806013,
          -0.1773845004134651,
          0.6529294963595936,
          0.5168867046263441,
          0.5528062487727621,
          0.12640128158551323,
          0.354616462566399,
          -0.00956452082999551,
          0.5244171214430372,
          1.095481553929437,
          1.0726293558876503,
          0.40513108489318944,
          1.4086996797142062,
          0.07998960340106095,
          0.03142160663055754,
          -0.6368349979153902,
          0.013667125337149227,
          -0.6240486398962727,
          0.6883321365411952,
          0.1071924260095651,
          -1.0381726130796798,
          0.6691668479420112,
          0.1250225096324619,
          0.48609219756500094,
          0.20189590197119722,
          0.6490205777447593,
          0.15314822636581055,
          -1.101427725344057,
          0.8512824033903001,
          0.7684436035219198,
          -0.39378899827078095,
          -0.12094867496568454,
          0.22510396341805866,
          0.31546980235463207,
          -0.48362910588850283,
          0.30422551517239704,
          -1.24391623767784,
          0.11469563338507863,
          0.7934928896020588,
          0.06746134821110332,
          0.15725423883623602,
          -0.8535517778496813,
          -0.2487346494823132,
          -0.23194462788237052,
          0.26131939181435904,
          -0.35057381498211376,
          0.5907694269344455,
          -0.8883440891489014,
          0.5757874394153255,
          0.27579797210446677,
          -0.4264306528305752,
          -0.7054988269450102,
          0.2359154811046806,
          -0.053075100986803674,
          -0.6462307891445005,
          0.22525284216657826,
          -0.6910992091572745,
          -0.15035067324819143,
          0.29151510039316686,
          0.10245657959958912,
          1.1831844783196281,
          -0.0659665483515389,
          -0.2912364327505815,
          -0.060355347979877426,
          -0.456561245067286,
          -1.1909089557223407,
          -0.044283312914177114,
          0.1727932478718543,
          0.25864044220828847,
          -1.3024502857335793,
          0.3519315097626238,
          0.016597814525688814,
          -1.008961708926941,
          1.0871513920850424,
          -1.488358138654983,
          0.8429268437679089,
          0.13407115140548487,
          0.7495831192848346,
          -0.23838716209357236,
          0.30393251521586606,
          -0.8557413892761232,
          0.07157803716868422,
          -0.3100273909026577,
          0.033488311306239416,
          0.04610272881872873,
          -0.2674575598932809,
          0.6914361829587998,
          -0.5683960315364228,
          -0.14603927850059967,
          0.749562393153396,
          -0.0260544656896404,
          -0.49799698955378335,
          -0.6515543703342785,
          0.20961068963424012,
          -0.2350611554893665,
          -0.19294836967934598,
          -0.2802747313003468,
          -0.8893915129458692,
          0.13150012882576884,
          0.10508932125623524,
          0.9738073821745707,
          -1.126906665807008,
          0.34174218576840815,
          0.7046173608485508,
          -0.2536600439977657,
          -0.15926966354873726,
          0.16571427421346624,
          -0.13692152197454024,
          0.6494099266136502,
          -0.4071857655815631,
          0.18952728823200915,
          -0.3703991557265532,
          0.4354798633173823,
          0.5825727501690119,
          -0.07040440374015089,
          -0.5196101371493427,
          -0.16496635375667124,
          0.15785684013745974,
          -1.2330225373278343,
          0.48477956723604504,
          -0.13040436685214973,
          -0.1970865199878058,
          -0.8070377140439283,
          -0.3858046985746286,
          0.3881469722875754,
          -0.40965073889654263,
          0.19622194615096195,
          -0.08817844666918684,
          0.7882238464124228,
          -0.35179504453930255,
          -1.0430002808039314,
          1.0311632098132621,
          -0.5111516966488344,
          -0.4278316482094551,
          -0.6013629743960597,
          -0.12135454817381741,
          0.011580488767571062,
          -0.20251511699834746,
          0.5224744388519037,
          0.06742920655181686,
          -0.3060758266253182,
          -0.18560194490056955,
          -0.5346713837059064,
          0.4290754104405139,
          -0.4608338096149285,
          0.20830282368856065,
          -0.7954681187716605,
          -0.0083616028116075,
          0.3042481120206206,
          1.3464624520360264,
          -0.17900807229511312,
          0.2755190729864113,
          -0.3322282698472357,
          0.4152911785820254,
          -0.9091418863575922,
          0.2688349780297862,
          -0.6996229303808164,
          -0.003460175033162899,
          -0.6818638031234461,
          1.193720524588267,
          -0.12418185179150405,
          -0.8587673054001408,
          -0.44125493524404275,
          0.13141171757101408,
          0.8590286842319579,
          -0.32488167946558577,
          -0.12749921282444865,
          -0.3551468057794755,
          -0.0827157911513707,
          0.10597718297586886,
          0.6216906361601072,
          -0.11921085254011884,
          -0.07310153227127364,
          0.4393546878601251,
          -0.11294325642853206,
          0.25478760442142384,
          0.42131571471427953,
          -0.6049281591442053,
          -0.014140568681990262,
          -0.08111709431281325,
          -1.2712672848424564,
          0.13563031565513997,
          0.2208753023603442,
          -0.19644411576961085,
          0.6111869023334793,
          -0.5184670058885602,
          0.2995532342942186,
          -0.6306373799142108,
          0.6014867969032188,
          0.401552048151878,
          0.3179675999878581,
          0.08818172211198769,
          -0.8395802182547681,
          0.0633783181724148,
          0.5196225822245023,
          -0.33452865420201316,
          0.12353861150834006,
          -0.33220510281039084,
          -0.38811943191377846,
          0.10925520340663691,
          -0.35969766697528915,
          -0.07871967427913457,
          -0.03253094223351943,
          0.8352722966103326,
          1.1103383705877459,
          -0.7801431862746726,
          0.7787973592865457,
          -0.19349021420965465,
          -1.2305620654723204,
          -0.1902500082321561,
          -0.9260765949162463,
          -0.6664507327129392,
          -0.09522357311319889,
          -0.11670287269052389,
          -0.9965505152619469,
          -0.10329943061209926,
          0.14124806105682772,
          -0.5319442523038134,
          -0.2555144871751368,
          -0.11160265494755622,
          -0.2209112781717344,
          0.2761877243131631,
          -0.2137441194675233,
          0.2711773815107217,
          0.22229214327737434,
          -0.4112121746376082,
          -0.04477841970565818,
          -0.14880302834640613,
          0.31151425345012856,
          0.11544973484551985,
          0.26236342603101764,
          -1.0249817716102667,
          -0.4811991317649592,
          -0.46256298751651936,
          0.3351179384498963,
          -0.19175324372596927,
          0.504720348664614,
          0.5745973126439874,
          -0.88798435572584,
          0.36557351579906383,
          0.03674199197990277,
          -0.16197030779245786,
          -0.8028250413695204,
          0.6975475712893667,
          0.4374527206813479,
          0.8104116459583628,
          -0.19718555541525584,
          0.33115193488548356,
          1.4528740584779565,
          -0.16513519937511612,
          -0.32781716853228127,
          0.2699148006659617,
          0.3004600144551347,
          0.6099950070889752,
          0.8160412286863177,
          -1.0741647343339547,
          0.044132120376935896,
          -0.08781380792920988,
          0.1810803406099711,
          -0.36199561636147315,
          -1.1498667681544619,
          0.09475062818164073,
          -0.3809427475022399,
          -0.012684759812113838,
          -0.6022984848294819,
          -0.4068717219592941,
          -0.5493020384196714,
          -0.4703207913447459,
          -0.36946157812622077,
          0.2474877761757452,
          -0.41103702217407184,
          0.5153494164683163,
          0.23170424503305945,
          0.08814285025965078,
          0.09600190273522062,
          -0.08816880821299994,
          0.8959281347769237,
          0.007530367267592399,
          0.13822934896552647,
          0.19524638142716383,
          0.35002415288955335,
          -0.23728988034412435,
          -0.8569589920910416,
          0.35916148255539926,
          0.6669379899819518,
          -0.3132935084822165,
          0.6357860208634837,
          -0.3050636083495477,
          0.10172781167826789,
          -0.16209810715821313,
          0.2778559612365545,
          0.1239814555869928,
          -0.007135435450531705,
          -0.08340406325000352,
          0.6030020934619638,
          0.2747870088458263,
          0.5541420629113522,
          0.4249680832712102,
          -0.10013612308546505,
          -0.20335708703071598,
          0.19259946450395973,
          0.05173977643260186,
          0.9455358946474136,
          0.8982872176239027,
          -0.28714602790529253,
          -0.11321375535458772,
          -0.028034982806309602,
          -0.388977822607928,
          0.48286360078809876,
          0.26327215016354755,
          0.07677086476646601,
          0.16106381133347894,
          -0.018126302374082595,
          -1.0341007478175297,
          -0.16304370396744255,
          0.7537832729678043,
          0.28370771760602903,
          -0.03813086776837746,
          0.5126661939554142,
          0.02735904054651757,
          -0.053035709920364445,
          -0.0865368871856925,
          -0.48323127840622504,
          -0.12396525137085973,
          -0.7081653903319719,
          -0.2314381623494951,
          0.02487087321967303,
          -0.34140144500322755,
          -0.006499975510629155,
          -0.14811003518487836,
          -0.22660882872626528,
          -0.23819670306262153,
          0.3102179517547646,
          -0.6468924985938602,
          -0.7769508836795624,
          0.3679273952966049,
          0.4576448562185894,
          0.47052047177065937,
          -1.6421272371592228,
          0.5037918845810949,
          -0.1906940929891109,
          0.9460045026987006,
          0.1262845964621458,
          -0.13250571072684195,
          -0.3604463484365729,
          -0.07067541233108898,
          0.38514758083969947,
          -0.9526665818800876,
          0.5442977834562885,
          -0.13657868146175714,
          -0.5921683544063335,
          -0.20178232759103,
          0.6975807153624769,
          -0.14919088410916406,
          0.4285521217677205,
          0.6511647454401317,
          -0.06635372259402658,
          -1.4851757004722042,
          -1.3766759911719455,
          -0.151651235349135,
          -0.18781240202260185,
          -0.43151934477710696,
          -0.5912506786532815,
          -0.7422900577560663,
          0.21916106914949945,
          -0.0003636017773622491,
          -0.13196489291601626,
          0.5400574189687917,
          0.13724878271580893,
          -0.09190771192515268,
          0.9194763489773948,
          -0.8428417547860634,
          0.522965971455225,
          0.5432594327471479,
          0.8433231846184602,
          -1.0268629330734038,
          -0.10184270771315587,
          0.11465794379679525,
          0.3360965720306431,
          -0.25434376969132977,
          0.020883399354426235,
          -0.3775115797328244,
          0.4355949800267008,
          0.31222888518674785,
          0.12906677699159835,
          0.38768208240954516,
          -0.1088818955789233,
          -0.4731863517986977,
          -0.16075267334973464,
          -0.15566895531894354,
          -0.07202641807960444,
          -1.4136406620631516,
          -0.48117751689090626,
          1.008384239558605,
          0.5987186474976567,
          -0.3726765656209645,
          0.6707534149500396,
          0.6067636546104918,
          0.5433261838672334,
          0.2759496492407645,
          -0.4471873082517784,
          0.31234892763235755,
          -0.4911516678658355,
          0.12364952699237389,
          -0.8998616409290829,
          -1.156605361600753,
          -0.12590722962076328,
          -0.022081179605516484,
          0.968333834196301,
          -0.25201933552747774,
          0.18646408736593884,
          0.013894297702015876,
          -0.014272569514992173,
          0.4340118228649136,
          0.26376285452036075,
          0.6307755707440488,
          -0.4216774048098333,
          -0.8576084466965551,
          0.36185627537795784,
          -0.16643132509358727,
          -0.4131695454437149,
          0.09049357957273804,
          -0.5225730132292978,
          0.24615046143841351,
          -0.2428621540599955,
          0.2405409853594649,
          -0.27586323526649015,
          -0.0744211748778644,
          -0.48215196587718817,
          -0.3188000013029918,
          -0.5397640740874305,
          -0.1536836650511509,
          0.6022978325737037,
          -0.13259902377690316,
          -0.34004504513468187,
          0.532698021109522,
          -0.015427351381031573,
          -0.3609889175461368,
          -0.0903246213292031,
          -0.89071013044291,
          -0.20537815075614824,
          0.4309257856358697,
          -0.5616784266411969,
          -0.9707472791610033,
          0.2351704391132695,
          -0.029848282039866753,
          -0.32529780643243,
          0.7988964212605751,
          0.25551330906124503,
          -0.08749539713855103,
          -0.7238424985622134,
          0.3005249766369693,
          -0.4708739599115132,
          -0.7229595743913111,
          0.08963035813555735,
          0.9390963482814267,
          0.5643512430060438,
          -0.1010264645452531,
          -1.1379984999065518,
          0.2418791240128629,
          -0.010016121921543657,
          -0.465828052508032,
          -0.389542931174631,
          0.3840634381206509,
          -0.24069577769650297,
          0.338066852622143,
          -0.5663690103698593,
          0.8062808932878787,
          -0.2790039903600229,
          0.8074445542268529,
          0.18765371963572627,
          0.13101241106156344,
          -1.222005733647155
         ],
         "y": [
          0.05963052499167832,
          -0.9322528840692181,
          1.4549503485348845,
          0.9702018313668879,
          0.3725536001227672,
          -0.9188539207937964,
          1.1309736351297168,
          0.3144764206509518,
          -0.557120175817117,
          0.2280392651552307,
          0.2756727709166546,
          -0.32038640135342894,
          0.2929318420397745,
          0.17871541479111167,
          -0.8947389380064836,
          0.7247867531314383,
          -0.557120175817117,
          -0.12151769646515233,
          1.0873510402631026,
          1.17085766490302,
          -0.3971811650010223,
          0.4861645643912365,
          -1.1308514939477434,
          0.7098572514674246,
          0.4557361107509837,
          0.3585244151579252,
          -0.890570471689319,
          0.05916911268335333,
          0.9775101521724138,
          0.6145789859858356,
          0.43791659248262804,
          -2.8079119237462287,
          1.0845870679966452,
          1.2162313757495242,
          0.06810025433913598,
          0.5021496873850294,
          0.7296597172657042,
          0.7242713218211624,
          0.27353001717262543,
          -1.682516049781673,
          0.7583415565095657,
          0.005577761165160927,
          -2.0113657273211074,
          0.6307981913214129,
          0.5682756981474388,
          0.17365563494176747,
          1.3810613570338688,
          0.15904124412246406,
          1.1480256334120285,
          0.3609665242044278,
          0.550269364164006,
          0.18297166198644582,
          0.9007784106937622,
          -0.05915726029702784,
          0.22469683940955557,
          1.2031137614425929,
          0.5682756981474388,
          -3.2785322211124748,
          0.24673434141353023,
          0.3224194647293944,
          -0.009360743665844598,
          -0.3848648325563539,
          0.36967708826891355,
          0.6350364321827642,
          1.1984973875675908,
          1.0062460104182251,
          -1.2648681362029386,
          0.5682756981474388,
          -1.4465452937205325,
          0.8832447429773944,
          0.005577761165160927,
          0.6846956505173245,
          -0.6316506429662941,
          -1.9443484030265183,
          -0.32550920337171596,
          -0.557120175817117,
          -1.0005126454086648,
          0.23482540227523696,
          -1.4574368749887616,
          0.4083749507910593,
          1.03222689956457,
          -0.8666040411573703,
          1.6936715721119948,
          0.5797884979380963,
          -1.18234060597337,
          -1.9976268944917488,
          0.9820252404187609,
          -1.7725477196988375,
          0.4706971234994677,
          0.2869267296562999,
          -3.1389111074049363,
          0.19314298989533785,
          0.962164254035033,
          1.249853702880089,
          1.0148620412292986,
          1.0840828906451105,
          -2.8079119237462287,
          0.7761183097347097,
          0.8155769398676549,
          -0.12427491635636506,
          -0.49329222342934353,
          -0.5940174049409187,
          -0.22888046284137065,
          1.2337065228804456,
          0.35864370712056515,
          1.6936715721119948,
          0.15448114004115898,
          -1.5736069894746272,
          0.6548456503562884,
          0.2980726503920445,
          0.398403943347733,
          0.7097424610882802,
          0.2869267296562999,
          0.5839051960450583,
          0.054984890823952984,
          -1.982620865908305,
          -0.019430785946079644,
          -0.08950468543435686,
          0.9313058991709257,
          1.1742586112341427,
          -0.4925202018598039,
          -0.6154494439646998,
          1.0059286487817667,
          -0.181987467565016,
          0.380710469417262,
          0.8669580138893799,
          -0.27577120732597804,
          -0.49573433247584614,
          -3.558175089458684,
          0.8641962924146707,
          0.005577761165160927,
          -1.4228084439468727,
          0.5682756981474388,
          -1.6423236615389032,
          -0.041439027657330145,
          0.09141395526418591,
          0.5682756981474388,
          -1.51020668751896,
          -0.6297262160218146,
          0.6882924157305143,
          0.37827286195425486,
          1.6936715721119948,
          0.693320684495389,
          -0.557120175817117,
          0.3150616265054142,
          1.5686265857640447,
          0.21136539988657216,
          0.005577761165160927,
          -0.557120175817117,
          -0.557120175817117,
          -0.3757041101422824,
          -0.37942691969335773,
          0.6824471095611429,
          1.5998878323510317,
          0.13843749646192072,
          -0.4570859873721557,
          -0.03368054850221855,
          0.8496246666385778,
          1.408446740230922,
          -0.9707279182083187,
          0.005577761165160927,
          -1.4574368749887616,
          -0.6347342276609562,
          -0.3610289479457854,
          -1.6222263420216438,
          1.1309736351297168,
          -0.23557881908320838,
          0.5458803202555444,
          0.5783232325101935,
          0.19628284438369903,
          -0.3242285028671442,
          0.005577761165160927,
          -0.05502030506433462,
          0.2937893936957354,
          -0.06944788016855978,
          1.3185388638598927,
          1.2083828649244959,
          1.0991226811047718,
          -0.557120175817117,
          0.9739786599199131,
          1.243513222526172,
          0.510563146938789,
          -0.557120175817117,
          1.250333121522397,
          1.1309736351297168,
          -0.24450996073899103,
          -0.4852861571819591,
          -1.682516049781673,
          1.236312939724548,
          0.39513804452148815,
          0.3486862044277273,
          -0.6626260390012941,
          0.5682756981474388,
          0.6467360476884998,
          1.6936715721119948,
          0.866174738361101,
          1.3185388638598927,
          -0.09541976614791373,
          -0.181987467565016,
          0.8942106003733066,
          -0.4740997221947521,
          0.7203571949715123,
          0.8952887296205634,
          -3.9844615417659695,
          0.31129605191112825,
          0.535954328647177,
          1.6936715721119948,
          0.6298213477028131,
          -2.52656295525509,
          -4.193015403545585,
          0.005577761165160927,
          0.34368944674732393,
          0.01480150574817428,
          1.0065881307639102,
          1.6936715721119948,
          1.0018299570087887,
          0.32610176002900637,
          0.7777163718757389,
          1.1309736351297168,
          -0.04378210186692401,
          -0.09611526079802409,
          -0.557120175817117,
          0.675064512627935,
          -0.8601105069645948,
          -0.557120175817117,
          -0.15992070526831914,
          0.27322841107840373,
          0.6434881551962378,
          1.351159588662631,
          0.5682756981474388,
          0.18020768971998935,
          -0.36955494708694014,
          -1.682516049781673,
          -0.17956786643599182,
          0.5265932857675397,
          0.5682756981474388,
          -1.682516049781673,
          0.14625224541073042,
          -0.44458058842066184,
          -2.245213986763951,
          0.9962434918904274,
          -2.057648758033774,
          0.5600603082674978,
          1.4890543450995073,
          1.4123226036208558,
          -0.11674826875129059,
          0.7290475019102678,
          -0.007981008324364108,
          -0.1801935865419166,
          -0.5933399166247922,
          -0.2440057833874544,
          0.5866241524765569,
          0.3660150500950328,
          -0.18049744342788654,
          -1.547956966715227,
          0.7714726755669824,
          0.7558409268776148,
          -0.8475443366359062,
          0.7596245078058848,
          0.5682756981474388,
          0.4882082832983569,
          -0.28351393093885396,
          0.9775101521724138,
          0.033915229271588174,
          -2.096772020196278,
          0.2869267296562999,
          1.007454685586862,
          0.8622223480517368,
          -1.0072785254029397,
          -0.17838169918483332,
          0.7414133517733896,
          0.5682756981474388,
          0.005577761165160927,
          -0.6794462057335685,
          -0.8353090326941637,
          0.2869267296562999,
          -0.557120175817117,
          0.8938617276523768,
          -0.5973125640598868,
          0.8496246666385778,
          0.30429383878332056,
          -0.47527238469542316,
          -1.0805598031320156,
          -0.48959642337924414,
          0.12615492589347096,
          -0.557120175817117,
          0.8183634200515908,
          -0.3561559838115184,
          -1.0425844447609551,
          -3.6736001918759844,
          0.5362784426588791,
          0.15146282830718596,
          -0.181987467565016,
          0.021562884158953848,
          0.5281935987003171,
          -0.16114738677094004,
          -0.2350093687709817,
          0.9434084063995409,
          0.9838641372768182,
          0.19314298989533785,
          -1.2418020223701614,
          1.243513222526172,
          0.08729725715722289,
          0.47080065991987285,
          0.7558409268776148,
          1.1212727226961419,
          -0.22612099215840967,
          -0.3525029488046296,
          1.2077053766083685,
          0.5682756981474388,
          0.6174735041736733,
          -1.9922587561729372,
          0.5682756981474388,
          -0.08919182538139396,
          1.0497605672809378,
          0.865353199373106,
          1.2753821828851009,
          -1.963865018272812,
          -0.31596359556874776,
          -0.2646748040086878,
          0.28917752140422875,
          -0.557120175817117,
          0.6865750616268441,
          0.2869267296562999,
          -0.5768641210299512,
          -0.12839836683857184,
          0.7370850792421226,
          0.8087457869126888,
          0.021655166620618848,
          -1.2518788170256403,
          0.2632619052185729,
          0.8197971743950222,
          -0.17270295160480803,
          0.11811734856161613,
          0.49395680542256776,
          0.027644523461857768,
          0.005577761165160927,
          -0.7821993506100284,
          -0.29335439246080014,
          -0.9622626904443575,
          -0.1664570045043053,
          -0.5286296538718303,
          0.15146282830718596,
          -0.08099219104368856,
          -0.5205808225812362,
          1.7973272844793735,
          0.005577761165160927,
          -1.119818112799395,
          -0.098624893596965,
          0.8165245231935316,
          0.13312337714505995,
          0.8156152033273691,
          1.2113584116152563,
          -0.181987467565016,
          -0.8722310205271929,
          0.5682756981474388,
          0.6557167067627367,
          0.3454248071849779,
          1.0069437558600827,
          -3.9333077977107846,
          1.3177038201214122,
          -0.14121212425953214,
          -0.12427491635636506,
          0.17964949336650288,
          0.09310880145037655,
          -1.2982338730742395,
          0.5485745179778153,
          -0.557120175817117,
          0.5138200425980418,
          0.01836675987689456,
          0.6867393694244439,
          0.9438765710831096,
          0.5682756981474388,
          0.980992127006461,
          0.5129287290658623,
          -2.578565247799244,
          0.7903928310000764,
          -0.33204100102420564,
          -2.2963677308191364,
          0.1689424770216038,
          -0.9934991783221179,
          1.3185388638598927,
          -0.18045692917642414,
          0.4956696579427413,
          -1.7125258561568113,
          1.1309736351297168,
          0.5682756981474388,
          1.3185388638598927,
          0.6163706162171878,
          -0.26096324841635266,
          1.4123226036208558,
          0.7245796802906278,
          -0.6549800994335787,
          -0.4305131399961047,
          -1.307383341529572,
          1.1747875472949059,
          -0.2891679198096525,
          0.3160317177487713,
          -1.3783553069252725,
          -1.7825502382266343,
          -1.1901553549221797,
          0.680815285543894,
          -0.557120175817117,
          0.7657691692777305,
          1.1028387382806026,
          -1.119818112799395,
          0.005577761165160927,
          0.9434084063995409,
          -0.08820597859580115,
          -2.705602184844111,
          0.9118185442173543,
          1.3185388638598927,
          0.730073862947323,
          -0.12790994502927092,
          0.7337741645809179,
          1.8963058515945574,
          -1.118857024723029,
          -1.0605862771608925,
          0.22026277966613514,
          0.995926130253971,
          0.3636584711349515,
          0.8230450668872821,
          0.9434084063995409,
          0.33356763625688723,
          0.46479104595290177,
          0.36967708826891355,
          -1.9075952245745844,
          -3.772535993947956,
          -0.366480365559269,
          0.08596253765070128,
          0.5807113225547462,
          -1.3023010537627473,
          0.1252996250292583,
          -0.037707214939263815,
          0.380710469417262,
          1.0421258816719625,
          0.36215044066383906,
          0.3271191178990696,
          0.782636602636712,
          0.7753485389569164,
          0.29662764208987397,
          0.5682756981474388,
          -0.05069203253306667,
          -1.482445422100002,
          -0.4452378196110571,
          0.5004233301143683,
          0.9434084063995409,
          1.6936715721119948,
          0.543595766631396,
          -2.532304725004057,
          1.1131541168613621,
          0.6754561503920754,
          -0.23586466963519534,
          0.7461445160275362,
          -0.4789681847455226,
          0.11416945983574839,
          -0.4681508796049756,
          0.6640536393970661,
          0.15290333502586104,
          -0.8947389380064836,
          -1.5367817856867592,
          0.5959176716037557,
          1.6936715721119948,
          0.20328280671975843,
          0.8460639140933541,
          0.05246850564976834,
          -0.34059400966633635,
          0.5354163894194217,
          -0.4070666423579274,
          0.9702018313668879,
          0.23430096779796913,
          0.9116159729600424,
          0.3636584711349515,
          0.4130475944597596,
          -0.953286532953616,
          1.3721302153780852,
          -0.01317808647033219,
          0.760734148137613,
          0.9434084063995409,
          -0.20282979915083915,
          -2.8079119237462287,
          0.42120671454600256,
          1.0684511419557428,
          0.6647041182122185,
          -0.21950141362775047,
          0.2721187707466745,
          0.25884585180913644,
          -1.2307528856795773,
          1.9590961889865344,
          -1.5802063108795552,
          -0.6491978154331493,
          -0.838469144308256,
          -1.0128582381460554,
          -0.07293885816959803,
          0.33933416471508104,
          -0.4482111155100712,
          0.21892355857611806,
          0.08281142920360088,
          0.9434084063995409,
          0.8496246666385778,
          0.03274256677091712,
          0.4803552708898321,
          1.0184340477332616,
          -0.33586509620393695,
          0.6450839665455207,
          0.6275075337859404,
          0.5142837056981151,
          0.30058453398273366,
          0.5020754112573473,
          0.2869267296562999,
          0.7772774674848933,
          -1.6666659742927556,
          0.04726017354506004,
          1.5686265857640447,
          -0.557120175817117,
          -0.2625545581821381,
          0.5682756981474388,
          0.5682756981474388,
          -0.5805666734552943,
          0.7772774674848933,
          -0.424719602036935,
          0.23065693595807232,
          0.8447381977538244,
          -0.1415902572731841,
          -3.581621587096861,
          -4.054972094853345,
          0.4643926558135186,
          -0.46333643605615493,
          0.4035830151597181,
          -2.564556319960133,
          -0.838469144308256,
          0.3832786228016492,
          -0.26096324841635266,
          -1.4949508210514961,
          0.099361500926123,
          0.11416945983574839,
          0.2052454971239521,
          0.20439694863498314,
          1.1309736351297168,
          0.37104106806815834,
          0.4707871551693854,
          1.110133554335641,
          -2.69231125957259,
          -0.4548104369149992,
          -0.21182846455906013,
          0.5838241675421335,
          0.041192038992643586,
          0.35726397177908464,
          0.171076227598641,
          -0.26830082951460166,
          0.055095179619600934,
          0.8898170548813485,
          1.4474912246822482,
          0.3480897446145257,
          0.26574903010003537,
          -0.6321458171508377,
          -0.1668621470189322,
          0.23065693595807232,
          -3.207245144872064,
          -0.6462132655753949,
          0.08596253765070128,
          0.5682756981474388,
          0.5559075974925689,
          -0.18858003659470027,
          -0.03472941745675319,
          0.24673434141353023,
          0.5435349952542023,
          -0.09745223109629395,
          -0.7148849218047122,
          -1.1459025383661452,
          -0.181987467565016,
          -1.4949508210514961,
          0.005577761165160927,
          0.841587089306723,
          0.9313058991709257,
          0.18084466378465336,
          0.291126707057936,
          -0.8786615325510257,
          0.3444389603993841,
          0.24711922680242593,
          1.386186409843902,
          -0.25701535969048495,
          0.4353799501827122,
          -0.9322528840692181,
          -2.8079119237462287,
          0.3994663170527551,
          0.5126023642624119,
          -1.0072785254029397,
          -0.6182831907753428,
          -1.4413594695333036,
          -1.4145637937742084,
          0.3431965233545275,
          1.1591085319788312,
          1.3185388638598927,
          -1.8157876799683035,
          -0.557120175817117,
          -0.557120175817117,
          -0.6067703909846854,
          0.2819907433530911,
          1.1161094064263923,
          0.5182203404652436,
          -0.38895677195408923,
          0.7370850792421226,
          0.08534807150351671,
          -0.30390610417509234,
          1.0391188238967308,
          0.6541839175823967,
          -0.48209453448339634,
          -1.6366179044579021,
          -2.5178096261473937,
          -2.55102906155508,
          0.6640536393970661,
          -0.024465807086197167,
          -0.29533058761548225,
          0.21457953050261439,
          -0.3461084494487628,
          0.2240891256376147,
          -1.4386810273532684,
          0.509521030359497,
          -1.61009007291681,
          -2.8079119237462287,
          0.5682756981474388,
          -1.6182086787515906,
          0.47317074363044265,
          -0.9322528840692181,
          -2.6263968232344856,
          0.5682756981474388,
          0.2638651174070183,
          -2.0964546585598205,
          -0.8176290635141801,
          0.005577761165160927,
          -0.557120175817117,
          0.3460955431258606,
          -1.4686908337284068,
          0.718194184101754,
          0.4061084035008947,
          0.43460792861317254,
          0.5043329553805209,
          0.5028451820351397,
          -2.743140889616073
         ]
        }
       ],
       "layout": {
        "template": {
         "data": {
          "bar": [
           {
            "error_x": {
             "color": "#2a3f5f"
            },
            "error_y": {
             "color": "#2a3f5f"
            },
            "marker": {
             "line": {
              "color": "#E5ECF6",
              "width": 0.5
             },
             "pattern": {
              "fillmode": "overlay",
              "size": 10,
              "solidity": 0.2
             }
            },
            "type": "bar"
           }
          ],
          "barpolar": [
           {
            "marker": {
             "line": {
              "color": "#E5ECF6",
              "width": 0.5
             },
             "pattern": {
              "fillmode": "overlay",
              "size": 10,
              "solidity": 0.2
             }
            },
            "type": "barpolar"
           }
          ],
          "carpet": [
           {
            "aaxis": {
             "endlinecolor": "#2a3f5f",
             "gridcolor": "white",
             "linecolor": "white",
             "minorgridcolor": "white",
             "startlinecolor": "#2a3f5f"
            },
            "baxis": {
             "endlinecolor": "#2a3f5f",
             "gridcolor": "white",
             "linecolor": "white",
             "minorgridcolor": "white",
             "startlinecolor": "#2a3f5f"
            },
            "type": "carpet"
           }
          ],
          "choropleth": [
           {
            "colorbar": {
             "outlinewidth": 0,
             "ticks": ""
            },
            "type": "choropleth"
           }
          ],
          "contour": [
           {
            "colorbar": {
             "outlinewidth": 0,
             "ticks": ""
            },
            "colorscale": [
             [
              0,
              "#0d0887"
             ],
             [
              0.1111111111111111,
              "#46039f"
             ],
             [
              0.2222222222222222,
              "#7201a8"
             ],
             [
              0.3333333333333333,
              "#9c179e"
             ],
             [
              0.4444444444444444,
              "#bd3786"
             ],
             [
              0.5555555555555556,
              "#d8576b"
             ],
             [
              0.6666666666666666,
              "#ed7953"
             ],
             [
              0.7777777777777778,
              "#fb9f3a"
             ],
             [
              0.8888888888888888,
              "#fdca26"
             ],
             [
              1,
              "#f0f921"
             ]
            ],
            "type": "contour"
           }
          ],
          "contourcarpet": [
           {
            "colorbar": {
             "outlinewidth": 0,
             "ticks": ""
            },
            "type": "contourcarpet"
           }
          ],
          "heatmap": [
           {
            "colorbar": {
             "outlinewidth": 0,
             "ticks": ""
            },
            "colorscale": [
             [
              0,
              "#0d0887"
             ],
             [
              0.1111111111111111,
              "#46039f"
             ],
             [
              0.2222222222222222,
              "#7201a8"
             ],
             [
              0.3333333333333333,
              "#9c179e"
             ],
             [
              0.4444444444444444,
              "#bd3786"
             ],
             [
              0.5555555555555556,
              "#d8576b"
             ],
             [
              0.6666666666666666,
              "#ed7953"
             ],
             [
              0.7777777777777778,
              "#fb9f3a"
             ],
             [
              0.8888888888888888,
              "#fdca26"
             ],
             [
              1,
              "#f0f921"
             ]
            ],
            "type": "heatmap"
           }
          ],
          "heatmapgl": [
           {
            "colorbar": {
             "outlinewidth": 0,
             "ticks": ""
            },
            "colorscale": [
             [
              0,
              "#0d0887"
             ],
             [
              0.1111111111111111,
              "#46039f"
             ],
             [
              0.2222222222222222,
              "#7201a8"
             ],
             [
              0.3333333333333333,
              "#9c179e"
             ],
             [
              0.4444444444444444,
              "#bd3786"
             ],
             [
              0.5555555555555556,
              "#d8576b"
             ],
             [
              0.6666666666666666,
              "#ed7953"
             ],
             [
              0.7777777777777778,
              "#fb9f3a"
             ],
             [
              0.8888888888888888,
              "#fdca26"
             ],
             [
              1,
              "#f0f921"
             ]
            ],
            "type": "heatmapgl"
           }
          ],
          "histogram": [
           {
            "marker": {
             "pattern": {
              "fillmode": "overlay",
              "size": 10,
              "solidity": 0.2
             }
            },
            "type": "histogram"
           }
          ],
          "histogram2d": [
           {
            "colorbar": {
             "outlinewidth": 0,
             "ticks": ""
            },
            "colorscale": [
             [
              0,
              "#0d0887"
             ],
             [
              0.1111111111111111,
              "#46039f"
             ],
             [
              0.2222222222222222,
              "#7201a8"
             ],
             [
              0.3333333333333333,
              "#9c179e"
             ],
             [
              0.4444444444444444,
              "#bd3786"
             ],
             [
              0.5555555555555556,
              "#d8576b"
             ],
             [
              0.6666666666666666,
              "#ed7953"
             ],
             [
              0.7777777777777778,
              "#fb9f3a"
             ],
             [
              0.8888888888888888,
              "#fdca26"
             ],
             [
              1,
              "#f0f921"
             ]
            ],
            "type": "histogram2d"
           }
          ],
          "histogram2dcontour": [
           {
            "colorbar": {
             "outlinewidth": 0,
             "ticks": ""
            },
            "colorscale": [
             [
              0,
              "#0d0887"
             ],
             [
              0.1111111111111111,
              "#46039f"
             ],
             [
              0.2222222222222222,
              "#7201a8"
             ],
             [
              0.3333333333333333,
              "#9c179e"
             ],
             [
              0.4444444444444444,
              "#bd3786"
             ],
             [
              0.5555555555555556,
              "#d8576b"
             ],
             [
              0.6666666666666666,
              "#ed7953"
             ],
             [
              0.7777777777777778,
              "#fb9f3a"
             ],
             [
              0.8888888888888888,
              "#fdca26"
             ],
             [
              1,
              "#f0f921"
             ]
            ],
            "type": "histogram2dcontour"
           }
          ],
          "mesh3d": [
           {
            "colorbar": {
             "outlinewidth": 0,
             "ticks": ""
            },
            "type": "mesh3d"
           }
          ],
          "parcoords": [
           {
            "line": {
             "colorbar": {
              "outlinewidth": 0,
              "ticks": ""
             }
            },
            "type": "parcoords"
           }
          ],
          "pie": [
           {
            "automargin": true,
            "type": "pie"
           }
          ],
          "scatter": [
           {
            "fillpattern": {
             "fillmode": "overlay",
             "size": 10,
             "solidity": 0.2
            },
            "type": "scatter"
           }
          ],
          "scatter3d": [
           {
            "line": {
             "colorbar": {
              "outlinewidth": 0,
              "ticks": ""
             }
            },
            "marker": {
             "colorbar": {
              "outlinewidth": 0,
              "ticks": ""
             }
            },
            "type": "scatter3d"
           }
          ],
          "scattercarpet": [
           {
            "marker": {
             "colorbar": {
              "outlinewidth": 0,
              "ticks": ""
             }
            },
            "type": "scattercarpet"
           }
          ],
          "scattergeo": [
           {
            "marker": {
             "colorbar": {
              "outlinewidth": 0,
              "ticks": ""
             }
            },
            "type": "scattergeo"
           }
          ],
          "scattergl": [
           {
            "marker": {
             "colorbar": {
              "outlinewidth": 0,
              "ticks": ""
             }
            },
            "type": "scattergl"
           }
          ],
          "scattermapbox": [
           {
            "marker": {
             "colorbar": {
              "outlinewidth": 0,
              "ticks": ""
             }
            },
            "type": "scattermapbox"
           }
          ],
          "scatterpolar": [
           {
            "marker": {
             "colorbar": {
              "outlinewidth": 0,
              "ticks": ""
             }
            },
            "type": "scatterpolar"
           }
          ],
          "scatterpolargl": [
           {
            "marker": {
             "colorbar": {
              "outlinewidth": 0,
              "ticks": ""
             }
            },
            "type": "scatterpolargl"
           }
          ],
          "scatterternary": [
           {
            "marker": {
             "colorbar": {
              "outlinewidth": 0,
              "ticks": ""
             }
            },
            "type": "scatterternary"
           }
          ],
          "surface": [
           {
            "colorbar": {
             "outlinewidth": 0,
             "ticks": ""
            },
            "colorscale": [
             [
              0,
              "#0d0887"
             ],
             [
              0.1111111111111111,
              "#46039f"
             ],
             [
              0.2222222222222222,
              "#7201a8"
             ],
             [
              0.3333333333333333,
              "#9c179e"
             ],
             [
              0.4444444444444444,
              "#bd3786"
             ],
             [
              0.5555555555555556,
              "#d8576b"
             ],
             [
              0.6666666666666666,
              "#ed7953"
             ],
             [
              0.7777777777777778,
              "#fb9f3a"
             ],
             [
              0.8888888888888888,
              "#fdca26"
             ],
             [
              1,
              "#f0f921"
             ]
            ],
            "type": "surface"
           }
          ],
          "table": [
           {
            "cells": {
             "fill": {
              "color": "#EBF0F8"
             },
             "line": {
              "color": "white"
             }
            },
            "header": {
             "fill": {
              "color": "#C8D4E3"
             },
             "line": {
              "color": "white"
             }
            },
            "type": "table"
           }
          ]
         },
         "layout": {
          "annotationdefaults": {
           "arrowcolor": "#2a3f5f",
           "arrowhead": 0,
           "arrowwidth": 1
          },
          "autotypenumbers": "strict",
          "coloraxis": {
           "colorbar": {
            "outlinewidth": 0,
            "ticks": ""
           }
          },
          "colorscale": {
           "diverging": [
            [
             0,
             "#8e0152"
            ],
            [
             0.1,
             "#c51b7d"
            ],
            [
             0.2,
             "#de77ae"
            ],
            [
             0.3,
             "#f1b6da"
            ],
            [
             0.4,
             "#fde0ef"
            ],
            [
             0.5,
             "#f7f7f7"
            ],
            [
             0.6,
             "#e6f5d0"
            ],
            [
             0.7,
             "#b8e186"
            ],
            [
             0.8,
             "#7fbc41"
            ],
            [
             0.9,
             "#4d9221"
            ],
            [
             1,
             "#276419"
            ]
           ],
           "sequential": [
            [
             0,
             "#0d0887"
            ],
            [
             0.1111111111111111,
             "#46039f"
            ],
            [
             0.2222222222222222,
             "#7201a8"
            ],
            [
             0.3333333333333333,
             "#9c179e"
            ],
            [
             0.4444444444444444,
             "#bd3786"
            ],
            [
             0.5555555555555556,
             "#d8576b"
            ],
            [
             0.6666666666666666,
             "#ed7953"
            ],
            [
             0.7777777777777778,
             "#fb9f3a"
            ],
            [
             0.8888888888888888,
             "#fdca26"
            ],
            [
             1,
             "#f0f921"
            ]
           ],
           "sequentialminus": [
            [
             0,
             "#0d0887"
            ],
            [
             0.1111111111111111,
             "#46039f"
            ],
            [
             0.2222222222222222,
             "#7201a8"
            ],
            [
             0.3333333333333333,
             "#9c179e"
            ],
            [
             0.4444444444444444,
             "#bd3786"
            ],
            [
             0.5555555555555556,
             "#d8576b"
            ],
            [
             0.6666666666666666,
             "#ed7953"
            ],
            [
             0.7777777777777778,
             "#fb9f3a"
            ],
            [
             0.8888888888888888,
             "#fdca26"
            ],
            [
             1,
             "#f0f921"
            ]
           ]
          },
          "colorway": [
           "#636efa",
           "#EF553B",
           "#00cc96",
           "#ab63fa",
           "#FFA15A",
           "#19d3f3",
           "#FF6692",
           "#B6E880",
           "#FF97FF",
           "#FECB52"
          ],
          "font": {
           "color": "#2a3f5f"
          },
          "geo": {
           "bgcolor": "white",
           "lakecolor": "white",
           "landcolor": "#E5ECF6",
           "showlakes": true,
           "showland": true,
           "subunitcolor": "white"
          },
          "hoverlabel": {
           "align": "left"
          },
          "hovermode": "closest",
          "mapbox": {
           "style": "light"
          },
          "paper_bgcolor": "white",
          "plot_bgcolor": "#E5ECF6",
          "polar": {
           "angularaxis": {
            "gridcolor": "white",
            "linecolor": "white",
            "ticks": ""
           },
           "bgcolor": "#E5ECF6",
           "radialaxis": {
            "gridcolor": "white",
            "linecolor": "white",
            "ticks": ""
           }
          },
          "scene": {
           "xaxis": {
            "backgroundcolor": "#E5ECF6",
            "gridcolor": "white",
            "gridwidth": 2,
            "linecolor": "white",
            "showbackground": true,
            "ticks": "",
            "zerolinecolor": "white"
           },
           "yaxis": {
            "backgroundcolor": "#E5ECF6",
            "gridcolor": "white",
            "gridwidth": 2,
            "linecolor": "white",
            "showbackground": true,
            "ticks": "",
            "zerolinecolor": "white"
           },
           "zaxis": {
            "backgroundcolor": "#E5ECF6",
            "gridcolor": "white",
            "gridwidth": 2,
            "linecolor": "white",
            "showbackground": true,
            "ticks": "",
            "zerolinecolor": "white"
           }
          },
          "shapedefaults": {
           "line": {
            "color": "#2a3f5f"
           }
          },
          "ternary": {
           "aaxis": {
            "gridcolor": "white",
            "linecolor": "white",
            "ticks": ""
           },
           "baxis": {
            "gridcolor": "white",
            "linecolor": "white",
            "ticks": ""
           },
           "bgcolor": "#E5ECF6",
           "caxis": {
            "gridcolor": "white",
            "linecolor": "white",
            "ticks": ""
           }
          },
          "title": {
           "x": 0.05
          },
          "xaxis": {
           "automargin": true,
           "gridcolor": "white",
           "linecolor": "white",
           "ticks": "",
           "title": {
            "standoff": 15
           },
           "zerolinecolor": "white",
           "zerolinewidth": 2
          },
          "yaxis": {
           "automargin": true,
           "gridcolor": "white",
           "linecolor": "white",
           "ticks": "",
           "title": {
            "standoff": 15
           },
           "zerolinecolor": "white",
           "zerolinewidth": 2
          }
         }
        },
        "xaxis": {
         "title": {
          "text": "prediction"
         }
        },
        "yaxis": {
         "title": {
          "text": "y_test"
         }
        }
       }
      }
     },
     "metadata": {},
     "output_type": "display_data"
    }
   ],
   "source": [
    "fig = go.Figure()\n",
    "fig.add_trace(go.Scatter(\n",
    "    x=[-2,1, 2 ],  # x values\n",
    "    y=[-2,1, 2],  # y values\n",
    "    mode='lines'  # set the trace type to markers\n",
    "))\n",
    "fig.add_trace(go.Scatter(\n",
    "    x=ynewpred , y=y_test,  # y values\n",
    "    mode='markers'  # set the trace type to markers\n",
    "))\n",
    "\n",
    "\n",
    "fig.update_layout(\n",
    "    xaxis=dict(\n",
    "        title='prediction'\n",
    "    ),\n",
    "    yaxis=dict(\n",
    "        title='y_test'\n",
    "    )\n",
    ")\n",
    "fig.show()\n"
   ]
  },
  {
   "cell_type": "code",
   "execution_count": null,
   "metadata": {},
   "outputs": [
    {
     "name": "stdout",
     "output_type": "stream",
     "text": [
      "3.9209709085363333\n"
     ]
    }
   ],
   "source": [
    "from sklearn.metrics import mean_squared_error, mean_absolute_error\n",
    "\n",
    "# Calculate the RMSE of the predictions\n",
    "rmse = np.sqrt(mean_squared_error(y_test, ynewpred))\n",
    "print(rmse)"
   ]
  },
  {
   "cell_type": "code",
   "execution_count": 1013,
   "metadata": {},
   "outputs": [
    {
     "data": {
      "text/plain": [
       "<matplotlib.legend.Legend at 0x1436e5690>"
      ]
     },
     "execution_count": 1013,
     "metadata": {},
     "output_type": "execute_result"
    },
    {
     "data": {
      "image/png": "[encoded data removed]",
      "text/plain": [
       "<Figure size 640x480 with 1 Axes>"
      ]
     },
     "metadata": {},
     "output_type": "display_data"
    }
   ],
   "source": [
    "fig, ax = plt.subplots()\n",
    "#ax.plot(X_train[\"ABV\"], y_train, \"o\", label=\"Data\")\n",
    "ax.plot(X_test[\"Alcohol\"], ynewpred, \"o\", label=\"prediction\")\n",
    "\n",
    "ax.plot(X_test[\"Alcohol\"], y_test, \"o\", label=\"True\")\n",
    "#ax.plot(np.hstack((X_train, X_test)), np.hstack((res.predict(X_train), ynewpred)), \"r\", label=\"OLS prediction\")\n",
    "ax.legend(loc=\"best\")"
   ]
  },
  {
   "cell_type": "code",
   "execution_count": null,
   "metadata": {},
   "outputs": [],
   "source": []
  }
 ],
 "metadata": {
  "kernelspec": {
   "display_name": "Python 3.10.0 64-bit ('3.10.0')",
   "language": "python",
   "name": "python3"
  },
  "language_info": {
   "codemirror_mode": {
    "name": "ipython",
    "version": 3
   },
   "file_extension": ".py",
   "mimetype": "text/x-python",
   "name": "python",
   "nbconvert_exporter": "python",
   "pygments_lexer": "ipython3",
   "version": "3.10.0"
  },
  "orig_nbformat": 4,
  "vscode": {
   "interpreter": {
    "hash": "79723628322897b9239260c86940c93094c84297f20f0a5bf49d580823e5a9d1"
   }
  }
 },
 "nbformat": 4,
 "nbformat_minor": 2
}
